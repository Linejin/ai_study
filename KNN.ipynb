{
  "nbformat": 4,
  "nbformat_minor": 0,
  "metadata": {
    "colab": {
      "name": "KNN.ipynb",
      "provenance": [],
      "toc_visible": true,
      "authorship_tag": "ABX9TyO+z9slZpPVvR7+X7JnBlzZ",
      "include_colab_link": true
    },
    "kernelspec": {
      "name": "python3",
      "display_name": "Python 3"
    }
  },
  "cells": [
    {
      "cell_type": "markdown",
      "metadata": {
        "id": "view-in-github",
        "colab_type": "text"
      },
      "source": [
        "<a href=\"https://colab.research.google.com/github/linejin/ai_study/blob/master/KNN.ipynb\" target=\"_parent\"><img src=\"https://colab.research.google.com/assets/colab-badge.svg\" alt=\"Open In Colab\"/></a>"
      ]
    },
    {
      "cell_type": "code",
      "metadata": {
        "colab": {
          "base_uri": "https://localhost:8080/"
        },
        "id": "4e2hn_UupTCO",
        "outputId": "728c4f7b-600c-4948-bd9a-b226e806060a"
      },
      "source": [
        "#@title hidden setting code {display-mode: \"form\"}\r\n",
        "\r\n",
        "#@markdown 이 부분을 실행시켜주세요{display-mode: \"form\"}\r\n",
        "\r\n",
        "# This document is made by Choi Sejin\r\n",
        "\r\n",
        "\r\n",
        "\r\n",
        "# This code will be hidden when the notebook is loaded.\r\n",
        "!pip install --upgrade -q gspread\r\n",
        "\r\n",
        "\r\n",
        "# using for google sheet\r\n",
        "\"\"\"\r\n",
        "from google.colab import auth\r\n",
        "auth.authenticate_user()\r\n",
        "\r\n",
        "import gspread\r\n",
        "from oauth2client.client import GoogleCredentials\r\n",
        "\r\n",
        "gc = gspread.authorize(GoogleCredentials.get_application_default())\r\n",
        "\r\n",
        "# Open our new sheet and read some data.\r\n",
        "worksheet = gc.open('A new spreadsheet').sheet1\r\n",
        "\r\n",
        "# get_all_values gives a list of rows.\r\n",
        "rows = worksheet.get_all_values()\r\n",
        "print(rows)\r\n",
        "\r\n",
        "# Convert to a DataFrame and render.\r\n",
        "import pandas as pd\r\n",
        "pd.DataFrame.from_records(rows)\r\n",
        "\"\"\"\r\n",
        "!git clone https://github.com/linejin/ai_study\r\n",
        "print(\"Cloneing Ready\")\r\n",
        "\r\n"
      ],
      "execution_count": null,
      "outputs": [
        {
          "output_type": "stream",
          "text": [
            "fatal: destination path 'ai_study' already exists and is not an empty directory.\n",
            "Cloneing Ready\n"
          ],
          "name": "stdout"
        }
      ]
    },
    {
      "cell_type": "markdown",
      "metadata": {
        "id": "Gz2FDGt9GCQY"
      },
      "source": [
        "# Pytorch 설치"
      ]
    },
    {
      "cell_type": "markdown",
      "metadata": {
        "id": "cMXWD11gGKfX"
      },
      "source": [
        "#####설치 pip"
      ]
    },
    {
      "cell_type": "code",
      "metadata": {
        "id": "J8JI_HjqD_-8",
        "colab": {
          "base_uri": "https://localhost:8080/"
        },
        "outputId": "52db1d0d-c106-4687-b4cf-ae06f5a7dc35"
      },
      "source": [
        "pip install torch torchvision"
      ],
      "execution_count": null,
      "outputs": [
        {
          "output_type": "stream",
          "text": [
            "Requirement already satisfied: torch in /usr/local/lib/python3.6/dist-packages (1.7.0+cu101)\n",
            "Requirement already satisfied: torchvision in /usr/local/lib/python3.6/dist-packages (0.8.1+cu101)\n",
            "Requirement already satisfied: dataclasses in /usr/local/lib/python3.6/dist-packages (from torch) (0.8)\n",
            "Requirement already satisfied: future in /usr/local/lib/python3.6/dist-packages (from torch) (0.16.0)\n",
            "Requirement already satisfied: numpy in /usr/local/lib/python3.6/dist-packages (from torch) (1.19.4)\n",
            "Requirement already satisfied: typing-extensions in /usr/local/lib/python3.6/dist-packages (from torch) (3.7.4.3)\n",
            "Requirement already satisfied: pillow>=4.1.1 in /usr/local/lib/python3.6/dist-packages (from torchvision) (7.0.0)\n"
          ],
          "name": "stdout"
        }
      ]
    },
    {
      "cell_type": "markdown",
      "metadata": {
        "id": "FKVcXOhqGQyG"
      },
      "source": [
        "##### 설치 확인\r\n",
        "\r\n",
        "Pytorch 공식 예제"
      ]
    },
    {
      "cell_type": "code",
      "metadata": {
        "id": "Lan2XXR5FhUf"
      },
      "source": [
        "# -*- coding: utf-8 -*-\r\n",
        "import numpy as np\r\n",
        "\r\n",
        "# N은 배치 크기이며, D_in은 입력의 차원입니다;\r\n",
        "# H는 은닉층의 차원이며, D_out은 출력 차원입니다.\r\n",
        "N, D_in, H, D_out = 64, 1000, 100, 10\r\n",
        "\r\n",
        "# 무작위의 입력과 출력 데이터를 생성합니다.\r\n",
        "x = np.random.randn(N, D_in)\r\n",
        "y = np.random.randn(N, D_out)\r\n",
        "\r\n",
        "# 무작위로 가중치를 초기화합니다.\r\n",
        "w1 = np.random.randn(D_in, H)\r\n",
        "w2 = np.random.randn(H, D_out)\r\n",
        "\r\n",
        "learning_rate = 1e-6\r\n",
        "for t in range(500):\r\n",
        "    # 순전파 단계: 예측값 y를 계산합니다.\r\n",
        "    h = x.dot(w1)\r\n",
        "    h_relu = np.maximum(h, 0)\r\n",
        "    y_pred = h_relu.dot(w2)\r\n",
        "\r\n",
        "    # 손실(loss)을 계산하고 출력합니다.\r\n",
        "    loss = np.square(y_pred - y).sum()\r\n",
        "    print(t, loss)\r\n",
        "\r\n",
        "    # 손실에 따른 w1, w2의 변화도를 계산하고 역전파합니다.\r\n",
        "    grad_y_pred = 2.0 * (y_pred - y)\r\n",
        "    grad_w2 = h_relu.T.dot(grad_y_pred)\r\n",
        "    grad_h_relu = grad_y_pred.dot(w2.T)\r\n",
        "    grad_h = grad_h_relu.copy()\r\n",
        "    grad_h[h < 0] = 0\r\n",
        "    grad_w1 = x.T.dot(grad_h)\r\n",
        "\r\n",
        "    # 가중치를 갱신합니다.\r\n",
        "    w1 -= learning_rate * grad_w1\r\n",
        "    w2 -= learning_rate * grad_w2"
      ],
      "execution_count": null,
      "outputs": []
    },
    {
      "cell_type": "code",
      "metadata": {
        "id": "2m1jiPZpJ7Sf"
      },
      "source": [
        "# -*- coding: utf-8 -*-\r\n",
        "\r\n",
        "import torch\r\n",
        "\r\n",
        "\r\n",
        "dtype = torch.FloatTensor\r\n",
        "# dtype = torch.cuda.FloatTensor # GPU에서 실행하려면 이 주석을 제거하세요.\r\n",
        "\r\n",
        "# N은 배치 크기이며, D_in은 입력의 차원입니다;\r\n",
        "# H는 은닉 계층의 차원이며, D_out은 출력 차원입니다:\r\n",
        "N, D_in, H, D_out = 64, 1000, 100, 10\r\n",
        "\r\n",
        "# 무작위의 입력과 출력 데이터를 생성합니다.\r\n",
        "x = torch.randn(N, D_in).type(dtype)\r\n",
        "y = torch.randn(N, D_out).type(dtype)\r\n",
        "\r\n",
        "# 무작위로 가중치를 초기화합니다.\r\n",
        "w1 = torch.randn(D_in, H).type(dtype)\r\n",
        "w2 = torch.randn(H, D_out).type(dtype)\r\n",
        "\r\n",
        "learning_rate = 1e-6\r\n",
        "for t in range(500):\r\n",
        "    # 순전파 단계: 예측값 y를 계산합니다.\r\n",
        "    h = x.mm(w1)\r\n",
        "    h_relu = h.clamp(min=0)\r\n",
        "    y_pred = h_relu.mm(w2)\r\n",
        "\r\n",
        "    # 손실(loss)을 계산하고 출력합니다.\r\n",
        "    loss = (y_pred - y).pow(2).sum()\r\n",
        "    print(t, loss)\r\n",
        "\r\n",
        "    # 손실에 따른 w1, w2의 변화도를 계산하고 역전파합니다.\r\n",
        "    grad_y_pred = 2.0 * (y_pred - y)\r\n",
        "    grad_w2 = h_relu.t().mm(grad_y_pred)\r\n",
        "    grad_h_relu = grad_y_pred.mm(w2.t())\r\n",
        "    grad_h = grad_h_relu.clone()\r\n",
        "    grad_h[h < 0] = 0\r\n",
        "    grad_w1 = x.t().mm(grad_h)\r\n",
        "\r\n",
        "    # 경사하강법(Gradient Descent)를 사용하여 가중치를 갱신합니다.\r\n",
        "    w1 -= learning_rate * grad_w1\r\n",
        "    w2 -= learning_rate * grad_w2"
      ],
      "execution_count": null,
      "outputs": []
    },
    {
      "cell_type": "markdown",
      "metadata": {
        "id": "97dK3NXEGlal"
      },
      "source": [
        "# 참고 자료"
      ]
    },
    {
      "cell_type": "markdown",
      "metadata": {
        "id": "e0VICA2Qjfnc"
      },
      "source": [
        "Pytorch 공식 문서 https://tutorials.pytorch.kr/beginner/blitz/tensor_tutorial.html\r\n",
        "\r\n",
        "Pytorch 딥러닝 입문 https://wikidocs.net/53383"
      ]
    },
    {
      "cell_type": "markdown",
      "metadata": {
        "id": "c8jsL-IMM8om"
      },
      "source": [
        "# K-Nearest Neighbors\r\n"
      ]
    },
    {
      "cell_type": "markdown",
      "metadata": {
        "id": "JNCwxEWfjjJl"
      },
      "source": [
        "KNN은 어떤 데이터에 대한 예측, 판단을 그 데이터와 가장 유사한 K개의 데이터를 보고 판단\r\n",
        "\r\n",
        "거리를 비교하여 가까울수록 유사함"
      ]
    },
    {
      "cell_type": "markdown",
      "metadata": {
        "id": "_1K53RyrNfBN"
      },
      "source": [
        "![image.png](data:image/png;base64,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)\r\n",
        "\r\n",
        "위 그림은 파란점에 대하여 분류\r\n",
        "\r\n",
        "\r\n",
        "k = 5 : 초록색 사각형"
      ]
    },
    {
      "cell_type": "markdown",
      "metadata": {
        "id": "3zJ2D0Sda2S_"
      },
      "source": [
        "###예시\r\n",
        "\r\n"
      ]
    },
    {
      "cell_type": "markdown",
      "metadata": {
        "id": "i6HuwyE5iKjJ"
      },
      "source": [
        "#####Classfication"
      ]
    },
    {
      "cell_type": "markdown",
      "metadata": {
        "id": "WP7vn2nRiRM3"
      },
      "source": [
        "결과가 Discrete"
      ]
    },
    {
      "cell_type": "markdown",
      "metadata": {
        "id": "gc-cKydKiIRK"
      },
      "source": [
        "1) 영화 분류 "
      ]
    },
    {
      "cell_type": "markdown",
      "metadata": {
        "id": "HV0jgL95jmbc"
      },
      "source": [
        "Romantic과 Action에서의 Hug count와 Kick count\r\n",
        "\r\n",
        " -  오각형 : Romantic\r\n",
        "\r\n",
        " - 삼각형 : Action"
      ]
    },
    {
      "cell_type": "markdown",
      "metadata": {
        "id": "9cznBWcZXEro"
      },
      "source": [
        "![image.png](data:image/png;base64,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)"
      ]
    },
    {
      "cell_type": "markdown",
      "metadata": {
        "id": "PDXgmGvrapa9"
      },
      "source": [
        "> 그래프를 그릴 때, 축들은 하나의 자료를 나타내는 parameter\r\n",
        "\r\n",
        "위 그림에서는 Hug count와 Kick count가 축이 됨"
      ]
    },
    {
      "cell_type": "markdown",
      "metadata": {
        "id": "-r5Sys79iW_g"
      },
      "source": [
        "2) 꽃의 종류 분류\r\n",
        "\r\n",
        "3) 옷 사이즈 분류"
      ]
    },
    {
      "cell_type": "markdown",
      "metadata": {
        "id": "pjxpTYyviJtb"
      },
      "source": [
        "#####regression"
      ]
    },
    {
      "cell_type": "markdown",
      "metadata": {
        "id": "k4gQMstaiPJX"
      },
      "source": [
        "결과가 Continuous"
      ]
    },
    {
      "cell_type": "markdown",
      "metadata": {
        "id": "py_8nDEyixWw"
      },
      "source": [
        "1) 주가 예측\r\n",
        "\r\n",
        "2) 유가 예측\r\n",
        "\r\n",
        "3) 수위 예측\r\n",
        "\r\n",
        "4) 중고차의 가격 예측"
      ]
    },
    {
      "cell_type": "markdown",
      "metadata": {
        "id": "tS0qH8U5P-Ow"
      },
      "source": [
        "###**거리 계산 방법**"
      ]
    },
    {
      "cell_type": "markdown",
      "metadata": {
        "id": "ZmqHTETLPgz2"
      },
      "source": [
        "![image.png](data:image/png;base64,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)"
      ]
    },
    {
      "cell_type": "markdown",
      "metadata": {
        "id": "f2Led5f4P9K_"
      },
      "source": [
        "![image.png](data:image/png;base64,iVBORw0KGgoAAAANSUhEUgAAATMAAAFMCAYAAACnLFtKAAAgAElEQVR4Ae2d3YsjV5rm46+wK27mpi76Ju8SdiBtg3outDAFS9NQptdNC1YXLnaM6aIaBIJuKLCZaRCblJmCgtoR5Jgutpfa6M6hKOPNbq2bmWbbycqmsdtohI0pTCIwdVEkuigKI57lRMQbnycUofhQhEJPQZFS6Hy85/ee88R7PqQwwH8kQAIk0AICRgvawCaQAAmQAChm7AQkQAKtIEAxa4Ub2QgSIAGKGfsACZBAKwhQzFrhRjaCBEiAYsY+QAIk0AoCFLNWuJGNIAESoJixD5AACbSCAMWsFW5kI0iABChm7AMkQAKtIEAxa4Ub2QgSIAGKGfsACZBAKwhQzFrhRjaCBEiAYsY+QAIk0AoCFLPa3fgl7hwZMIwj3PkyYMyXd3BkqOtv4oPA5fpffoA3K7dLmKj2B/9HWWzDlvqJ04JsBChm2ThVmEoGLsXMhyxMgkLmvz7yVD+7mH1558gWRj+vXxtftYMAxax2P8rA3RUx2wYwPZMP3hRBi0Zo6TZRzNIZ7XoKilntHtQPXGimmf5glkEdFEA3SnnzA4TSHd3Bl5AIxsn3pjdvLZDHm/669h/dwQdu9ONMDYO2AfjgzciUUdkSSeP5IoEJ5LoBpw3SLl/cQm23y/fzBKeswiCcPmpTxrYF7LLrkMLt9oiNOp95DeaLEghQzEqAWKwI/WDzB54M1OigcAeHLVbKgoTPQ2tOMqBSysyUR8pYY7/Y5gmz1C9/NxUzpYlOXme6KG12bYkJpipfb19YDMUe96/YHRWpIJeUNGvL924ExXoOc4cJUMzCPGp4px9scTGLmhYZyAExk8BABr6/iSB5RETkvUQ6vlik54mLmbce5YlXWGTELonSvPTRpnkiInb6CaRNa8XMExo/X7ZppvDYvG0+L4eh3VYRV6/hPt/AJd9IvipEgGJWCF8ZmUXMIgM3KggAZED6QqciCRl40YHop/dFI1pXGXmiZSomkXK9toQjoOQBrStTlSvXRXwj9diz2WAdwkbHwvHdeqZSX9A3kTo1giW9Ql+2Y19y2yU3/25KgGK2KbHS0+sGjK1c4aMZ7qDxhSkyqKICEhA/P0+0rmgZukGflif6uQIUKVcjZr5NOqC6Mv2oZp2AS2kiJFJP9L2dLpWpzo5I20TMAtGgqssWK/mMyiVuqfQvxaxSvFkK1w2YZDELR2W7EZk5QhKMbtK4CJNglOW/9rUhLCwiWEFGUTGTz0JiE1wLs19LRCd2BG0P1+kLt2+fqsOxUdKGP/PFOI0DP9+EAMVsE1qVpNUNGI2YaaZQb9qL4TLwZODI+zxRVp48Ovujtkia8KD2RSkKVp8+LgKReiQSEnEKVSBplQ2+OMkanCNybyLMVOzw0/vi5XP2r7ntS6xX2h/MG2073+clQDHLS475MhNwBCMoCDqRyFwcE5KAlgDFTIuFF8sjIMIlUUnwLyOU8jizJIoZ+8AWCASneCJmFLItgN+rKihme+VuNpYE2kuAYtZe37JlJLBXBChme+VuNpYE2kuAYtZe37JlJLBXBChme+VuNpYE2kuAYtZe37JlJLBXBChme+VuNpYE2kuAYtZe37JlJLBXBChme+VuNpYE2kuAYtZe37JlJLBXBChme+VuNpYE2kuAYtZe37JlJLBXBChme+VuNpYE2kuAYtZe37JlJLBXBChme+VuNpYE2kuAYtZe37JlJLBXBChme+VuNpYE2kuAYtZe37JlJLBXBChme+VuNpYE2kuAYtZe37JlJLBXBChme+VuNpYE2kuAYtZe37JlJLBXBChme+VuNpYE2kuAYtZe37JlJLBXBChme+VuNpYE2kuAYtZe39bTsoWFnmHAMIeYXK7qsYG17iUBitleur3KRq9wORnC7I4xp5ZVCZplRwhQzCJA+LYogeeYj99AdzwDtawoS+bfhADFbBNaTJtOYDXDuPsGxvM5rN5VGGrKqf73LCzSczMFCeQmQDHLjY4ZdQRW8zG6V0eYfgfgcoLB1R5GZ3MsdYl5jQRKJEAxKxEmi1JTzOswB48xmz7AaPQA08ULYiGBrRCgmG0F855UYk8xTRidtzDoHXLdbE/c3pRmUsya4ok22KGmleYNWIvnWFg3wHWyNjh1d9pAMdsdXzXc0vCRDHvtTJ01u/gC1uh9TJfc22y4A3fePIrZzruwKQ14isngyJ9aelPO25hw3awpTmq1HRSzVruXjSOB/SFAMdsfX7OlJNBqAhSzVruXjSOB/SFAMdsfX+9sS9U3CPgvToBcwkzYS8I8+E5HYHmOUcf0v5okX1Eq8++arztx0OqcAtsf+k/28yrFbD/9vnGrV4szDEOCZqIzPMMi94mLFZbzCcaDriOSa35lg2Kmdxe5hLlQzMI8+G4NgfIFTVX2DNPRNRjyfU5N/Ry0GihgZBalQjGLEuH7tQQqETQ1je3+IvHHHClmepeQS5gLxSzMY7N39td33J+4SVw/OkBv9ACW9RHmLTkFX76gLTEd/QLWQv3URvwfB22cibpCLmEuFLMwjxzvVlhOj9GxxewQg8nTUBmrxRSnD0fomUr0uhhYs1b8HE65gqa+CvUApxSzUN9Je0MxCxOimIV55Hpnfw9Ridma3733B/8BeuPPKWgbkOag1cMilzAXilmYR453zm94qY5lDia4TCwhGMFdx3j+PDHlLn3gi7RMt4vucsZbz0EbZ6KukEuYC8UszCPHO/UF60MYRnyKGStMvnydKnyxnI2+ULWgcdDq3U8uYS4UszCPzd/JJsCaKaZXaEDMjDXnqrz0O/SiSkHTD1p1Tu0jWNYDjHqH6IzOA1N39ZmFgX0u7hpG02fNILmcY2JZsMYDdDrHsZ9FWl1Y6JvZI1s9l2Y0tQ4rKGaFqLu/4ZU50pIobv36WiGTasxclaDFB63PXX3m/Jep+wssJrfdDRn1WTPEzFtX9eyNR/J+GmnLemfGuaxP3/ZPKWaFPCziFO+Y2mKDkVmWSE5bSMrFYB3ewJEBv+ZvSfZUIWhrB+3yc4x7BzAM0/4tte8uLNzo38V5U39DLWJv+AsUbkS55sxd0PtruQQT7slrilkRR8sU08h2J0VAaNZvFhQxqv68UUEzeyeYFThjlzZovYim8wb6g/cL1VU9vfUbRquLUwyPg1PmZIvSuCTnbOcnFLPcfg1MdTKuf3mDLstmQW67mpFR2lpUyFRrUgetd5PIGCGvQ+SVtSaK1UW8mSPbNf1m9QTW8F5sLS3J3FQuSRlbep1iltuxMsV0pjfh6YKuUPc7iGogaBZ/dTl29trqApNhF0annJ/MTh+0Eu1k9UWdZJPE7AUurH/A8QabFelc6mzn9uummOVlvtEUM3jG7AB96wnSxS+vYXXnc0Xb7GM8Sz51t4mVqYN2NcNJv4sjdaPIGCVvUn/ZaSVqDR6y3mR6KfakcpGEe/KXYpbL0Ul3V31h/hpS/PS/17G9qUsHo6l6/vc3sHpX3Z06d8qz5je/vJornyZ5NWleXGI27sMseQdx/aB9gYvTMU6/+TPGXXPttzA0BtdzSW6EMjVdfo6T48e42PAOt55LPU2rs1aKWS76WaeYL7A4v+t8L9Ps4fh8oY/I7M4dFzpP0EqaruVqauZMciSii+HkQt/OzGWFEyYP2hWWs8ewPlXnyGSq6a+brRaf49PAruZ30xGuGlfRs74JV7DtdyJm9sbRAtPx/cQnWK2zOZnLthvUjPooZhv74RJza5j4xXLgEvPJKSzrvntoU/1qxodrfzHDic78QeiZ9N0Uo6tpX5PyUtf4QqbROkEublZo0Nq/entof7/1cvGvOLG+cA/L+tGy2X+I2ewUo+NJgR+PLG53Ygle9HyAN/rv4iTndDzEJbGy/fmAYpbZ13Lnz7LL1cVg/DDjz/645cqUI2CPI3JNX9RW0dEJeurkeugUfqAhBV+GBq2c0zJ7GJ3NA6f+ASR+5k/ZG3EkRsRs7bpius0hLgUZtyE7xaxuL0rH9tbMomKZ8QxbTe1w1gOvFvwJ7fXGlzJobc5HsZ9oWl9zVZ+qZYo30qfjKTaXwqWqJtZQLsWsBuihKhcWeu7p9fD6r7su1+TdOTcSKuMsmc1kOcdH0/i6YvFB605BNdFvyBdbefMCi49+DSt1apluc3EuW2nw1iqhmG0Nta4iWefRRF/2InGDp5jqgGf/oMQzc4rFL3BtPIttHhQftM6Nof4pZlYhU30l3ebiXHR9cnevUcxq9V1S9LVG5Gq116285EOxTqmKxXX3WEq4kYUHrX1j0GywhKup4J3s8F7HePY1zk9OcDrPePYug82FuVTQ4jqLpJjVRt9fOO9GoxFZyG7kFNM9S7Z28XpTqDLob2ifA1Bs0PrTtbPZFB9lFZNNm6BNL9/6SN/RDmfPZnMxLuEa2/COYlaLF/2dKtUh7f+2cH2HhXUjfFA265fYt9IO9ZWbt8o7FLtaYHr60H92ZsLj5ooNWvWwlA6MTg+Dph7ViPkum83FuMQq3fkLFLOdd+G2GiBnyaK7rSW+T/iGAwet3sfkEuZCMQvz4DstAZkSlyhcEpEG/l4dTaF72BwHrdYp6b8mos/W2qsUs9a6tsSG2afuzcj0t2xhS/6aEcVM70tyCXOhmIV58B0JkMCOEqCY7ajjaDYJkECYAMUszIPvSIAEdpQAxWxHHUezSYAEwgQoZmEefFcxgdViitOHI/RM/QHZiqtn8S0mQDFrsXOrbtq6Hw7U1x08LEwx0zPi1bwEKGZ5yTFfTgLyLQeKWU6AzJZAgGKWAIaX1xHwI6zNf4mCYraOLD/LT4Bilp/dfudM+eHAZDgUs2Q2/KQIAYpZEXp7m9f/VYfJpfuTkvaPTK77VoA8dYpitrfdpuKGU8wqBtzO4tN/ODC53RSzZDb8pAgBilkRevuaV/fDgYzM9rU3NKbdFLPGuGJXDPGnmPl+7FAiM81Phe8KAtrZSAIUs0a6pclGZfvhQH0L/F1Q9YsPRhMeyKs3lFd3kADFbAedRpNJgATiBChmcSa8QgIksIMEKGY76DSaTAIkECdAMYsz4RUSIIEdJEAx20Gn0WQSIIE4AYpZnAmvkAAJ7CABitkOOo0mkwAJxAlQzOJMeIUESGAHCVDMdtBpNJkESCBOgGIWZ8IrJEACO0iAYraDTqPJJEACcQIUszgTXiEBEthBAhSzHXQaTSYBEogToJjFmfAKCZDADhKgmO2g02gyCZBAnADFLM6EV0iABHaQAMVsB51Gk0mABOIEKGZxJrxCAiSwgwQoZjvoNJpMAiQQJ0AxizPhFRIggR0kQDHbQafRZBIggTgBilmcCa+QAAnsIAGK2Q46jSaTAAnECVDM4kx4hQRIYAcJUMx20Gk0mQRIIE6AYhZnwiskQAI7SIBitoNOo8nPMR9fh2EYyf/NHkYPLZxOF1jVDWy1wNQaoWc69pq9Y5zNL+u2qnX1U8xa59I9atDyHKOOCcMw0R3PAqL1AovpI4wHXfuzzsDCfFmTpK0uMBl2YXRuY7J4AeAFFpPb6BjXMJo+2yNnVd9Uiln1jFlDVQRWM4y7SsyuYzx/rqnlErNxH6ZhwOxbuNi6nkkEGRWup5gMDmGYb8G6UALHf2UQoJiVQZFl1EPgcoKBmrqZQ0wuE5TKE7xDDCZPt2un2NcdYx4yb4XLyRCmYaIzOsdyu1a1tjaKWWtd27SGvcCF9RbMzjGmpUz5RBAMmIMJklegJDoyYMREpUpGfr1a+0To1glxlea1sGyKWQud2tgmrZ7A6h/A7J1gVljQRCzSIi5f9NZGcKVDc6eSsfU8tyIRMyPN/tINa22BFLNKXHuJ+eQUD0e9SCSywnJuYaAWrWtZL1EL449hWfcx6PwgtgC9urDQNw/Qt54EFtPLBeTUYRQXNG/6mLReJnYHxCxxbU3Slvg3Taw8+6ObFyXasGdFUcxKd7jckeXYgHTWFZbTY3TkOMEaMVvNx+hKuox/tVOZUNskkhG74tMzr97E6Vi8jLXHI1JsN3t3cW7v8IUMzfQm3VYpJquY5Wnbmqgqs5jF/SCW8+9mBChmm/HaILW/k6bWambfWLjRzz94N6g4Jam7dqWEJiZaKyxnJ+gP161BpRSf9ePl5xj3DmB0hrA2PnMlwiM3inWVZhWzdWVs/pkntknTSC8yo5htTlefg2Km51LOVemw5g/Qu3WvpIXvEkyTqEEnZtP7GG1r10/OYBldDKxZ9l094Zpp2ijCpxPvElgmFJFdzLIIckIlvBwiQDEL4Sj7jQykhnVYEbPoTppaoP/Fg8gxgrKZRMrzhGnNlC2SBUn2R9Op9175W/aB2JgamW3ZLh2jllyjmFXsSLlDp69pVWxIsHhvgAcXz9X08x9wvM1T6bkiM3/amM40sE65Zo0yiKa01x7jBLFKE7vSDNmfgihmlfr6OebWbfTU7mVsSpdcsQjgJovr6QM7WJ9sUvhitro4xfB4iwc4c6+Zie0ZIjn3KIhhZNmhlSja3yBJ57/OBr88nW88H0ej46Cb+HojAhSzjXBtlnh18Rjvnc4ws78U7QvHZqVUkToiCKsnOH3vcYav+/gDNH2gp4tCrvNmEtGkisAzTEfXnO9mDs+wCJ3Ar4JpvEw5hhK/kUl0yW8AxKnlv0Ixy89ufU5PIKTjyl1c7RieYfKV7ruE64ss71MRJWXTV5id3MPplr4jKAM8l5BBWKbsAC5nsOwvmR+gd/zHWoTM8ZUIavRG5t5Mtj31La8DNbIkilmJbrGnDnYHfYqZ9Qifyil3N5oweyM8tN7H2Poi+85difb5RYmYmej0hhhva53MnVrmEzJgtTjD0P6VDI2YqZ/ZObVgjQfOWb7OACdN+Pkfr81yLOcSc2uIjtHFcHJR2eFk39f784piVqKv/ahDOq4ULnfoDY8gSPbS/0qEk2UtqazKC3w3U6aWKYdwjSb9hlkQ23KOiYis+nL5YIzJxmfrggXytY4AxUxHpfXXlJi9i/7485ojxNaDZgO3SIBitkXYjalq+QUs688UssY4hIaUQYBiVgbFXSpDCdnJv9a4KL5LsGjrLhGgmO2St3LZ6q7Xqe+HXvwJJxSyXBSZqfkEKGbN91ExC+XgqFocP5tzalmMJnM3mADFrMHOoWkkQALZCVDMsrNiShIggQYToJg12Dk0jQRIIDsBill2VkxJAiTQYAIUswY7h6aRAAlkJ0Axy86KKUmABBpMgGLWYOfQNBIggewEKGbZWTElCZBAgwlQzBrsHJpGAiSQnQDFLDsrpiQBEmgwAYpZg51D00iABLIToJhlZ8WUJEACDSZAMWuwc2gaCZBAdgIUs+ysmJIESKDBBChmDXYOTSMBEshOgGKWnRVTNomA98Tw5OdzOk/Deozp4kU9lssTox6O0DPlUYP1mLIPtVLM9sHLrW3jCsvpsfNoOSPybEpbSO5jYD+aroanYl1OMOyP8NB7KhPFrOpuSDGrmjDLr5SA/axS9Qi67hhz3VPL3edWGsY2H6sXbHLk6fHBj/i6VAIUs1JxbrEw+1mSkWhki9U3oyp5/qfmocABAz3BM4eYXOoUL5C49JcUs9KRJhRIMUsA0+zL6onkb6AzOt+p3/R3HpJ8DaPSnqCeUSi89TUT3fFsy08Rz2hjszvcTlhHMdsJN4WNtEXh6luwLmpa2A6bs8E796nmZh/j2eUG+RKSikilRlwiKOsjuIRaCl6WurlmVhBkanaKWSqiPAkuMZ+c4uGoB7NzjOlSpjYrLOeWsyht5hUj9ei4H+SOylaLKU6thxgPrsXLcJ/kZPYtXIjJeZq/Lo/3tKjiguZNH5PWyzw7RFDWrK15act+IXVTzMomGy2PYhYlUvi9dF45MiBTm+DOmwFjjZh5g1QtbGf8bw4mSIt1YuVGIxqJdKI7gwEmsTIy2qdth9nD8fki57RPTbWvwzCEb8DI2MuAT9YIX562pXOXuilmMbeUfIFiVjJQv7hLzMZ9mO5O2+wbCzf6d3Fe6MxTsahMbHPWrpRQajYQ1O5f/90tLJQLn5zHJjIIr7QXEEFhZOYzad8rilmVPpUBZ/4AvVv3AtPNfJWWt1Ymg1snZuc4Hn2UGuXla0E01wssJrfRMUx0Bhbm3nQ8mi7+3oui1kRaXi7xQ6YozstV0gthzcisJKCJxVDMEtGU8cEmU6G0+pyorJzduKQBphboj3Eyf55mTImfC6NNFuezHckQIz3h00Wikqiyv0msK6twbwummFXsehlI6Wsr6w2xy4muca3PsuZTEZDwetPq4hTD420e98gbmW0iEOomcM1ee6x0YyOR9ia2JhbCDzIQoJhlgJQ/yXPMrdvoqa/UZJkOuRWJAGoXzRMW3DcTS4lsAmKmdhmHxafC2VkVWDOzDwyrTZT0Q7De+uCaDRexuRruFDPhW/VfilmFhFcXj/He6Qwze9dNsz6VsW57kIWOeGTMmJhMxEymdi9wcTrGaYZza3kGfKIo5zpvFrU9sZHA8hwj97uZw8lFzl3TNeVn+ohilglTCYkoZiVA1BaxeoLT9x7jYiWDTxaAV1jOzjD5Kuu6lBoMXfStJ6UORhElc3CGi9mvcXxabvlaJupi4XNmWcQheJ6vyPGPxFZs8EEWezcojkkTCVDMEtFs/oEtEPZ05ilm1iN8Krtz7rTI+Uma9zG2vsj4NST3bFqpUZnTLhEzo9PDYDzNaM/mTMI53KllrohMlSRrbOpYidwc/Br8A8Fd+/xZZ/B+fT//I2Z50aEZP6Qsafi3FAIUs1IwOoXI+ozZi54nk0XoDc9U2VFMp/SozLZWBLbK0/4Rtg6fPN/NlOg2/RBx7b9hJm32joNEbQ6sU0pa/i2FAMWsFIw7WIj9e1snmEn0uINNoMkkECRAMQvS2JvXl+Fp8N60mw1tMwGKWZu9q22bErJf46NCX6vSFsyLJFArAYpZrfi3Ubl8wf06xrOvcX7ygEK2DeysY+sEKGZbR77tCt3fEDMO0Bt9uNH3H7dtKesjgSIEKGZF6DEvCZBAYwhQzBrjChpCAiRQhADFrAg95iUBEmgMAYpZY1xBQ0iABIoQoJgVoce8JEACjSFAMWuMK2gICZBAEQIUsyL0mJcESKAxBChmjXEFDSEBEihCgGJWhB7zkgAJNIYAxawxrqAhJEACRQhQzIrQY14SIIHGEKCYNcYVNIQESKAIAYpZEXrMSwIk0BgCFLPGuIKGkAAJFCFAMStCj3lJgAQaQ4Bi1hhX0BASIIEiBChmRegxLwmQQGMIUMwa4woaQgIkUIQAxawIPeYlARJoDAGKWWNcQUNIgASKEKCYFaHHvCRAAo0hQDFrjCtoCAmQQBECFLMi9JiXBEigMQQoZo1xBQ0hARIoQoBiVoQe85IACTSGAMWsMa6gISRAAkUIUMyK0GNeEiCBxhCgmDXGFTSEBEigCIGdFbP//rv/DP4nA/aBcvpAERFpSt6dFrOnl1+D/8mAfaBYH1A3hDb8o5hREHlD2PM+QDGrWcqVA3hHLnZHJj/yU32AYkYxo5jueUTTlpsBxYxiRjGjmLWiD1DMKGat6MhtiS7YjvxTZooZxYxixsisFX2AYkYxa0VHZkSTP6JpCzuKGcWMYsbIrBV9gGJGMWtFR25LdMF25I8wKWYUM4oZI7NW9AGKGcWsFR2ZEU3+iKYt7ChmFDOKGSOzVvQBihnFrBUduS3RBduRP8KkmFHMKGb7FJldPMDbV17C9+/+Dt+2rN0Us70Vs6/w5A8/xyvGAd5+9ElY0Ba/xe1X/wqvvPNbPGlZh88U+Tz7He78zUt4+eYDfB1q/wwf3/1bGFf+Dr+5+CrMLJQuf3SRyb5IXd9+8kt83zBghP6/hrfv/hN+P5+H7aSY1Tzi06vnTwBFOni2QfFn/P6d78N49ef4/UIGpztgQ9e2Oziz2V6lTV/h60d/h5eNv8WdT2a+GNhC8D38+Ff/1qioxhGz8E3p2/lv8Y83X4Nx5XXc+X+f+W3YqJ8kcNiojCr9FC6bkVm6UFaaQjmgzsH77b/fw4+vvORFYc775g3YrTOKRWfNFXmdmNm8nv0bTn7yPRh/80t8/Cw88LPxpJhVOvgTCmdklvtuOcdnv/oJXr7yE5z8+5/wm5sHePkn9/BZrs6fZ8A0NU9kIDc0KlOilChmus/sdgSjuK/w5JMT3P7R95xp6qs38I9/+BjfXn5i94Xw1DWw1raY4Dd3b+AVmdp6+Vx/Sj2/+p+BdN/D63//EH8J9a1I/cZrePvebwNpPsPHj36Jt199yZ1GRz/3+w8jswR13NbluiOz4B385Vf/Gv/BFrXIOktuofQ7WrZIoGHp3cjm5Zv/hP+t1speDU7Hm2PrOjF7aotKQIREZGSd1I5AD7yp87fzh3jnZ3fcSC4i6NIPVJ7/+Dpun07cNVW5IQbWEu161Drea3j7V7+z0+mifuean+bpYoL/9c5/wU3bPrfcV2/iN+7an23fjw68mUSwX1HMtqVaCfU0Qswu3SmUYWgWvZszaIMddzuv3U2SK4d45a8P4xslMrhr/ltIzKLiFmpLgpiF0jj9I2ZDVETtPE6052+suNFf0jTYFtood9cmzSYMxSxBZLZ1uRFiJruXP/pPeMX4Pm7/4c+1ruNtR6gyinThdaeM9WgEIiuHmJAEy4qKSky8PsP/vfs6XjZewis3/x4njyTaUnYni9m383/B+8Fppj3dDExfo/UGxMxbw4utS4ZZOe2K7tK67ylm25Ko7PXUL2bBHc1PNbub4Q6WdYC1J11K9BAUjpperxMz57PArmxMzBz/2uL0z0O8fsUIrJkmiJktQn+FV27ew8fuLnjMhtLELCCQKXwZmWXXnUpS1i1mzpqF32Gc94E1lpQO1B7RShLtXRYz90YVnMYliJn4MSx+ejGLCVfiRkO0H0VZOu/9aWfEB1pBjKQJ9E+KWSUSlb3QWsVMFrhDu5eymKt2N7kR8FR29YKCEBhAIgJ1/tWKy/xfcAG6juAAAAzOSURBVPLOD/Fy9JxZSMyUWP0MP37nxI2w5vjLo5t4JTCFc8qWpYcZniy+hGwqyKFqZ1Fe7Yb6N0VJE/6mQVTM5OD2a7j56E/O2T3dBsCVH+Kd/6N2WJWQfYaPT3+OH/8seqCZT2fKrjoVpaxPzPR3XXtQ2mtouhPwyXfFOgdztXVHB2DzGDiCE1lbuvJD3P7n/+FNAz1GITH7Gk+ffYzf3/OPWLz8oyFO7KMZ0k5ZU1Pli1ip4xT3/OMS6ljG6S/xX6/I5197grdezFQdc/zlD//NL0vtft59ELDbES81/XWOiUQ/FzspZhVJVPZi6xMzvxN4Hb1hEQftoo826QOcZmbXnUpSUsw4YDcZsEyb3F8oZpVIVPZCKWbJnZMDl2w26QMUs+y6U0lKihkH7CYDlmmT+wvFrBKJyl6ocgD/kwH7QDl9IPvIa27Knf6ieXOx0jIS2B0CjMxq9lVbHFAzRlZPAvYMpw0YGJm1wYtsAwkUINCWwIBiVqATMCsJtIEAxaxmL7bFATVjZPUkwGlm3X2AYla3B1h/Wwi0ZSxxmtmWHsl2kEBOAhSznODKytYWB5TFg+WQQF4CbRlLjMzy9gDmI4GWEKCY1ezItjigZoysngS4AVB3H6CY1e0B1t8WAm0ZS5xmtqVHsh0kkJMAxSwnuLKytcUBZfFgOSSQl0BbxhIjs7w9gPlIoCUEKGY1O3I3HLDC5WQI07iO8fx5zcQaVv3lBAPTRHc8w6phpu2bObsxltK9sueR2VNMBof2Ax/MvoWLpFG1PMeoY8IwDjGYPE2n6qXYVTETuw0Y5luwLl54LQq/eIbp6JrDbzDBZfjD9e/2UcyWc0zGA3TsB/8aMDoDjCdzLNeTqvxTilnliNdXUIoDVjOMuybMTgdHidGTO7CPOuhsHEmIKOxaZPYc8/F1GOYROkdXk6MnW5AO0elchdEdY550M9C5ct/EbPUEVv8AZu8Es6UC9QKLyW10jGsYTZ/pCG3tWiljaWvWJle035GZiNmtu7jfP0RndB6/S9ppDtG/fxe39k7Mfor792/A7Bxjag/AYEdyBM/sv4f7tw4pZkE0mter+Rjd2A3TmRmYm0a1mvKLXKKYFaFXQt5SHCBiNjjDN2ptyxxichkML1ZYTo/RUde/OdOs8VxiPhljYE9B1fMJuxicnGPhFaGLzFZYzicYD7ru8wxNdAbvY7pImsqVAGvjIiQyk3Zrptf21PsIg8kXzlQ9FJllaKMuMtNMw06mixasqQV4hvpX0vWNHVYoQyljqZAF5WRmZKammerOaA+uA/StJ4HBo+6cR07EFht8qiP20Rt9iLkbtawuLPTN4MCPi5mTpovh5MKpZ7XA+XEvIfopx8mblxIcZN/aYhVeU3TbZUdszufBaaaKQq71jnE2d1fRZIoVjECiPO00h+gMz9ybwQsszu+iZ9Y/DducXzSHuzYbEnyVJt4/ojm38Z5itg3Ka+ooxQFeZKYWr90BHOhwoalBdPDpbAuVpxJEO6tTR2xaYZcdFEFd4du8FhSzFUIc7GaptUZZS0saqEF7w+XZn0R42nXEIuNmTMOCLcn3OolRtH/kK71orlLGUlEjSsjPyEwiMyU99rqGiIorPLLLGRl8NvvVAtPT+4FppppqGk6k5yQIH81wxU6lif+XekvwauEiIuITEWlHeGSXUzdQX2AxfRSYSrvtDYpViKdbn5ZLkGfhhtVUgI6RMoViVqZDKGYBMQMCkUA0WgoNPuUCdwB2hrC86ZS7O+pNpyKdNSIKZTqy3LIiYiaDzhYjd9rptTE+UJ2bQhcDa+ZuqETLAxDiqfm83AbVXFpS+5Kub9dcRmbb5R2rrRQHxMRFxKeLW4M3YAamnOHBp26qUeHSXZPy5GhGfODHGtaIC5pB5opP59Yt9ExpjzI22iZNXhH+xMgsyqkREEo0Iql9gZtnibVtWlQpY2nTSitIz8gsFJkB8A7IRk6nhyIJ5Ql3EMuxBVnIXzfNVHpnbxIcoHf8R3ehW+38fYhR/93ITmoF3s5cpE6Q/AOywcV+j4Mn/DJwZeFeFvLVAdzAbnGUp2wS9O7iXHZ2l3OcjX6K4UYHlTM3crsJ7ZvfVXQGlrth5J4zW3soeTsmUsy2wzmxllIcoIuudFGEsiI6+NS15QyWd8RCHcs4xfjWYfKamd0aV7x6B4GjGWNMZKqa2OJtfqATs+iaotgTjczU9UvMraF70l0dPTnB2fin4aMvWp5KvHowZe2sISfkpaVF/64W5zjx+osBM7jjW7TwAvlLGUsF6i8r635HZmVRZDkksMMEKGY1O68tDqgZI6snAf7SbN19gGJWtwdYf1sItGUscZrZlh7JdpBATgIUs5zgysrWFgeUxYPlkEBeAm0ZSzsdmSkn8D8ZsA8U7wN5hbBJ+XZazJoEkraQwK4SYGRWs+fa4oCaMbJ6EuBuZt19gGJWtwdYf1sItGUscZrZlh7JdpBATgIUs5zgysrWFgeUxYPlkEBeAm0ZS4zM8vYA5iOBlhCgmNXsyLY4oGaMrJ4EuAFQdx+gmNXtAdbfFgJtGUucZralR7IdJJCTAMUsJ7iysrXFAWXxYDkkkJdAW8YSI7O8PYD5SKAlBChmNTuyLQ6oGSOrJwFuANTdByhmdXuA9beFQFvGEqeZbemRbAcJ5CRAMcsJrqxsu+EAeVJR8NFsZRFoeTm6B560vMl1NW83xlI6nT2PzNwnC6nHw8mTy3XMvMfPbfrU8aaKmdgVfbJ65PF6OhbbutZaMZMnVzWHNcVsW506oZ5SHCCPmut0cGQkRU/uwD/qoGNu2gFFNJLKTmhc5Zf1j5KrvNpNKmidmMUfMdgdz7DahElFaUsZSxXZtkmx+x2ZiZjduov7/UN0RudYRunZaQ7Rv38XtyhmUTrVvW+bmLn9qDeycD65i66x6Y2xOtQUs+rYZiq5FAeImA3O8M1kGH5IrW3FCsvpMTrqSdzfnGEQE7NLzCdjDDqm+0Bf9SDgc/dJ5aoAXWSm7tATjL2HwaqH5L6PqTzFO1PriybKEpllbJs5gHX+GCN5qHFngJPpAt8FH3hr9nB8vghHIcs5JuOB+6BgA4abz4tUtGKWZlNRLtvJv5qPKWYVoGZk1jWdJ5Dbg+cAfetJYNCpNbUjJ2KLDS4lCH30Rh9ivnSG4OrCQt8MrqvFxcxJ08VwcuHUs1rg/LgHs3OMqVtOBX6OFJkmZi9wYb0Fs3MbE1dkV4s/4rgXjF6lbUqIJN0zTEfXYJhH6HRuYDy7BOCWpW4Il65UqZvItT5GZ3M3EtakifHOYlOkmQ19SzGrxjEUMxEzuAO8O8Zcxpx9B3XXu2KDS+MQL9KbQA3jeGTm1GEO5HO3DLvsoAhqyi71kttWI7oB4LbVbscRBpOngVpd8fJEScQsvB7oDNRwW3TXAgXbL2Nporwz2RQttZnvKWbV+IVi5okZEB5QrvDILmd0cCl/rBaYnt4PTDMdcfDFKjLgXbEzYiKi8oUFoBp3S6mumHnCJNedvw6HqNC57708kba5RYQZuhc1Yr1aTHEanGbaTAIMIryz2RRuR1PfOW3hmlnZ/qGYBcQMcI5q2GIUHYCRwQWJ5DpDWHMnDkNaZBb7vGx3Zi0vi5gFhEVbbAExszlcRWdg+VN0OwoO1BnhrRVJrV3Nv0gxq8ZHFLOQmMkA7eLW4A2YgSknIoMrLlwqUpthrC1PpmLuubZgudX4NaXU9WIWa6u2NGElbXMSaUUncmPQpYldi/KOvtfatBsXKWbV+IliFhIfAN4B2cg0IDaYXGGShXtZyFcHcL01sfiAdzYADtA7/qO76+meP+q/6y+QV+PrQKkpYuYt2gd3IS8xPztGfyjrffG2qQpioqQuRsRMxFKOwjibCwfhqXaMt2wSrLMp0MQGv6SYVeMcillUzGT66K0NueBjg0sJ3wyWd8RCHcs4xfjW4VoxU5sCy/mH/lEGQx3NGGMiU9Vq/BwpNU3MVHJHvHqmrJ11MRhPvGlhfHPDqSKTmNkMLH+tUR3LOBvjVnAnWMc71aZIMxv11r356dZLa47USznm1ADW+y1mDXAATSCBuglQzGr2QFscUDNGVk8C/D2zuvsAxaxuD7D+thBoy1jiNLMtPZLtIIGcBChmOcGVlU05gP/JgH2gnD5Q1riss5ydjczqhMa6SYAEmkeAYtY8n9AiEiCBHAQoZjmgMQsJkEDzCFDMmucTWkQCJJCDAMUsBzRmIQESaB4BilnzfEKLSIAEchCgmOWAxiwkQALNI0Axa55PaBEJkEAOAhSzHNCYhQRIoHkEKGbN8wktIgESyEGAYpYDGrOQAAk0jwDFrHk+oUUkQAI5CFDMckBjFhIggeYRoJg1zye0iARIIAeB/w/ygYPRALaJnwAAAABJRU5ErkJggg==)\r\n"
      ]
    },
    {
      "cell_type": "markdown",
      "metadata": {
        "id": "-mGoSdaieBnW"
      },
      "source": [
        "- hamming disttance : bit단위 거리\r\n",
        "\r\n",
        "> 거리 계산식은 상황에 따라 적합한 것을 고른다."
      ]
    },
    {
      "cell_type": "markdown",
      "metadata": {
        "id": "tl10zCliTyp-"
      },
      "source": [
        "####Norm"
      ]
    },
    {
      "cell_type": "markdown",
      "metadata": {
        "id": "WZtEZE5wT2Gw"
      },
      "source": [
        "Vector의 크기를 구하는 방법(두 점사이의 거리)\r\n",
        "\r\n",
        "1. L1 Norm : Manhattan\r\n",
        "2. L2 Norm(Frobenius Norm) : Uclidean "
      ]
    },
    {
      "cell_type": "markdown",
      "metadata": {
        "id": "Q_gYYDH1gPE6"
      },
      "source": [
        "### 정규화\r\n",
        "\r\n"
      ]
    },
    {
      "cell_type": "markdown",
      "metadata": {
        "id": "vfWLeaHdjwZk"
      },
      "source": [
        "예시의 영화 분류에서 Kick은 Hug에 비하여 어떤 장르의 영화에서든 자주 나온다.\r\n",
        "\r\n",
        "따라서 Kick count가 1 만큼 차이나는 것 보다 Hug count가 1 만큼 차이나는 것이 더 영향력 있다.\r\n",
        "\r\n",
        "정규화를 거치지 않고 그냥 거리를 계산할 경우 이러한 점을 고려하지 않게 되고, Kick count의 거리 1 과 Hug count의 거리 1 이 동일한 영향을 끼친다.\r\n",
        "\r\n",
        "> 이를 보정해주는 것이 **정규화**이다.\r\n",
        "\r\n"
      ]
    },
    {
      "cell_type": "markdown",
      "metadata": {
        "id": "lk0wHskLjH2X"
      },
      "source": [
        "#### 기본 정규화 식\r\n"
      ]
    },
    {
      "cell_type": "markdown",
      "metadata": {
        "id": "HGj5zBNAjMKt"
      },
      "source": [
        "![image.png](data:image/png;base64,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)"
      ]
    },
    {
      "cell_type": "markdown",
      "metadata": {
        "id": "tAC7nG4Oj4PW"
      },
      "source": [
        "해당 축 값의 (최솟값 ~ 최댓값)을 비율 값으로 나타내는 방법"
      ]
    },
    {
      "cell_type": "markdown",
      "metadata": {
        "id": "ZefKPySaXj6x"
      },
      "source": [
        "####Normalized Euclidean Distance"
      ]
    },
    {
      "cell_type": "markdown",
      "metadata": {
        "id": "pKE8yEs_bpeg"
      },
      "source": [
        "#####Mahalanobis Distance"
      ]
    },
    {
      "cell_type": "markdown",
      "metadata": {
        "id": "Scsi36zeYchJ"
      },
      "source": [
        "Mahalanobis Distance는 Uclidean Distance에서 각 성분 단위의 영향이 다른 것을 보정하기 위하여 각 성분의 표준편차의 배수 단위로 표기한다.\r\n",
        "\r\n",
        "또한, Mahalanobis Distance는 표준편차의 배수 단위를 갖기에 확률상의 거리로 볼 수 있다.\r\n",
        "\r\n",
        "예를들어 평균 교통량이 20대이고 표준편차가 3대이면, 일일 교통량은 20대를 기준으로 +-3대 정도 다닌다는 의미이다. 어느날 일일 교통량이 26대이면 평균 교통량보다 6대가 많으며 이는 평균적인 차이보다 2배가 많다.\r\n",
        "여기서의 2배가 Mahalanobis Distance이다."
      ]
    },
    {
      "cell_type": "markdown",
      "metadata": {
        "id": "2Wqpq3XjavtP"
      },
      "source": [
        "![image.png](data:image/png;base64,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)"
      ]
    },
    {
      "cell_type": "markdown",
      "metadata": {
        "id": "JAyQJZKPayF5"
      },
      "source": [
        "위 그림에서는 A에서 봤을 때, Euclidean Distance는 B가 더 가까우나, Mahalanobis Distance는 C가 더 가깝다."
      ]
    },
    {
      "cell_type": "markdown",
      "metadata": {
        "id": "NIHSXVLZbw95"
      },
      "source": [
        "#####Mahalanobis Distance의 식"
      ]
    },
    {
      "cell_type": "markdown",
      "metadata": {
        "id": "Z7zSpnm4czw6"
      },
      "source": [
        "S : 공분산 행렬 (두 확률간의 상관 관계 정도, 일반적으로 cov[X<sub>i</sub>, Y<sub>j</sub>]형태로 나타냄)\r\n",
        "\r\n",
        "공분산 행렬 참고자료\r\n",
        "\r\n",
        "https://en.wikipedia.org/wiki/Covariance_matrix\r\n",
        "\r\n",
        "https://sevity.tistory.com/54\r\n",
        "\r\n",
        "μ : 평균\r\n",
        "\r\n",
        "s<sub>i</sub> : 표준편차"
      ]
    },
    {
      "cell_type": "markdown",
      "metadata": {
        "id": "k39u3Cf_Xqxx"
      },
      "source": [
        "![image.png](data:image/png;base64,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)"
      ]
    },
    {
      "cell_type": "markdown",
      "metadata": {
        "id": "XEv87zRUcnG8"
      },
      "source": [
        "![image.png](data:image/png;base64,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)"
      ]
    },
    {
      "cell_type": "markdown",
      "metadata": {
        "id": "BErbnw_0foB1"
      },
      "source": [
        "S가 단위 행렬이라면 (x와 y가 서로 독립이고, 단위도 같다면) Euclidean Distance와 동일하게 된다.\r\n",
        "\r\n",
        "또한, S가 대각행렬(x와 y가 서로 독립)이라면 아래의 식과 동일하게 된다."
      ]
    },
    {
      "cell_type": "markdown",
      "metadata": {
        "id": "I7m6G3Y9coqy"
      },
      "source": [
        "![image.png](data:image/png;base64,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)"
      ]
    },
    {
      "cell_type": "markdown",
      "metadata": {
        "id": "TVlNGJhkhQG_"
      },
      "source": [
        "이 식이 Mahalanobis Distance를 활용하여 단위를 맞춘 **Normalized Euclidean Distance**이다."
      ]
    },
    {
      "cell_type": "markdown",
      "metadata": {
        "id": "cyt3SFy6PBaZ"
      },
      "source": [
        "# KNN practice"
      ]
    },
    {
      "cell_type": "markdown",
      "metadata": {
        "id": "yRr2O0EBmi41"
      },
      "source": [
        "## 구현순서"
      ]
    },
    {
      "cell_type": "markdown",
      "metadata": {
        "id": "8ZGFrIEymnKs"
      },
      "source": [
        "1. csv파일 호출\r\n",
        "\r\n",
        "    * 일부 데이터는 학습, 나머지는 학습된 결과를 확인하기 위해 사용\r\n",
        "\r\n",
        "\r\n",
        "2. INPUT 값과 Label값 분리\r\n",
        "\r\n",
        "    * 계산을 위한 값과 그 결과에 해당하는 값으로 분리\r\n",
        "\r\n",
        "\r\n",
        "3. Train용 DATA와 Test용 DATA 선별\r\n",
        "\r\n",
        "    * Train : 판단하는 기준이 될 DATA\r\n",
        "\r\n",
        "    * Test : 정확도 계산을 위해 Train을 활용해볼 DATA\r\n",
        "\r\n",
        "4. TestDATA 중 하나를 골라 모든 TrainDATA와 거리값 계산\r\n",
        "\r\n",
        "5. 해당 거리를 정렬하여 가장 가까운 K개의 DATA에서 가장 많은 Label 선택"
      ]
    },
    {
      "cell_type": "markdown",
      "metadata": {
        "id": "-D3x1NqEfqBQ"
      },
      "source": [
        "## Python으로 직접 구현"
      ]
    },
    {
      "cell_type": "markdown",
      "metadata": {
        "id": "pHaqqaOBbO9l"
      },
      "source": [
        "####**csv 불러오기**\r\n",
        "\r\n"
      ]
    },
    {
      "cell_type": "markdown",
      "metadata": {
        "id": "eBTR4oY4jZcN"
      },
      "source": [
        "pandas를 활용하여 csv 호출\r\n",
        "\r\n",
        "pandas.dropna()를 활용하여 비어있는 데이터 삭제\r\n",
        "\r\n",
        "> Grade.csv\r\n",
        "\r\n",
        "\r\n",
        "| |Language|Math|  English | Programming| Grade|\r\n",
        "|:--------:|:--------:|:--------:|:--------:|:--------:|:--------:|\r\n",
        "|0|38|34|78|39|F|\r\n",
        "|1|61|20|17|31|F|\r\n",
        "|2|87|70|62|42|C|\r\n",
        "|3|61|60|64|96|B|\r\n",
        "|4|93|21|97|72|B|\r\n"
      ]
    },
    {
      "cell_type": "code",
      "metadata": {
        "colab": {
          "base_uri": "https://localhost:8080/"
        },
        "id": "WJSEqRv1e1iy",
        "outputId": "b47edca9-cc1d-4c25-bfff-e969aa2d0933"
      },
      "source": [
        "import io\r\n",
        "import pandas as pd\r\n",
        "import numpy as np\r\n",
        "from google.colab import files\r\n",
        "\r\n",
        "# target 될 라벨명 및 csv에서 활용할 데이터 크기 설정\r\n",
        "Label_name = \"Grade\"\r\n",
        "DATA_SIZE = 3000\r\n",
        "\r\n",
        "data = pd.read_csv('/content/ai_study/testcase/Grade.csv')\r\n",
        "print(data.head())\r\n",
        "data = data.dropna().head(DATA_SIZE)\r\n",
        "print(data)"
      ],
      "execution_count": null,
      "outputs": [
        {
          "output_type": "stream",
          "text": [
            "   Language  Math  English  Programming Grade\n",
            "0        38    34       78           39     F\n",
            "1        61    20       17           31     F\n",
            "2        87    70       62           42     C\n",
            "3        61    60       64           96     B\n",
            "4        93    21       97           72     B\n",
            "      Language  Math  English  Programming Grade\n",
            "0           38    34       78           39     F\n",
            "1           61    20       17           31     F\n",
            "2           87    70       62           42     C\n",
            "3           61    60       64           96     B\n",
            "4           93    21       97           72     B\n",
            "...        ...   ...      ...          ...   ...\n",
            "2995         8    66       48           53     F\n",
            "2996        41    43       58           39     F\n",
            "2997        78     8       11           74     F\n",
            "2998        12    65       98           73     C\n",
            "2999        47    24       83           52     D\n",
            "\n",
            "[3000 rows x 5 columns]\n"
          ],
          "name": "stdout"
        }
      ]
    },
    {
      "cell_type": "markdown",
      "metadata": {
        "id": "BHXL62qVbSFd"
      },
      "source": [
        "####**결과값 mapping table 만들기**\r\n",
        "\r\n",
        "Label의 데이터들을 숫자로 만들기 위한 table 생성\r\n",
        "\r\n",
        "\r\n",
        "\r\n",
        "mapping : label to number\r\n",
        "\r\n",
        "reverse_mapping : number to label\r\n",
        "\r\n",
        "> mapping = {'F': 0, 'C': 1, 'B': 2, 'D': 3, 'A': 4}\r\n",
        ">\r\n",
        "> reverse_mapping = {0: 'F', 1: 'C', 2: 'B', 3: 'D', 4: 'A'}\r\n",
        "\r\n"
      ]
    },
    {
      "cell_type": "code",
      "metadata": {
        "id": "xsS8-yiHhoc-",
        "colab": {
          "base_uri": "https://localhost:8080/"
        },
        "outputId": "b9f309b5-0026-4980-f125-b93564ea1492"
      },
      "source": [
        "mapping = {}\r\n",
        "reverse_mapping = {}\r\n",
        "cnt_category = 0\r\n",
        "for x in pd.Series(data[Label_name].values).drop_duplicates() :\r\n",
        "  mapping[x] = cnt_category\r\n",
        "  reverse_mapping[cnt_category] = x\r\n",
        "  cnt_category += 1\r\n",
        "print(mapping)\r\n",
        "print(reverse_mapping)"
      ],
      "execution_count": null,
      "outputs": [
        {
          "output_type": "stream",
          "text": [
            "{'F': 0, 'C': 1, 'B': 2, 'D': 3, 'A': 4}\n",
            "{0: 'F', 1: 'C', 2: 'B', 3: 'D', 4: 'A'}\n"
          ],
          "name": "stdout"
        }
      ]
    },
    {
      "cell_type": "markdown",
      "metadata": {
        "id": "kwGtjHYNb4fF"
      },
      "source": [
        "####**DATA를 INPUT값과 OUTPUT값으로 분리**\r\n",
        "\r\n",
        "계산을 위한 INPUT에 해당하는 부분과 그 결과에 해당하는 OUTPUT값(Label)으로 분리\r\n",
        "\r\n",
        "> INPUT : [[38. 34. 78. 39.] ... ]\r\n",
        ">\r\n",
        "> OUTPUT : [0. 0. 1. ... 0. 1. 3.]\r\n"
      ]
    },
    {
      "cell_type": "code",
      "metadata": {
        "colab": {
          "base_uri": "https://localhost:8080/"
        },
        "id": "Ox_rYGqIvXkZ",
        "outputId": "da17d442-1ce3-4b15-f9d6-842ea4037d9d"
      },
      "source": [
        "\r\n",
        "# running split function on our dataset\r\n",
        "X = data.drop(Label_name, axis = 1).values.astype(np.float64)[:DATA_SIZE]\r\n",
        "Y = data[Label_name].apply(lambda x: mapping[x]).astype(np.float64).values[:DATA_SIZE]\r\n",
        "\r\n",
        "print(X)\r\n",
        "print(Y)"
      ],
      "execution_count": null,
      "outputs": [
        {
          "output_type": "stream",
          "text": [
            "[[38. 34. 78. 39.]\n",
            " [61. 20. 17. 31.]\n",
            " [87. 70. 62. 42.]\n",
            " ...\n",
            " [78.  8. 11. 74.]\n",
            " [12. 65. 98. 73.]\n",
            " [47. 24. 83. 52.]]\n",
            "[0. 0. 1. ... 0. 1. 3.]\n"
          ],
          "name": "stdout"
        }
      ]
    },
    {
      "cell_type": "markdown",
      "metadata": {
        "id": "zSJN9_kzbrh3"
      },
      "source": [
        "####**학습용 DATA와 테스트용 DATA를 랜덤하게 선별**\r\n",
        "\r\n",
        "\r\n",
        "\r\n",
        "> train_test_split(INPUT,  OUPUT,  train : test 비율)\r\n",
        "\r\n",
        "|train_features|train_target|test_features|test_target|\r\n",
        "|:--------:|:--------:|:--------:|:--------:|\r\n",
        "|train_input|train_output|test_input|test_output|\r\n",
        "\r\n",
        "\r\n"
      ]
    },
    {
      "cell_type": "code",
      "metadata": {
        "id": "I5bawxsEuVRh"
      },
      "source": [
        "def train_test_split(features, target, test_size = 0.2):\r\n",
        "    \"\"\"Splits dataset into training and testing sets.\r\n",
        "    \r\n",
        "    Args- \r\n",
        "        features- The feature matrix of the dataset (numpy array)\r\n",
        "        target- The target array (numpy array)\r\n",
        "        test_size- Size of test dataset that you want\r\n",
        "    \r\n",
        "    Returns-\r\n",
        "        train_features, train_target, test_features, test_target \r\n",
        "    \"\"\"\r\n",
        "    num_total_rows = features.shape[0] # total rows in the dataset\r\n",
        "    num_test_rows = np.round(num_total_rows * test_size) # total rows in testing dataset\r\n",
        "\r\n",
        "    # recommand to change seed value\r\n",
        "    np.random.seed(8)\r\n",
        "    rand_row_num = np.random.randint(0, int(num_total_rows), int(num_test_rows)) # randomly generated row numbers\r\n",
        "\r\n",
        "    # train and test features\r\n",
        "\r\n",
        "    test_features = np.array([features[i] for i in rand_row_num]) # creates test feature set\r\n",
        "    train_features = np.delete(features, rand_row_num, axis = 0) # deletes test data rows from main dataset; making it training dataset\r\n",
        "\r\n",
        "    # train and test target\r\n",
        "    test_target = np.array([target[i] for i in rand_row_num]) # creates test target set\r\n",
        "    train_target = np.delete(target, rand_row_num, axis = 0) # creates training target set\r\n",
        "\r\n",
        "    return train_features, train_target, test_features, test_target "
      ],
      "execution_count": null,
      "outputs": []
    },
    {
      "cell_type": "markdown",
      "metadata": {
        "id": "s3VC2bxMcXw2"
      },
      "source": [
        "train : test = 8 : 2  비율로 선별"
      ]
    },
    {
      "cell_type": "code",
      "metadata": {
        "colab": {
          "base_uri": "https://localhost:8080/"
        },
        "id": "4vjyRaHhbNGe",
        "outputId": "75523889-c6b5-4479-ad5c-70dba905a355"
      },
      "source": [
        "X_train, X_target, Y_train, Y_target = train_test_split(X, Y, test_size = 0.2)\r\n",
        "\r\n",
        "# printing the shape of the splits\r\n",
        "print(X_train.shape, X_target.shape, Y_train.shape, Y_target.shape)\r\n",
        "print(X_train)"
      ],
      "execution_count": null,
      "outputs": [
        {
          "output_type": "stream",
          "text": [
            "(2458, 4) (2458,) (600, 4) (600,)\n",
            "[[38. 34. 78. 39.]\n",
            " [61. 20. 17. 31.]\n",
            " [93. 21. 97. 72.]\n",
            " ...\n",
            " [78.  8. 11. 74.]\n",
            " [12. 65. 98. 73.]\n",
            " [47. 24. 83. 52.]]\n"
          ],
          "name": "stdout"
        }
      ]
    },
    {
      "cell_type": "markdown",
      "metadata": {
        "id": "GAph_Et2d87_"
      },
      "source": [
        "####**거리 계산 함수**\r\n",
        "\r\n",
        "Euclide distance"
      ]
    },
    {
      "cell_type": "code",
      "metadata": {
        "id": "5ci9xfricFM2"
      },
      "source": [
        "def distance(row1, row2):\r\n",
        "  return np.sqrt(np.sum((row1 - row2) ** 2))\r\n"
      ],
      "execution_count": null,
      "outputs": []
    },
    {
      "cell_type": "markdown",
      "metadata": {
        "id": "hlo86a3dAH6A"
      },
      "source": [
        "####**K-Nearest neighbor**\r\n",
        "\r\n",
        "nomalize 없이"
      ]
    },
    {
      "cell_type": "code",
      "metadata": {
        "colab": {
          "base_uri": "https://localhost:8080/"
        },
        "id": "cVbT6vlreCLZ",
        "outputId": "21230c2e-9a58-41a6-9ff2-ede466a227b1"
      },
      "source": [
        "from collections import Counter\r\n",
        "\r\n",
        "k = 3\r\n",
        "cnt = 0\r\n",
        "\r\n",
        "# select index in test_data\r\n",
        "for Y_index in range(len(Y_train)) :\r\n",
        "  distances = []\r\n",
        "\r\n",
        "  # calculate distance from test_data to train_data\r\n",
        "  # add distance to list named distances\r\n",
        "  for i in X_train :\r\n",
        "    dist = distance(i, Y_train[Y_index])\r\n",
        "    distances.append(dist)\r\n",
        "  \r\n",
        "  # sort index by distances\r\n",
        "  sorted_index_toDistance = np.argsort(distances)\r\n",
        "\r\n",
        "  # find target name by most nearest data in sorted_index_toDistance\r\n",
        "  nearest_index = []\r\n",
        "  for j in sorted_index_toDistance[:k] :\r\n",
        "    nearest_index.append(X_target[j])\r\n",
        "  result, result_count = Counter(nearest_index).most_common(1)[0]\r\n",
        "\r\n",
        "  # counting Correct\r\n",
        "  if(result == Y_target[Y_index]) :\r\n",
        "    cnt+=1\r\n",
        "    print(\"Correct\")\r\n",
        "  else :\r\n",
        "    print(\"Wrong\")\r\n",
        "    print(\"Guess : \", reverse_mapping[result])\r\n",
        "  print(Y_train[Y_index],\":\",reverse_mapping[Y_target[Y_index]])\r\n",
        "\r\n",
        "\r\n",
        "# printing the result\r\n",
        "print(\"cnt : \", cnt)\r\n",
        "print(\"Correct percent : \", cnt / len(Y_train) * 100, \"%\")"
      ],
      "execution_count": null,
      "outputs": [
        {
          "output_type": "stream",
          "text": [
            "Correct\n",
            "[56. 65. 14. 18.] : F\n",
            "Correct\n",
            "[29. 35.  6. 13.] : F\n",
            "Correct\n",
            "[26. 89. 67. 76.] : C\n",
            "Correct\n",
            "[67. 87. 83. 25.] : C\n",
            "Wrong\n",
            "Guess :  D\n",
            "[78. 14. 36. 64.] : F\n",
            "Correct\n",
            "[38.  5.  9. 68.] : F\n",
            "Correct\n",
            "[23. 98. 15. 52.] : F\n",
            "Correct\n",
            "[49. 85. 63. 30.] : D\n",
            "Correct\n",
            "[98. 30.  3.  1.] : F\n",
            "Correct\n",
            "[15. 23. 77. 79.] : F\n",
            "Correct\n",
            "[20. 68. 61.  3.] : F\n",
            "Correct\n",
            "[46. 13. 14. 86.] : F\n",
            "Correct\n",
            "[79.  5. 55. 15.] : F\n",
            "Correct\n",
            "[68.  7. 23. 63.] : F\n",
            "Correct\n",
            "[33. 93.  4. 30.] : F\n",
            "Correct\n",
            "[59. 57. 93.  8.] : D\n",
            "Correct\n",
            "[90. 87. 30. 58.] : C\n",
            "Correct\n",
            "[33. 78.  0. 51.] : F\n",
            "Wrong\n",
            "Guess :  C\n",
            "[89. 73.  4. 66.] : D\n",
            "Correct\n",
            "[ 5. 40. 83. 21.] : F\n",
            "Correct\n",
            "[36. 64. 43. 75.] : D\n",
            "Wrong\n",
            "Guess :  F\n",
            "[52. 86. 40. 31.] : D\n",
            "Correct\n",
            "[71. 90. 89. 55.] : B\n",
            "Wrong\n",
            "Guess :  C\n",
            "[77. 99. 58.  3.] : D\n",
            "Correct\n",
            "[30. 39. 13. 36.] : F\n",
            "Correct\n",
            "[79. 48. 11. 50.] : F\n",
            "Correct\n",
            "[21. 50. 84. 67.] : D\n",
            "Correct\n",
            "[100.  71.   4.  32.] : D\n",
            "Correct\n",
            "[31. 40. 58. 81.] : D\n",
            "Correct\n",
            "[56. 84. 48. 87.] : C\n",
            "Wrong\n",
            "Guess :  D\n",
            "[62. 59. 81. 46.] : C\n",
            "Correct\n",
            "[61. 12. 18. 97.] : F\n",
            "Correct\n",
            "[49. 16. 44. 21.] : F\n",
            "Correct\n",
            "[31. 85. 84. 85.] : B\n",
            "Correct\n",
            "[42. 43. 36. 96.] : D\n",
            "Correct\n",
            "[85. 14. 18. 28.] : F\n",
            "Correct\n",
            "[97. 14. 61. 94.] : C\n",
            "Correct\n",
            "[52. 47. 83. 90.] : C\n",
            "Correct\n",
            "[22. 90. 93. 84.] : B\n",
            "Correct\n",
            "[73. 72. 52. 30.] : D\n",
            "Correct\n",
            "[89. 61. 62. 12.] : D\n",
            "Correct\n",
            "[37. 39. 15. 32.] : F\n",
            "Correct\n",
            "[62. 67.  3. 28.] : F\n",
            "Correct\n",
            "[98.  0.  4. 16.] : F\n",
            "Correct\n",
            "[49. 22. 54. 95.] : D\n",
            "Correct\n",
            "[74.  6.  0. 83.] : F\n",
            "Correct\n",
            "[14. 45. 50. 63.] : F\n",
            "Correct\n",
            "[15. 94. 64. 50.] : D\n",
            "Correct\n",
            "[79.  7. 48. 31.] : F\n",
            "Correct\n",
            "[54. 13. 55. 85.] : D\n",
            "Correct\n",
            "[32. 85. 91. 15.] : D\n",
            "Correct\n",
            "[69. 25. 96. 36.] : D\n",
            "Correct\n",
            "[58. 93.  2. 55.] : D\n",
            "Correct\n",
            "[74.  7. 93. 17.] : F\n",
            "Correct\n",
            "[80. 87. 13. 43.] : D\n",
            "Correct\n",
            "[ 2. 95.  3. 86.] : F\n",
            "Correct\n",
            "[44. 67. 34. 61.] : D\n",
            "Correct\n",
            "[32. 61. 49. 15.] : F\n",
            "Wrong\n",
            "Guess :  D\n",
            "[22. 77. 94. 55.] : C\n",
            "Correct\n",
            "[37. 66. 62. 54.] : D\n",
            "Correct\n",
            "[45. 96. 83. 74.] : B\n",
            "Correct\n",
            "[ 9. 97. 13. 50.] : F\n",
            "Correct\n",
            "[98.  3.  8.  7.] : F\n",
            "Correct\n",
            "[32. 25. 62. 42.] : F\n",
            "Correct\n",
            "[21. 40. 55. 92.] : D\n",
            "Correct\n",
            "[ 4. 69. 48. 23.] : F\n",
            "Correct\n",
            "[50. 42. 87. 95.] : C\n",
            "Correct\n",
            "[ 0. 29. 40. 48.] : F\n",
            "Correct\n",
            "[40. 43. 92. 83.] : C\n",
            "Correct\n",
            "[13. 11. 13. 23.] : F\n",
            "Correct\n",
            "[59. 89. 63. 74.] : B\n",
            "Correct\n",
            "[ 3. 36.  6. 21.] : F\n",
            "Correct\n",
            "[29. 32. 43. 11.] : F\n",
            "Correct\n",
            "[16. 61. 25. 24.] : F\n",
            "Wrong\n",
            "Guess :  C\n",
            "[89. 73.  4. 66.] : D\n",
            "Correct\n",
            "[72. 57. 75. 42.] : C\n",
            "Correct\n",
            "[19. 72. 77. 41.] : D\n",
            "Correct\n",
            "[32. 24. 60. 24.] : F\n",
            "Correct\n",
            "[84. 27. 78. 17.] : D\n",
            "Correct\n",
            "[76. 81.  5. 28.] : F\n",
            "Correct\n",
            "[88. 97. 91. 89.] : A\n",
            "Correct\n",
            "[36. 26. 78. 84.] : D\n",
            "Correct\n",
            "[34. 54. 38. 56.] : F\n",
            "Correct\n",
            "[73. 76. 70. 48.] : C\n",
            "Correct\n",
            "[ 3.  2. 51.  3.] : F\n",
            "Correct\n",
            "[75. 19. 79. 86.] : C\n",
            "Correct\n",
            "[39. 33. 66. 62.] : D\n",
            "Correct\n",
            "[ 1. 78. 17. 43.] : F\n",
            "Correct\n",
            "[ 8. 88. 48. 14.] : F\n",
            "Correct\n",
            "[33. 92. 93. 96.] : B\n",
            "Correct\n",
            "[26. 16. 11. 65.] : F\n",
            "Wrong\n",
            "Guess :  D\n",
            "[36. 70. 16. 76.] : F\n",
            "Correct\n",
            "[96. 86. 47. 94.] : B\n",
            "Correct\n",
            "[45. 42. 87. 10.] : F\n",
            "Correct\n",
            "[61. 39. 53. 92.] : C\n",
            "Correct\n",
            "[30. 29. 46. 25.] : F\n",
            "Wrong\n",
            "Guess :  C\n",
            "[28. 41. 91. 79.] : D\n",
            "Correct\n",
            "[14. 84. 41. 97.] : D\n",
            "Correct\n",
            "[58. 80. 59. 70.] : C\n",
            "Correct\n",
            "[49. 77. 56.  4.] : F\n",
            "Correct\n",
            "[23. 24. 65. 60.] : F\n",
            "Correct\n",
            "[23. 46. 35. 59.] : F\n",
            "Correct\n",
            "[40. 95. 86. 63.] : B\n",
            "Correct\n",
            "[44. 46. 17.  4.] : F\n",
            "Correct\n",
            "[65. 41. 93. 24.] : D\n",
            "Correct\n",
            "[ 0. 92.  8. 91.] : F\n",
            "Correct\n",
            "[88. 89. 64. 67.] : B\n",
            "Correct\n",
            "[67.  2. 63. 17.] : F\n",
            "Correct\n",
            "[86. 97. 14. 61.] : C\n",
            "Correct\n",
            "[32. 42. 17.  8.] : F\n",
            "Wrong\n",
            "Guess :  D\n",
            "[84. 45. 23. 92.] : C\n",
            "Correct\n",
            "[95. 49.  3.  8.] : F\n",
            "Correct\n",
            "[60. 37. 97. 80.] : C\n",
            "Correct\n",
            "[82. 95. 11. 61.] : C\n",
            "Correct\n",
            "[100.  61.  70.  43.] : C\n",
            "Correct\n",
            "[66. 55. 89.  1.] : D\n",
            "Correct\n",
            "[ 18. 100.  28.  25.] : F\n",
            "Correct\n",
            "[81.  9. 15. 98.] : D\n",
            "Correct\n",
            "[77. 26. 93. 52.] : C\n",
            "Wrong\n",
            "Guess :  C\n",
            "[56. 86. 95. 51.] : B\n",
            "Correct\n",
            "[34. 79. 77. 33.] : D\n",
            "Correct\n",
            "[66. 48. 10. 29.] : F\n",
            "Correct\n",
            "[40. 79. 38. 77.] : D\n",
            "Correct\n",
            "[21. 91. 32. 18.] : F\n",
            "Correct\n",
            "[88. 63. 74. 40.] : C\n",
            "Correct\n",
            "[77. 54. 84.  5.] : D\n",
            "Correct\n",
            "[76. 43.  5.  5.] : F\n",
            "Correct\n",
            "[30. 61. 35. 22.] : F\n",
            "Wrong\n",
            "Guess :  B\n",
            "[92. 35. 54. 94.] : C\n",
            "Correct\n",
            "[29. 91. 37. 60.] : D\n",
            "Correct\n",
            "[71. 65. 99. 69.] : B\n",
            "Correct\n",
            "[31. 14. 39. 80.] : F\n",
            "Wrong\n",
            "Guess :  C\n",
            "[84. 76. 42. 80.] : B\n",
            "Correct\n",
            "[40. 69. 98.  0.] : D\n",
            "Correct\n",
            "[58. 33. 59. 72.] : D\n",
            "Correct\n",
            "[83. 98. 93. 67.] : B\n",
            "Correct\n",
            "[14. 19.  7. 48.] : F\n",
            "Correct\n",
            "[53. 16. 28. 12.] : F\n",
            "Correct\n",
            "[97. 16. 19. 52.] : F\n",
            "Correct\n",
            "[44. 74. 32. 26.] : F\n",
            "Correct\n",
            "[87. 70. 62. 42.] : C\n",
            "Correct\n",
            "[43. 80. 53. 97.] : C\n",
            "Correct\n",
            "[ 22. 100.  17.  22.] : F\n",
            "Correct\n",
            "[69. 22. 26. 13.] : F\n",
            "Correct\n",
            "[37. 97. 86. 78.] : B\n",
            "Correct\n",
            "[66. 93. 16. 77.] : C\n",
            "Correct\n",
            "[ 8. 93. 58. 98.] : C\n",
            "Correct\n",
            "[13. 10.  4. 53.] : F\n",
            "Correct\n",
            "[19. 25. 32. 76.] : F\n",
            "Correct\n",
            "[32.  4. 35. 68.] : F\n",
            "Correct\n",
            "[82. 78. 11. 55.] : D\n",
            "Correct\n",
            "[63. 88. 65.  7.] : D\n",
            "Correct\n",
            "[73. 73. 85. 85.] : B\n",
            "Correct\n",
            "[27. 92. 14. 27.] : F\n",
            "Wrong\n",
            "Guess :  C\n",
            "[84. 97. 18. 89.] : B\n",
            "Correct\n",
            "[ 41. 100.  55.  60.] : C\n",
            "Wrong\n",
            "Guess :  F\n",
            "[26. 15. 94. 72.] : D\n",
            "Correct\n",
            "[51. 34. 26. 76.] : F\n",
            "Correct\n",
            "[60.  5. 90. 45.] : D\n",
            "Correct\n",
            "[69. 96. 29. 30.] : D\n",
            "Correct\n",
            "[ 8. 63. 50. 65.] : F\n",
            "Wrong\n",
            "Guess :  F\n",
            "[12. 26. 96. 73.] : D\n",
            "Correct\n",
            "[57. 84. 63. 47.] : C\n",
            "Correct\n",
            "[33. 81. 79. 15.] : D\n",
            "Correct\n",
            "[71. 20. 81. 80.] : C\n",
            "Correct\n",
            "[10. 90. 42. 96.] : D\n",
            "Correct\n",
            "[32. 36. 94. 10.] : F\n",
            "Correct\n",
            "[65.  9. 17. 17.] : F\n",
            "Correct\n",
            "[ 7. 31. 50.  0.] : F\n",
            "Correct\n",
            "[56. 81. 76. 17.] : D\n",
            "Correct\n",
            "[95. 10. 75. 38.] : D\n",
            "Wrong\n",
            "Guess :  C\n",
            "[29. 92. 67. 92.] : B\n",
            "Correct\n",
            "[31. 15. 36. 78.] : F\n",
            "Wrong\n",
            "Guess :  D\n",
            "[40. 31. 95. 82.] : C\n",
            "Correct\n",
            "[79. 49. 18. 38.] : F\n",
            "Wrong\n",
            "Guess :  C\n",
            "[71. 70. 53. 94.] : B\n",
            "Correct\n",
            "[ 4. 49. 55. 67.] : F\n",
            "Correct\n",
            "[12. 58. 56. 97.] : D\n",
            "Correct\n",
            "[85. 73. 39. 75.] : C\n",
            "Correct\n",
            "[77. 33. 22. 84.] : D\n",
            "Correct\n",
            "[16. 80. 60. 62.] : D\n",
            "Wrong\n",
            "Guess :  F\n",
            "[24. 59. 27. 92.] : D\n",
            "Wrong\n",
            "Guess :  D\n",
            "[49. 24. 64. 60.] : F\n",
            "Correct\n",
            "[53. 99. 26. 44.] : D\n",
            "Correct\n",
            "[ 3. 46. 30. 39.] : F\n",
            "Wrong\n",
            "Guess :  D\n",
            "[39. 62.  7. 84.] : F\n",
            "Correct\n",
            "[55. 52. 69.  1.] : F\n",
            "Correct\n",
            "[14. 45. 50. 63.] : F\n",
            "Correct\n",
            "[25. 95. 47.  0.] : F\n",
            "Correct\n",
            "[30.  3. 28. 15.] : F\n",
            "Wrong\n",
            "Guess :  C\n",
            "[87. 43. 70. 38.] : D\n",
            "Correct\n",
            "[73. 18. 50. 37.] : F\n",
            "Correct\n",
            "[61. 74. 34. 12.] : F\n",
            "Correct\n",
            "[48. 13. 91. 64.] : D\n",
            "Correct\n",
            "[25. 64. 65. 14.] : F\n",
            "Correct\n",
            "[36.  6. 18. 39.] : F\n",
            "Correct\n",
            "[99. 17. 85. 70.] : C\n",
            "Correct\n",
            "[91. 68. 89. 74.] : B\n",
            "Correct\n",
            "[87.  3. 97. 99.] : B\n",
            "Correct\n",
            "[24. 37. 63. 53.] : F\n",
            "Correct\n",
            "[71. 20. 81. 80.] : C\n",
            "Correct\n",
            "[55. 82. 69. 65.] : C\n",
            "Correct\n",
            "[ 2. 16. 45. 36.] : F\n",
            "Correct\n",
            "[28. 82. 16. 82.] : D\n",
            "Correct\n",
            "[ 7. 29.  2. 60.] : F\n",
            "Correct\n",
            "[ 3. 26. 40. 47.] : F\n",
            "Correct\n",
            "[54. 45. 62. 53.] : D\n",
            "Correct\n",
            "[ 1. 75. 38. 99.] : D\n",
            "Correct\n",
            "[85. 46. 39. 31.] : D\n",
            "Correct\n",
            "[59. 15. 89. 70.] : D\n",
            "Correct\n",
            "[87. 38. 56. 76.] : C\n",
            "Correct\n",
            "[ 2. 55. 21. 17.] : F\n",
            "Correct\n",
            "[14. 69. 96. 93.] : C\n",
            "Correct\n",
            "[12. 21. 54. 21.] : F\n",
            "Correct\n",
            "[71. 90. 89. 55.] : B\n",
            "Correct\n",
            "[49.  0. 61. 64.] : F\n",
            "Wrong\n",
            "Guess :  D\n",
            "[89. 97. 44. 11.] : C\n",
            "Correct\n",
            "[66. 34. 78. 79.] : C\n",
            "Correct\n",
            "[14. 66. 52. 74.] : D\n",
            "Correct\n",
            "[87. 49. 98. 31.] : C\n",
            "Wrong\n",
            "Guess :  C\n",
            "[81. 88. 44. 76.] : B\n",
            "Correct\n",
            "[10. 44. 39. 31.] : F\n",
            "Correct\n",
            "[50. 26. 57. 51.] : F\n",
            "Correct\n",
            "[30. 83. 54. 14.] : F\n",
            "Correct\n",
            "[19. 78.  8. 63.] : F\n",
            "Correct\n",
            "[18. 86. 90. 17.] : D\n",
            "Correct\n",
            "[74. 18. 70. 81.] : C\n",
            "Correct\n",
            "[64. 81. 73.  8.] : D\n",
            "Correct\n",
            "[13. 53. 38. 28.] : F\n",
            "Wrong\n",
            "Guess :  F\n",
            "[78. 89. 25. 11.] : D\n",
            "Wrong\n",
            "Guess :  D\n",
            "[27. 76. 90. 55.] : C\n",
            "Correct\n",
            "[35. 28. 22. 29.] : F\n",
            "Wrong\n",
            "Guess :  D\n",
            "[91. 24.  9. 74.] : F\n",
            "Correct\n",
            "[ 2. 16. 45. 36.] : F\n",
            "Correct\n",
            "[86. 54. 92. 62.] : B\n",
            "Correct\n",
            "[49. 14. 50. 13.] : F\n",
            "Wrong\n",
            "Guess :  C\n",
            "[78. 79. 53. 29.] : D\n",
            "Correct\n",
            "[ 1. 12. 47. 99.] : F\n",
            "Correct\n",
            "[ 3. 62. 23. 16.] : F\n",
            "Correct\n",
            "[80. 31.  5. 18.] : F\n",
            "Correct\n",
            "[53. 59. 24. 21.] : F\n",
            "Correct\n",
            "[67. 81.  7.  4.] : F\n",
            "Correct\n",
            "[66. 40. 70. 63.] : D\n",
            "Correct\n",
            "[58. 81. 46. 65.] : C\n",
            "Correct\n",
            "[12. 58. 84. 54.] : D\n",
            "Correct\n",
            "[75. 45. 16. 61.] : F\n",
            "Correct\n",
            "[ 1. 53.  9. 56.] : F\n",
            "Correct\n",
            "[67. 61. 75. 32.] : D\n",
            "Correct\n",
            "[62. 99.  2. 14.] : F\n",
            "Correct\n",
            "[ 6. 23. 81. 45.] : F\n",
            "Correct\n",
            "[25. 83. 48. 82.] : D\n",
            "Correct\n",
            "[58. 93.  2. 55.] : D\n",
            "Correct\n",
            "[62.  6. 86. 60.] : D\n",
            "Correct\n",
            "[89. 60. 15. 96.] : C\n",
            "Correct\n",
            "[15. 29. 98. 67.] : D\n",
            "Correct\n",
            "[34.  0. 47. 70.] : F\n",
            "Correct\n",
            "[70. 26. 78. 32.] : D\n",
            "Correct\n",
            "[80. 94. 56. 91.] : B\n",
            "Correct\n",
            "[69. 94.  3. 66.] : D\n",
            "Correct\n",
            "[47. 15. 35. 82.] : F\n",
            "Correct\n",
            "[ 8. 21. 44. 75.] : F\n",
            "Correct\n",
            "[87. 26. 43. 32.] : F\n",
            "Wrong\n",
            "Guess :  B\n",
            "[74. 25. 87. 78.] : C\n",
            "Correct\n",
            "[57.  9.  3. 16.] : F\n",
            "Wrong\n",
            "Guess :  C\n",
            "[29. 92. 67. 92.] : B\n",
            "Correct\n",
            "[97. 20. 17. 73.] : D\n",
            "Correct\n",
            "[93.  9. 76. 45.] : D\n",
            "Wrong\n",
            "Guess :  D\n",
            "[41. 14. 95. 99.] : C\n",
            "Correct\n",
            "[12. 21. 54. 21.] : F\n",
            "Correct\n",
            "[80. 57.  8. 82.] : D\n",
            "Correct\n",
            "[18. 68. 71. 94.] : C\n",
            "Correct\n",
            "[ 8. 39. 76. 98.] : D\n",
            "Correct\n",
            "[30. 29. 46. 25.] : F\n",
            "Correct\n",
            "[47. 49. 49. 65.] : D\n",
            "Correct\n",
            "[  8.  76. 100.  84.] : C\n",
            "Correct\n",
            "[11. 66. 44. 22.] : F\n",
            "Correct\n",
            "[38.  9. 63. 29.] : F\n",
            "Wrong\n",
            "Guess :  D\n",
            "[78. 41. 83. 41.] : C\n",
            "Correct\n",
            "[75. 19. 79. 86.] : C\n",
            "Correct\n",
            "[55.  9. 64. 96.] : D\n",
            "Correct\n",
            "[63. 45. 67. 92.] : C\n",
            "Correct\n",
            "[62. 35. 15. 69.] : F\n",
            "Correct\n",
            "[ 6. 54. 29. 79.] : F\n",
            "Correct\n",
            "[65. 66.  4.  9.] : F\n",
            "Correct\n",
            "[13. 20. 23. 45.] : F\n",
            "Correct\n",
            "[76. 81.  5. 28.] : F\n",
            "Correct\n",
            "[32. 22. 27. 76.] : F\n",
            "Wrong\n",
            "Guess :  F\n",
            "[12. 26. 96. 73.] : D\n",
            "Correct\n",
            "[77. 50. 15.  3.] : F\n",
            "Correct\n",
            "[39. 33. 84. 30.] : F\n",
            "Correct\n",
            "[ 0. 14.  7. 29.] : F\n",
            "Correct\n",
            "[65. 51.  8. 88.] : D\n",
            "Correct\n",
            "[ 2. 40. 24. 17.] : F\n",
            "Correct\n",
            "[32. 98. 55. 71.] : C\n",
            "Correct\n",
            "[14. 51. 32. 88.] : F\n",
            "Correct\n",
            "[79. 82. 72. 88.] : B\n",
            "Correct\n",
            "[52.  4. 98. 93.] : C\n",
            "Correct\n",
            "[91. 68. 89. 74.] : B\n",
            "Correct\n",
            "[98. 57. 37. 22.] : D\n",
            "Correct\n",
            "[85. 10. 64. 85.] : C\n",
            "Correct\n",
            "[57. 40. 45.  5.] : F\n",
            "Correct\n",
            "[48. 17. 74. 25.] : F\n",
            "Correct\n",
            "[58. 12. 14. 90.] : F\n",
            "Correct\n",
            "[42. 15. 81. 71.] : D\n",
            "Correct\n",
            "[33. 92. 93. 96.] : B\n",
            "Correct\n",
            "[47. 97. 56. 37.] : D\n",
            "Correct\n",
            "[ 2. 20. 95. 60.] : F\n",
            "Correct\n",
            "[36. 27. 74. 10.] : F\n",
            "Correct\n",
            "[49. 96. 33. 87.] : C\n",
            "Correct\n",
            "[ 9. 76. 39. 75.] : F\n",
            "Correct\n",
            "[27. 10.  3. 56.] : F\n",
            "Correct\n",
            "[ 7. 66. 25. 66.] : F\n",
            "Correct\n",
            "[100.  86.  24.  96.] : B\n",
            "Correct\n",
            "[77. 35. 18. 94.] : D\n",
            "Correct\n",
            "[98. 14. 90.  9.] : D\n",
            "Correct\n",
            "[68.  7. 23. 63.] : F\n",
            "Correct\n",
            "[56. 81. 76. 17.] : D\n",
            "Correct\n",
            "[57. 41. 90. 63.] : C\n",
            "Correct\n",
            "[86.  5. 54. 26.] : F\n",
            "Correct\n",
            "[ 8. 39. 76. 98.] : D\n",
            "Correct\n",
            "[ 2. 12. 71. 19.] : F\n",
            "Correct\n",
            "[36.  8. 54. 34.] : F\n",
            "Correct\n",
            "[76. 20. 60. 19.] : F\n",
            "Wrong\n",
            "Guess :  F\n",
            "[49. 91. 41. 22.] : D\n",
            "Correct\n",
            "[44. 86. 91. 79.] : B\n",
            "Wrong\n",
            "Guess :  C\n",
            "[52. 82. 25. 77.] : D\n",
            "Correct\n",
            "[  2.  26.  17. 100.] : F\n",
            "Correct\n",
            "[69. 96. 29. 30.] : D\n",
            "Correct\n",
            "[12. 70. 16. 45.] : F\n",
            "Correct\n",
            "[66. 96. 37. 29.] : D\n",
            "Correct\n",
            "[100.  74.  95.  32.] : B\n",
            "Correct\n",
            "[98. 65.  6. 78.] : C\n",
            "Correct\n",
            "[48. 64. 67. 80.] : C\n",
            "Correct\n",
            "[87. 70. 62. 42.] : C\n",
            "Correct\n",
            "[11. 31. 63. 87.] : F\n",
            "Correct\n",
            "[34. 37. 59. 49.] : F\n",
            "Correct\n",
            "[ 21.  22.  97. 100.] : C\n",
            "Correct\n",
            "[59. 20. 32. 43.] : F\n",
            "Wrong\n",
            "Guess :  C\n",
            "[90. 49. 94.  2.] : D\n",
            "Correct\n",
            "[70. 55. 23. 47.] : F\n",
            "Correct\n",
            "[51. 10. 45. 56.] : F\n",
            "Correct\n",
            "[ 0. 29. 40. 48.] : F\n",
            "Correct\n",
            "[53. 54. 62. 58.] : D\n",
            "Correct\n",
            "[47.  1. 61. 73.] : F\n",
            "Correct\n",
            "[29.  2. 96. 51.] : F\n",
            "Wrong\n",
            "Guess :  D\n",
            "[84. 20. 69. 77.] : C\n",
            "Correct\n",
            "[25. 71. 75. 65.] : D\n",
            "Correct\n",
            "[78. 37. 87. 52.] : C\n",
            "Correct\n",
            "[36.  0. 21. 64.] : F\n",
            "Correct\n",
            "[25. 87.  1. 38.] : F\n",
            "Wrong\n",
            "Guess :  C\n",
            "[ 0. 76. 60. 92.] : D\n",
            "Correct\n",
            "[31. 44. 51. 15.] : F\n",
            "Correct\n",
            "[23.  5. 95. 11.] : F\n",
            "Correct\n",
            "[48. 42.  5. 13.] : F\n",
            "Correct\n",
            "[73. 60. 27. 45.] : D\n",
            "Correct\n",
            "[36. 27. 74. 10.] : F\n",
            "Wrong\n",
            "Guess :  D\n",
            "[99. 39.  7. 98.] : C\n",
            "Correct\n",
            "[85. 46. 39. 95.] : C\n",
            "Correct\n",
            "[51. 15. 26. 25.] : F\n",
            "Correct\n",
            "[66. 77. 47. 79.] : C\n",
            "Wrong\n",
            "Guess :  C\n",
            "[76. 99. 45. 75.] : B\n",
            "Correct\n",
            "[30. 39.  3. 12.] : F\n",
            "Correct\n",
            "[88. 42. 12. 14.] : F\n",
            "Correct\n",
            "[17. 42. 39.  2.] : F\n",
            "Correct\n",
            "[87.  3. 97. 99.] : B\n",
            "Correct\n",
            "[29. 96. 87.  8.] : D\n",
            "Correct\n",
            "[60. 69. 72. 45.] : C\n",
            "Wrong\n",
            "Guess :  F\n",
            "[36. 74. 22. 72.] : D\n",
            "Correct\n",
            "[32. 62. 87. 82.] : C\n",
            "Correct\n",
            "[38. 20. 70. 23.] : F\n",
            "Correct\n",
            "[91. 97. 28. 15.] : D\n",
            "Correct\n",
            "[91. 84. 31. 40.] : C\n",
            "Correct\n",
            "[29. 96. 87.  8.] : D\n",
            "Correct\n",
            "[78. 37. 95. 19.] : D\n",
            "Correct\n",
            "[15.  3. 51. 64.] : F\n",
            "Wrong\n",
            "Guess :  D\n",
            "[39. 73.  4. 82.] : F\n",
            "Correct\n",
            "[25. 35. 89. 17.] : F\n",
            "Correct\n",
            "[15. 20.  6.  1.] : F\n",
            "Correct\n",
            "[63. 88. 65.  7.] : D\n",
            "Correct\n",
            "[98. 47. 34. 69.] : C\n",
            "Correct\n",
            "[96.  3. 57. 96.] : C\n",
            "Correct\n",
            "[48. 64. 67. 80.] : C\n",
            "Correct\n",
            "[49. 64. 37. 49.] : F\n",
            "Correct\n",
            "[92. 92. 27. 58.] : C\n",
            "Correct\n",
            "[94. 55. 19. 70.] : D\n",
            "Correct\n",
            "[13. 41. 12. 23.] : F\n",
            "Correct\n",
            "[34. 37. 59. 49.] : F\n",
            "Correct\n",
            "[11. 28. 92. 27.] : F\n",
            "Correct\n",
            "[79. 49. 71. 31.] : D\n",
            "Correct\n",
            "[49. 16. 69. 94.] : D\n",
            "Correct\n",
            "[47. 84. 74. 97.] : B\n",
            "Correct\n",
            "[10. 97. 60. 61.] : D\n",
            "Correct\n",
            "[ 1. 13. 63. 44.] : F\n",
            "Correct\n",
            "[45. 39. 96. 12.] : F\n",
            "Correct\n",
            "[57. 82. 82. 97.] : B\n",
            "Correct\n",
            "[48. 80. 58. 16.] : D\n",
            "Correct\n",
            "[38. 83.  4. 29.] : F\n",
            "Correct\n",
            "[38.  4.  9. 40.] : F\n",
            "Correct\n",
            "[36.  3. 79.  2.] : F\n",
            "Wrong\n",
            "Guess :  D\n",
            "[10. 27. 68. 84.] : F\n",
            "Correct\n",
            "[29. 42. 90. 89.] : C\n",
            "Correct\n",
            "[ 1. 86. 47.  0.] : F\n",
            "Correct\n",
            "[ 5. 58. 69. 93.] : D\n",
            "Correct\n",
            "[36. 30. 84. 68.] : D\n",
            "Correct\n",
            "[ 3.  2. 51.  3.] : F\n",
            "Correct\n",
            "[18. 83.  7. 53.] : F\n",
            "Correct\n",
            "[53.  0. 65. 21.] : F\n",
            "Correct\n",
            "[100.   5.  43.   3.] : F\n",
            "Correct\n",
            "[32. 61. 61. 15.] : F\n",
            "Correct\n",
            "[ 3. 64.  1. 73.] : F\n",
            "Correct\n",
            "[89. 85.  0. 89.] : C\n",
            "Wrong\n",
            "Guess :  C\n",
            "[45. 75. 94. 17.] : D\n",
            "Correct\n",
            "[17. 20. 86. 60.] : F\n",
            "Correct\n",
            "[94. 74.  0. 88.] : C\n",
            "Correct\n",
            "[81. 18. 80. 87.] : C\n",
            "Correct\n",
            "[80. 94. 56. 91.] : B\n",
            "Correct\n",
            "[79. 29. 46. 11.] : F\n",
            "Correct\n",
            "[54.  6. 27. 79.] : F\n",
            "Correct\n",
            "[61. 19. 59. 67.] : D\n",
            "Correct\n",
            "[13. 74. 99. 81.] : C\n",
            "Correct\n",
            "[24. 67. 22. 34.] : F\n",
            "Correct\n",
            "[70. 81. 92. 71.] : B\n",
            "Wrong\n",
            "Guess :  B\n",
            "[ 83. 100.   2.  76.] : C\n",
            "Correct\n",
            "[88. 97. 91. 89.] : A\n",
            "Correct\n",
            "[51. 16. 17. 93.] : F\n",
            "Correct\n",
            "[98. 65.  6. 78.] : C\n",
            "Correct\n",
            "[ 1. 43. 66. 35.] : F\n",
            "Correct\n",
            "[24. 64. 68. 12.] : F\n",
            "Correct\n",
            "[57. 27. 57. 42.] : F\n",
            "Wrong\n",
            "Guess :  C\n",
            "[91. 59. 41. 92.] : B\n",
            "Correct\n",
            "[18. 18. 11.  9.] : F\n",
            "Correct\n",
            "[11. 39. 70. 36.] : F\n",
            "Correct\n",
            "[77. 78. 49. 42.] : C\n",
            "Correct\n",
            "[87. 67. 74. 71.] : B\n",
            "Correct\n",
            "[93. 10. 34. 99.] : D\n",
            "Correct\n",
            "[81. 78. 51. 60.] : C\n",
            "Correct\n",
            "[78.  4. 27. 69.] : F\n",
            "Wrong\n",
            "Guess :  B\n",
            "[82. 14. 96. 72.] : C\n",
            "Correct\n",
            "[62. 69. 74. 50.] : C\n",
            "Correct\n",
            "[67. 18. 15. 91.] : F\n",
            "Correct\n",
            "[98. 30.  3.  1.] : F\n",
            "Correct\n",
            "[21. 33. 92. 80.] : D\n",
            "Correct\n",
            "[75. 45. 16. 61.] : F\n",
            "Correct\n",
            "[95. 49.  3.  8.] : F\n",
            "Wrong\n",
            "Guess :  C\n",
            "[61. 60. 64. 96.] : B\n",
            "Correct\n",
            "[19. 37. 33. 54.] : F\n",
            "Correct\n",
            "[55. 74. 70. 23.] : D\n",
            "Correct\n",
            "[45. 64. 35. 45.] : F\n",
            "Correct\n",
            "[60. 55. 38. 57.] : D\n",
            "Correct\n",
            "[68. 87. 79. 87.] : B\n",
            "Correct\n",
            "[85. 14.  3. 22.] : F\n",
            "Correct\n",
            "[53. 78. 51. 30.] : D\n",
            "Correct\n",
            "[53. 48. 80. 90.] : C\n",
            "Correct\n",
            "[97.  8. 39. 36.] : F\n",
            "Correct\n",
            "[ 4.  8.  2. 20.] : F\n",
            "Wrong\n",
            "Guess :  C\n",
            "[30. 77. 95. 28.] : D\n",
            "Correct\n",
            "[24. 87. 59.  7.] : F\n",
            "Correct\n",
            "[23. 20. 93. 44.] : F\n",
            "Correct\n",
            "[54. 10. 15. 43.] : F\n",
            "Correct\n",
            "[67. 87. 83. 25.] : C\n",
            "Correct\n",
            "[82. 32. 32. 76.] : D\n",
            "Correct\n",
            "[68. 97. 80. 66.] : B\n",
            "Correct\n",
            "[53. 44.  9. 17.] : F\n",
            "Correct\n",
            "[91. 70. 99. 74.] : B\n",
            "Correct\n",
            "[81. 52. 39.  4.] : F\n",
            "Correct\n",
            "[ 6. 72. 58. 18.] : F\n",
            "Correct\n",
            "[36.  6. 18. 39.] : F\n",
            "Wrong\n",
            "Guess :  D\n",
            "[100.   9.  13.  62.] : F\n",
            "Correct\n",
            "[60. 79. 24. 97.] : C\n",
            "Correct\n",
            "[42.  1. 27. 72.] : F\n",
            "Correct\n",
            "[13.  3. 57. 86.] : F\n",
            "Wrong\n",
            "Guess :  D\n",
            "[98. 16. 94. 37.] : C\n",
            "Correct\n",
            "[39. 40.  8. 68.] : F\n",
            "Wrong\n",
            "Guess :  D\n",
            "[89. 97. 44. 11.] : C\n",
            "Correct\n",
            "[44. 83. 63. 83.] : C\n",
            "Correct\n",
            "[11. 28. 92. 27.] : F\n",
            "Correct\n",
            "[59. 49. 80.  0.] : F\n",
            "Correct\n",
            "[ 38. 100.  56.  76.] : C\n",
            "Correct\n",
            "[93. 56. 28. 96.] : C\n",
            "Correct\n",
            "[47. 28. 55. 46.] : F\n",
            "Correct\n",
            "[ 4. 84. 51. 81.] : D\n",
            "Wrong\n",
            "Guess :  D\n",
            "[23. 88. 77. 52.] : C\n",
            "Correct\n",
            "[49. 17. 39. 13.] : F\n",
            "Correct\n",
            "[12. 21. 54. 21.] : F\n",
            "Correct\n",
            "[38. 71. 33. 46.] : F\n",
            "Correct\n",
            "[42. 92. 79. 36.] : C\n",
            "Correct\n",
            "[ 4. 98. 99. 20.] : D\n",
            "Correct\n",
            "[24. 23. 91. 51.] : F\n",
            "Correct\n",
            "[83. 36. 12. 32.] : F\n",
            "Correct\n",
            "[65.  5. 72.  6.] : F\n",
            "Correct\n",
            "[10. 33. 14. 11.] : F\n",
            "Correct\n",
            "[42. 12. 72. 17.] : F\n",
            "Correct\n",
            "[70. 47. 54. 92.] : C\n",
            "Correct\n",
            "[82. 95. 11. 61.] : C\n",
            "Correct\n",
            "[24. 67. 22. 34.] : F\n",
            "Correct\n",
            "[83. 13. 56. 15.] : F\n",
            "Wrong\n",
            "Guess :  D\n",
            "[49. 24. 64. 60.] : F\n",
            "Correct\n",
            "[33. 16.  8. 12.] : F\n",
            "Correct\n",
            "[28. 71. 23. 20.] : F\n",
            "Correct\n",
            "[15. 41. 35. 40.] : F\n",
            "Correct\n",
            "[62.  6. 86. 60.] : D\n",
            "Correct\n",
            "[ 2. 91. 11.  4.] : F\n",
            "Correct\n",
            "[80. 53. 47. 84.] : C\n",
            "Correct\n",
            "[86. 48. 50. 36.] : D\n",
            "Correct\n",
            "[ 78.  25.  85. 100.] : B\n",
            "Correct\n",
            "[45. 88. 74. 22.] : D\n",
            "Correct\n",
            "[45. 80. 86. 71.] : B\n",
            "Correct\n",
            "[77. 50. 15.  3.] : F\n",
            "Wrong\n",
            "Guess :  F\n",
            "[94. 99.  1. 11.] : D\n",
            "Correct\n",
            "[87.  3. 97. 99.] : B\n",
            "Correct\n",
            "[76. 43.  5.  5.] : F\n",
            "Wrong\n",
            "Guess :  C\n",
            "[89.  8. 83. 59.] : D\n",
            "Correct\n",
            "[44. 37.  9. 97.] : F\n",
            "Wrong\n",
            "Guess :  D\n",
            "[74. 38. 39. 44.] : F\n",
            "Correct\n",
            "[32. 25. 62. 42.] : F\n",
            "Wrong\n",
            "Guess :  C\n",
            "[17. 67. 81. 72.] : D\n",
            "Correct\n",
            "[86. 78. 43. 93.] : B\n",
            "Correct\n",
            "[21. 50.  7. 11.] : F\n",
            "Wrong\n",
            "Guess :  C\n",
            "[50. 67. 59. 53.] : D\n",
            "Correct\n",
            "[63. 75.  9. 11.] : F\n",
            "Correct\n",
            "[ 0. 99.  6. 55.] : F\n",
            "Correct\n",
            "[47.  5. 63. 53.] : F\n",
            "Correct\n",
            "[65. 55. 17. 57.] : F\n",
            "Correct\n",
            "[43. 71. 90. 38.] : C\n",
            "Correct\n",
            "[66. 12. 77. 61.] : D\n",
            "Correct\n",
            "[ 80.  60.  56. 100.] : B\n",
            "Wrong\n",
            "Guess :  D\n",
            "[83. 19. 98. 44.] : C\n",
            "Correct\n",
            "[ 8. 22. 76.  5.] : F\n",
            "Correct\n",
            "[71. 63. 82. 65.] : B\n",
            "Correct\n",
            "[46. 38. 85. 19.] : F\n",
            "Correct\n",
            "[42. 43.  1. 42.] : F\n",
            "Correct\n",
            "[28. 76. 29.  2.] : F\n",
            "Correct\n",
            "[77. 50. 15.  3.] : F\n",
            "Correct\n",
            "[38. 21. 65. 82.] : D\n",
            "Correct\n",
            "[88. 40. 18. 74.] : D\n",
            "Correct\n",
            "[85. 88. 33. 75.] : B\n",
            "Correct\n",
            "[28. 44. 88. 84.] : C\n",
            "Correct\n",
            "[17. 69. 57. 67.] : D\n",
            "Correct\n",
            "[44. 86. 91. 79.] : B\n",
            "Correct\n",
            "[51. 34. 70. 69.] : D\n",
            "Correct\n",
            "[13. 56. 77. 34.] : F\n",
            "Correct\n",
            "[40. 14. 81. 70.] : D\n",
            "Correct\n",
            "[34. 84. 58.  5.] : F\n",
            "Correct\n",
            "[15. 17. 46. 32.] : F\n",
            "Correct\n",
            "[ 1. 29. 89. 13.] : F\n",
            "Correct\n",
            "[52. 22. 12. 53.] : F\n",
            "Correct\n",
            "[59. 20. 32. 43.] : F\n",
            "Correct\n",
            "[37. 98. 30. 55.] : D\n",
            "Correct\n",
            "[37. 39. 49. 89.] : D\n",
            "Correct\n",
            "[37. 28.  0.  9.] : F\n",
            "Correct\n",
            "[62. 98. 62. 84.] : B\n",
            "Wrong\n",
            "Guess :  C\n",
            "[99. 87.  9. 39.] : D\n",
            "Correct\n",
            "[87. 83. 88. 55.] : B\n",
            "Correct\n",
            "[ 95.  75.  72. 100.] : B\n",
            "Correct\n",
            "[11. 61. 33. 63.] : F\n",
            "Correct\n",
            "[43. 98. 74. 45.] : C\n",
            "Correct\n",
            "[78. 73. 79. 53.] : B\n",
            "Correct\n",
            "[66. 98. 78. 60.] : B\n",
            "Correct\n",
            "[81.  4. 53.  8.] : F\n",
            "Correct\n",
            "[ 15. 100.  81.  33.] : D\n",
            "Correct\n",
            "[68. 97. 80. 66.] : B\n",
            "Correct\n",
            "[55. 12. 21. 79.] : F\n",
            "Wrong\n",
            "Guess :  C\n",
            "[71. 70. 53. 94.] : B\n",
            "Correct\n",
            "[31. 54. 37.  1.] : F\n",
            "Correct\n",
            "[46. 54. 49. 70.] : D\n",
            "Correct\n",
            "[ 7. 29.  2. 60.] : F\n",
            "Correct\n",
            "[ 0. 99. 59. 68.] : D\n",
            "Correct\n",
            "[29. 42. 90. 89.] : C\n",
            "Correct\n",
            "[85. 10. 41. 20.] : F\n",
            "Correct\n",
            "[24. 78. 72. 61.] : D\n",
            "Correct\n",
            "[ 5. 44. 64. 29.] : F\n",
            "Correct\n",
            "[12. 71. 83. 29.] : F\n",
            "Correct\n",
            "[ 3. 86.  7.  2.] : F\n",
            "Correct\n",
            "[23. 52. 90. 17.] : F\n",
            "Correct\n",
            "[ 96.  53. 100.  39.] : B\n",
            "Correct\n",
            "[57. 37. 57. 14.] : F\n",
            "Correct\n",
            "[73. 72. 52. 30.] : D\n",
            "Correct\n",
            "[74. 30. 16. 10.] : F\n",
            "Correct\n",
            "[73. 53. 55. 45.] : D\n",
            "Correct\n",
            "[78. 62. 51. 35.] : D\n",
            "Wrong\n",
            "Guess :  C\n",
            "[89. 66. 81. 56.] : B\n",
            "Correct\n",
            "[11. 85. 51. 42.] : F\n",
            "Correct\n",
            "[79. 29. 46. 11.] : F\n",
            "Correct\n",
            "[ 34.  61.  15. 100.] : D\n",
            "Correct\n",
            "[67. 13. 16. 29.] : F\n",
            "Correct\n",
            "[36.  8. 54. 34.] : F\n",
            "Correct\n",
            "[20. 87. 29. 42.] : F\n",
            "Correct\n",
            "[93. 54. 14. 71.] : D\n",
            "Correct\n",
            "[66. 40. 70. 63.] : D\n",
            "Correct\n",
            "[89. 26. 46. 32.] : F\n",
            "Wrong\n",
            "Guess :  C\n",
            "[64. 68. 22. 83.] : D\n",
            "Correct\n",
            "[16.  3. 23. 57.] : F\n",
            "Correct\n",
            "[76. 51. 43. 49.] : D\n",
            "Correct\n",
            "[85. 14.  3. 22.] : F\n",
            "Wrong\n",
            "Guess :  B\n",
            "[93. 64. 84. 38.] : C\n",
            "Correct\n",
            "[65. 64. 92. 67.] : B\n",
            "Correct\n",
            "[30. 50. 86. 44.] : D\n",
            "Correct\n",
            "[96.  0. 92. 86.] : C\n",
            "Correct\n",
            "[29. 54. 87. 96.] : C\n",
            "Wrong\n",
            "Guess :  D\n",
            "[95. 25. 90. 39.] : C\n",
            "cnt :  533\n",
            "Correct percent :  88.83333333333333 %\n"
          ],
          "name": "stdout"
        }
      ]
    },
    {
      "cell_type": "markdown",
      "metadata": {
        "id": "2R_LMwXlQtCt"
      },
      "source": [
        "####**DATA 정규화**\r\n",
        "\r\n",
        "distance를 계산하는 축들의 가중치가 같지 않기에 이를 맞춰주기 위한 처리\r\n",
        "\r\n",
        "아래의 코드는 최댓값과 최소값 사이의 백분율로 계산"
      ]
    },
    {
      "cell_type": "code",
      "metadata": {
        "colab": {
          "base_uri": "https://localhost:8080/"
        },
        "id": "mD9vJfASNLmR",
        "outputId": "699b6302-0830-494c-ec7c-8dac804cf60b"
      },
      "source": [
        "def nomalization1(train, test) :\r\n",
        "  max_value = np.array(train.max(axis = 0))\r\n",
        "  min_value = np.array(train.min(axis = 0))\r\n",
        "  temp_train = (np.array(train) - min_value) / (max_value - min_value)\r\n",
        "  temp_test = (np.array(test) - min_value) / (max_value - min_value)\r\n",
        "  return temp_train, temp_test\r\n",
        "\r\n",
        "print(\"Befor\")\r\n",
        "print(X_train)\r\n",
        "print(Y_train)\r\n",
        "X_train, Y_train = nomalization1(X_train, Y_train)\r\n",
        "print(\"After\")\r\n",
        "print(X_train)\r\n",
        "print(Y_train)"
      ],
      "execution_count": null,
      "outputs": [
        {
          "output_type": "stream",
          "text": [
            "Befor\n",
            "[[ 62.   172.72]\n",
            " [ 59.   167.64]\n",
            " [ 62.   172.72]\n",
            " ...\n",
            " [ 77.   170.18]\n",
            " [ 61.   170.18]\n",
            " [ 61.   172.72]]\n",
            "[[ 86.   160.02]\n",
            " [ 61.   162.56]\n",
            " [ 63.   177.8 ]\n",
            " ...\n",
            " [ 58.   165.1 ]\n",
            " [ 49.   162.56]\n",
            " [ 63.   177.8 ]]\n",
            "After\n",
            "[[0.26829268 0.63157895]\n",
            " [0.23170732 0.52631579]\n",
            " [0.26829268 0.63157895]\n",
            " ...\n",
            " [0.45121951 0.57894737]\n",
            " [0.25609756 0.57894737]\n",
            " [0.25609756 0.63157895]]\n",
            "[[0.56097561 0.36842105]\n",
            " [0.25609756 0.42105263]\n",
            " [0.2804878  0.73684211]\n",
            " ...\n",
            " [0.2195122  0.47368421]\n",
            " [0.1097561  0.42105263]\n",
            " [0.2804878  0.73684211]]\n"
          ],
          "name": "stdout"
        }
      ]
    },
    {
      "cell_type": "markdown",
      "metadata": {
        "id": "lbC7oNRt79w-"
      },
      "source": [
        "#####정규화 후 KNN"
      ]
    },
    {
      "cell_type": "code",
      "metadata": {
        "colab": {
          "base_uri": "https://localhost:8080/"
        },
        "id": "PtYiWvjaFVNW",
        "outputId": "e420d788-18e5-47b9-e47e-196a550c683b"
      },
      "source": [
        "from collections import Counter\r\n",
        "\r\n",
        "k = 3\r\n",
        "cnt = 0\r\n",
        "\r\n",
        "# select index in test_data\r\n",
        "for Y_index in range(len(Y_train)) :\r\n",
        "  distances = []\r\n",
        "\r\n",
        "  # calculate distance from test_data to train_data\r\n",
        "  # add distance to list named distances\r\n",
        "  for i in X_train :\r\n",
        "    dist = distance(i, Y_train[Y_index])\r\n",
        "    distances.append(dist)\r\n",
        "  \r\n",
        "  # sort index by distances\r\n",
        "  sorted_index_toDistance = np.argsort(distances)\r\n",
        "\r\n",
        "  # find target name by most nearest data in sorted_index_toDistance\r\n",
        "  nearest_index = []\r\n",
        "  for j in sorted_index_toDistance[:k] :\r\n",
        "    nearest_index.append(X_target[j])\r\n",
        "  result, result_count = Counter(nearest_index).most_common(1)[0]\r\n",
        "\r\n",
        "  # counting Correct\r\n",
        "  if(result == Y_target[Y_index]) :\r\n",
        "    cnt+=1\r\n",
        "\"\"\"\r\n",
        "    print(\"Correct\")\r\n",
        "  else :\r\n",
        "    print(\"Wrong\")\r\n",
        "    print(\"Guess : \", reverse_mapping[result])\r\n",
        "  print(Y_train[Y_index],\":\",reverse_mapping[Y_target[Y_index]])\r\n",
        "\"\"\"\r\n",
        "\r\n",
        "# printing the result\r\n",
        "print(\"cnt : \", cnt)\r\n",
        "print(\"Correct percent : \", cnt / len(Y_train) * 100, \"%\")"
      ],
      "execution_count": null,
      "outputs": [
        {
          "output_type": "stream",
          "text": [
            "cnt :  533\n",
            "Correct percent :  88.83333333333333 %\n"
          ],
          "name": "stdout"
        }
      ]
    },
    {
      "cell_type": "markdown",
      "metadata": {
        "id": "6bRqJc5bfmiJ"
      },
      "source": [
        "## scikit-learn을 활용하여 구현"
      ]
    },
    {
      "cell_type": "markdown",
      "metadata": {
        "id": "je7jGZXrdFxT"
      },
      "source": [
        "###scikit-learn이란"
      ]
    },
    {
      "cell_type": "markdown",
      "metadata": {
        "id": "Of5GRrfWcMLh"
      },
      "source": [
        "ML을 위한 기본 기능을 제공하는 무료 라이브러리\r\n",
        "\r\n",
        "* simple testdata 제공\r\n",
        "* 각종 알고리즘이 사전에 구현\r\n",
        "* 구현된 알고리즘은 동일한 방식으로 사용 가능"
      ]
    },
    {
      "cell_type": "markdown",
      "metadata": {
        "id": "-nL5oqDCBs6P"
      },
      "source": [
        "###KNN Classification"
      ]
    },
    {
      "cell_type": "markdown",
      "metadata": {
        "id": "lnFikOwUdCmW"
      },
      "source": [
        "####csv 호출"
      ]
    },
    {
      "cell_type": "code",
      "metadata": {
        "colab": {
          "base_uri": "https://localhost:8080/"
        },
        "id": "ZNfiZI6DIrRw",
        "outputId": "5b62dad5-5890-4947-c3d0-10dfc4dcdd1b"
      },
      "source": [
        "import pandas as pd\r\n",
        "from google.colab import files\r\n",
        "\r\n",
        "data = pd.read_csv('/content/ai_study/testcase/Grade.csv')\r\n",
        "data = data.dropna().head(10000)\r\n",
        "print(data)"
      ],
      "execution_count": null,
      "outputs": [
        {
          "output_type": "stream",
          "text": [
            "      Language  Math  English  Programming Grade\n",
            "0           38    34       78           39     F\n",
            "1           61    20       17           31     F\n",
            "2           87    70       62           42     C\n",
            "3           61    60       64           96     B\n",
            "4           93    21       97           72     B\n",
            "...        ...   ...      ...          ...   ...\n",
            "9995        71     6       37           71     F\n",
            "9996        93    87       82           32     B\n",
            "9997        60    41       43           70     D\n",
            "9998         5    99       58           34     F\n",
            "9999        77     0       50           84     D\n",
            "\n",
            "[10000 rows x 5 columns]\n"
          ],
          "name": "stdout"
        }
      ]
    },
    {
      "cell_type": "markdown",
      "metadata": {
        "id": "JZxshmeXdVYb"
      },
      "source": [
        "####Train 및 Test DATA 분리"
      ]
    },
    {
      "cell_type": "code",
      "metadata": {
        "colab": {
          "base_uri": "https://localhost:8080/"
        },
        "id": "vxlF6orRdU4V",
        "outputId": "d6828830-0082-47ca-ea99-b57b359feadf"
      },
      "source": [
        "from sklearn.model_selection import train_test_split\r\n",
        "from sklearn.neighbors import KNeighborsClassifier\r\n",
        "X_train, Y_train, X_test, Y_test = train_test_split(data.drop('Grade', axis = 1),data['Grade'], test_size = 0.2, shuffle = True)\r\n",
        "print(\"--------X_train------\", X_train, sep = \"\\n\")\r\n",
        "print(\"--------X_test-------\", X_test, sep = \"\\n\")\r\n",
        "print(\"--------Y_train------\", Y_train, sep = \"\\n\")\r\n",
        "print(\"--------Y_test-------\", Y_test, sep = \"\\n\")"
      ],
      "execution_count": null,
      "outputs": [
        {
          "output_type": "stream",
          "text": [
            "--------X_train------\n",
            "      Language  Math  English  Programming\n",
            "4914        10    78       60           80\n",
            "2142        96    21       87           88\n",
            "9675        67    30       41           78\n",
            "9796        81    31       12           70\n",
            "44          81    78       51           60\n",
            "...        ...   ...      ...          ...\n",
            "6215        24    42       35           73\n",
            "4410        72    55       45           55\n",
            "1669        36    70       16           76\n",
            "1610        42    85       26           51\n",
            "5907        27    82       81           73\n",
            "\n",
            "[8000 rows x 4 columns]\n",
            "--------X_test-------\n",
            "4914    D\n",
            "2142    B\n",
            "9675    D\n",
            "9796    F\n",
            "44      C\n",
            "       ..\n",
            "6215    F\n",
            "4410    D\n",
            "1669    F\n",
            "1610    D\n",
            "5907    C\n",
            "Name: Grade, Length: 8000, dtype: object\n",
            "--------Y_train------\n",
            "      Language  Math  English  Programming\n",
            "6966        93    86       76           71\n",
            "246         91    71        7           15\n",
            "5758        39    79       51           63\n",
            "740          1    99       34           82\n",
            "2760        98     0        4           16\n",
            "...        ...   ...      ...          ...\n",
            "385         12    38       82           76\n",
            "5006        76    30       54           91\n",
            "345         14    60       69           14\n",
            "6371        19    25       28           55\n",
            "1154        62    94       40            0\n",
            "\n",
            "[2000 rows x 4 columns]\n",
            "--------Y_test-------\n",
            "6966    B\n",
            "246     F\n",
            "5758    D\n",
            "740     D\n",
            "2760    F\n",
            "       ..\n",
            "385     D\n",
            "5006    C\n",
            "345     F\n",
            "6371    F\n",
            "1154    F\n",
            "Name: Grade, Length: 2000, dtype: object\n"
          ],
          "name": "stdout"
        }
      ]
    },
    {
      "cell_type": "markdown",
      "metadata": {
        "id": "8t7OcMLWdlzj"
      },
      "source": [
        "####KNN Classifier 사용"
      ]
    },
    {
      "cell_type": "markdown",
      "metadata": {
        "id": "XFuneM95dujJ"
      },
      "source": [
        "1. 알고리즘에 해당하는 class 생성\r\n",
        "2. fit method를 활용해 학습\r\n",
        "3. score method를 활용해 정확도 확인"
      ]
    },
    {
      "cell_type": "code",
      "metadata": {
        "colab": {
          "base_uri": "https://localhost:8080/"
        },
        "id": "0B3rw9AGWu_t",
        "outputId": "b4838bc4-bd00-4c95-f786-bfe4be1b06d0"
      },
      "source": [
        "training_accuracy = []\r\n",
        "test_accuracy = []\r\n",
        "\r\n",
        "max_accuracy = 0\r\n",
        "for i in range(1, 100, 2) :\r\n",
        "\r\n",
        "  clf = KNeighborsClassifier(n_neighbors=i)\r\n",
        "  clf.fit(X_train, X_test)\r\n",
        "  one = clf.score(X_train, X_test)\r\n",
        "  two = clf.score(Y_train, Y_test)\r\n",
        "  print(\"Num of K : \", i)\r\n",
        "  print(\"Train accuracy : \", one * 100)\r\n",
        "  print(\"Test accuracy : \" , two * 100)"
      ],
      "execution_count": null,
      "outputs": [
        {
          "output_type": "stream",
          "text": [
            "Num of K :  1\n",
            "Train accuracy :  100.0\n",
            "Test accuracy :  91.60000000000001\n",
            "Num of K :  3\n",
            "Train accuracy :  96.8625\n",
            "Test accuracy :  93.35\n",
            "Num of K :  5\n",
            "Train accuracy :  96.2125\n",
            "Test accuracy :  93.4\n",
            "Num of K :  7\n",
            "Train accuracy :  95.6\n",
            "Test accuracy :  93.60000000000001\n",
            "Num of K :  9\n",
            "Train accuracy :  95.6\n",
            "Test accuracy :  93.89999999999999\n",
            "Num of K :  11\n",
            "Train accuracy :  95.45\n",
            "Test accuracy :  93.89999999999999\n",
            "Num of K :  13\n",
            "Train accuracy :  95.4875\n",
            "Test accuracy :  94.25\n",
            "Num of K :  15\n",
            "Train accuracy :  95.19999999999999\n",
            "Test accuracy :  94.39999999999999\n",
            "Num of K :  17\n",
            "Train accuracy :  95.125\n",
            "Test accuracy :  94.45\n",
            "Num of K :  19\n",
            "Train accuracy :  95.0125\n",
            "Test accuracy :  94.39999999999999\n",
            "Num of K :  21\n",
            "Train accuracy :  94.9625\n",
            "Test accuracy :  94.6\n",
            "Num of K :  23\n",
            "Train accuracy :  94.975\n",
            "Test accuracy :  94.8\n",
            "Num of K :  25\n",
            "Train accuracy :  94.8\n",
            "Test accuracy :  94.3\n",
            "Num of K :  27\n",
            "Train accuracy :  94.86250000000001\n",
            "Test accuracy :  94.25\n",
            "Num of K :  29\n",
            "Train accuracy :  94.8125\n",
            "Test accuracy :  94.35\n",
            "Num of K :  31\n",
            "Train accuracy :  94.66250000000001\n",
            "Test accuracy :  94.39999999999999\n",
            "Num of K :  33\n",
            "Train accuracy :  94.525\n",
            "Test accuracy :  94.45\n",
            "Num of K :  35\n",
            "Train accuracy :  94.2625\n",
            "Test accuracy :  94.39999999999999\n",
            "Num of K :  37\n",
            "Train accuracy :  94.19999999999999\n",
            "Test accuracy :  94.19999999999999\n",
            "Num of K :  39\n",
            "Train accuracy :  94.1125\n",
            "Test accuracy :  94.3\n",
            "Num of K :  41\n",
            "Train accuracy :  94.0375\n",
            "Test accuracy :  94.19999999999999\n",
            "Num of K :  43\n",
            "Train accuracy :  94.0\n",
            "Test accuracy :  94.25\n",
            "Num of K :  45\n",
            "Train accuracy :  94.0625\n",
            "Test accuracy :  94.25\n",
            "Num of K :  47\n",
            "Train accuracy :  94.0125\n",
            "Test accuracy :  94.45\n",
            "Num of K :  49\n",
            "Train accuracy :  93.925\n",
            "Test accuracy :  94.5\n",
            "Num of K :  51\n",
            "Train accuracy :  93.72500000000001\n",
            "Test accuracy :  94.5\n",
            "Num of K :  53\n",
            "Train accuracy :  93.8\n",
            "Test accuracy :  94.3\n",
            "Num of K :  55\n",
            "Train accuracy :  93.7\n",
            "Test accuracy :  94.19999999999999\n",
            "Num of K :  57\n",
            "Train accuracy :  93.4875\n",
            "Test accuracy :  94.0\n",
            "Num of K :  59\n",
            "Train accuracy :  93.425\n",
            "Test accuracy :  93.7\n",
            "Num of K :  61\n",
            "Train accuracy :  93.475\n",
            "Test accuracy :  93.95\n",
            "Num of K :  63\n",
            "Train accuracy :  93.3625\n",
            "Test accuracy :  93.95\n",
            "Num of K :  65\n",
            "Train accuracy :  93.325\n",
            "Test accuracy :  93.85\n",
            "Num of K :  67\n",
            "Train accuracy :  93.2875\n",
            "Test accuracy :  93.65\n",
            "Num of K :  69\n",
            "Train accuracy :  93.3125\n",
            "Test accuracy :  93.4\n",
            "Num of K :  71\n",
            "Train accuracy :  93.15\n",
            "Test accuracy :  93.30000000000001\n",
            "Num of K :  73\n",
            "Train accuracy :  93.125\n",
            "Test accuracy :  93.30000000000001\n",
            "Num of K :  75\n",
            "Train accuracy :  93.1125\n",
            "Test accuracy :  93.15\n",
            "Num of K :  77\n",
            "Train accuracy :  92.975\n",
            "Test accuracy :  93.0\n",
            "Num of K :  79\n",
            "Train accuracy :  92.9875\n",
            "Test accuracy :  93.0\n",
            "Num of K :  81\n",
            "Train accuracy :  93.0\n",
            "Test accuracy :  92.9\n",
            "Num of K :  83\n",
            "Train accuracy :  92.875\n",
            "Test accuracy :  93.05\n",
            "Num of K :  85\n",
            "Train accuracy :  92.77499999999999\n",
            "Test accuracy :  92.85\n",
            "Num of K :  87\n",
            "Train accuracy :  92.85\n",
            "Test accuracy :  92.80000000000001\n",
            "Num of K :  89\n",
            "Train accuracy :  92.66250000000001\n",
            "Test accuracy :  92.85\n",
            "Num of K :  91\n",
            "Train accuracy :  92.72500000000001\n",
            "Test accuracy :  92.9\n",
            "Num of K :  93\n",
            "Train accuracy :  92.675\n",
            "Test accuracy :  92.75\n",
            "Num of K :  95\n",
            "Train accuracy :  92.4875\n",
            "Test accuracy :  92.60000000000001\n",
            "Num of K :  97\n",
            "Train accuracy :  92.475\n",
            "Test accuracy :  92.85\n",
            "Num of K :  99\n",
            "Train accuracy :  92.45\n",
            "Test accuracy :  92.75\n"
          ],
          "name": "stdout"
        }
      ]
    },
    {
      "cell_type": "markdown",
      "metadata": {
        "id": "SK1LFc2OBzch"
      },
      "source": [
        "###KNN regression"
      ]
    },
    {
      "cell_type": "code",
      "metadata": {
        "colab": {
          "base_uri": "https://localhost:8080/",
          "height": 582
        },
        "id": "GAReZE7-B7Ve",
        "outputId": "e6bece07-1bff-4770-afb3-e9eb7c1a11aa"
      },
      "source": [
        "from sklearn.model_selection import train_test_split\r\n",
        "from sklearn.neighbors import KNeighborsRegressor\r\n",
        "import matplotlib.pyplot as plt\r\n",
        "\r\n",
        "import io\r\n",
        "import pandas as pd\r\n",
        "import numpy as np\r\n",
        "from google.colab import files\r\n",
        "\r\n",
        "# target 될 라벨명 및 csv에서 활용할 데이터 크기 설정\r\n",
        "Label_name = \"Weight\"\r\n",
        "DATA_SIZE = 200000\r\n",
        "\r\n",
        "data = pd.read_csv('/content/ai_study/testcase/weights_heights.csv')\r\n",
        "print(data.head())\r\n",
        "data = data.dropna().head(DATA_SIZE)\r\n",
        "print(data)\r\n",
        "\r\n",
        "X_train, Y_train, X_test, Y_test = train_test_split(data.drop(Label_name, axis = 1),data[Label_name], test_size = 0.2, shuffle = True)\r\n",
        "\r\n",
        "fig, axes = plt.subplots(1,3,figsize = (15,4))\r\n",
        "line = np.linspace(60,80,100).reshape(-1,1)\r\n",
        "for n_neighbors, ax in zip([31, 61, 91], axes):\r\n",
        "  reg = KNeighborsRegressor(n_neighbors=n_neighbors, weights = \"distance\")\r\n",
        "  reg.fit(X_train, X_test)\r\n",
        "  ax.plot(line, reg.predict(line))\r\n",
        "  \r\n",
        "  ax.set_title(\"{}\".format(n_neighbors))\r\n",
        "  ax.set_xlabel(\"Height\")\r\n",
        "  ax.set_ylabel(\"Weight\")\r\n",
        "axes[0].legend([\"Model Prediction\", \"Training Data/Target\", \"Test Data/Target\"], loc=\"best\")\r\n",
        "plt.show()"
      ],
      "execution_count": null,
      "outputs": [
        {
          "output_type": "stream",
          "text": [
            "     Height    Weight\n",
            "0  65.78331  112.9925\n",
            "1  71.51521  136.4873\n",
            "2  69.39874  153.0269\n",
            "3  68.21660  142.3354\n",
            "4  67.78781  144.2971\n",
            "         Height    Weight\n",
            "0      65.78331  112.9925\n",
            "1      71.51521  136.4873\n",
            "2      69.39874  153.0269\n",
            "3      68.21660  142.3354\n",
            "4      67.78781  144.2971\n",
            "...         ...       ...\n",
            "24995  69.50215  118.0312\n",
            "24996  64.54826  120.1932\n",
            "24997  64.69855  118.2655\n",
            "24998  67.52918  132.2682\n",
            "24999  68.87761  124.8740\n",
            "\n",
            "[25000 rows x 2 columns]\n"
          ],
          "name": "stdout"
        },
        {
          "output_type": "display_data",
          "data": {
            "image/png": "[encoded data removed]",
            "text/plain": [
              "<Figure size 1080x288 with 3 Axes>"
            ]
          },
          "metadata": {
            "tags": [],
            "needs_background": "light"
          }
        }
      ]
    },
    {
      "cell_type": "markdown",
      "metadata": {
        "id": "fbPyrzY2YDws"
      },
      "source": [
        "## Pytorch로 구현"
      ]
    },
    {
      "cell_type": "code",
      "metadata": {
        "id": "MM7WXDWiYSjM"
      },
      "source": [
        "#@title Python으로 직접 구현과 동일한 부분 {display-mode: \"form\"}\r\n",
        "\r\n",
        "\r\n",
        "#-------csv 불러오기\r\n",
        "import io\r\n",
        "import pandas as pd\r\n",
        "import numpy as np\r\n",
        "from google.colab import files\r\n",
        "\r\n",
        "# target 될 라벨명 및 csv에서 활용할 데이터 크기 설정\r\n",
        "Label_name = \"Grade\"\r\n",
        "DATA_SIZE = 3000\r\n",
        "data = pd.read_csv('/content/ai_study/testcase/Grade.csv')\r\n",
        "data = data.dropna().head(DATA_SIZE)\r\n",
        "\r\n",
        "#-------mappnig table 만들기\r\n",
        "mapping = {}\r\n",
        "reverse_mapping = {}\r\n",
        "cnt_category = 0\r\n",
        "for x in pd.Series(data[Label_name].values).drop_duplicates() :\r\n",
        "  mapping[x] = cnt_category\r\n",
        "  reverse_mapping[cnt_category] = x\r\n",
        "  cnt_category += 1\r\n",
        "\r\n",
        "#-------INPUT, OUTPUT 분리\r\n",
        "X = data.drop(Label_name, axis = 1).values.astype(np.float64)[:DATA_SIZE]\r\n",
        "Y = data[Label_name].apply(lambda x: mapping[x]).astype(np.float64).values[:DATA_SIZE]\r\n",
        "\r\n",
        "#-------train, test 선별\r\n",
        "def train_test_split(features, target, test_size = 0.2):\r\n",
        "    \"\"\"Splits dataset into training and testing sets.\r\n",
        "    \r\n",
        "    Args- \r\n",
        "        features- The feature matrix of the dataset (numpy array)\r\n",
        "        target- The target array (numpy array)\r\n",
        "        test_size- Size of test dataset that you want\r\n",
        "    \r\n",
        "    Returns-\r\n",
        "        train_features, train_target, test_features, test_target \r\n",
        "    \"\"\"\r\n",
        "    num_total_rows = features.shape[0] # total rows in the dataset\r\n",
        "    num_test_rows = np.round(num_total_rows * test_size) # total rows in testing dataset\r\n",
        "\r\n",
        "    # recommand to change seed value\r\n",
        "    np.random.seed(8)\r\n",
        "    rand_row_num = np.random.randint(0, int(num_total_rows), int(num_test_rows)) # randomly generated row numbers\r\n",
        "\r\n",
        "    # train and test features\r\n",
        "\r\n",
        "    test_features = np.array([features[i] for i in rand_row_num]) # creates test feature set\r\n",
        "    train_features = np.delete(features, rand_row_num, axis = 0) # deletes test data rows from main dataset; making it training dataset\r\n",
        "\r\n",
        "    # train and test target\r\n",
        "    test_target = np.array([target[i] for i in rand_row_num]) # creates test target set\r\n",
        "    train_target = np.delete(target, rand_row_num, axis = 0) # creates training target set\r\n",
        "\r\n",
        "    return train_features, train_target, test_features, test_target \r\n",
        "\r\n",
        "#--8:2 선별\r\n",
        "X_train, X_target, Y_train, Y_target = train_test_split(X, Y, test_size = 0.2)\r\n",
        "\r\n",
        "\r\n"
      ],
      "execution_count": null,
      "outputs": []
    },
    {
      "cell_type": "markdown",
      "metadata": {
        "id": "eBv3s1ZsBJTo"
      },
      "source": [
        "###KNN Classification"
      ]
    },
    {
      "cell_type": "markdown",
      "metadata": {
        "id": "pDIrsDv0ZQmk"
      },
      "source": [
        "##### Convert INPUT DATA from numpy to torch "
      ]
    },
    {
      "cell_type": "code",
      "metadata": {
        "id": "IRF37TO37K6a",
        "colab": {
          "base_uri": "https://localhost:8080/"
        },
        "outputId": "8f456175-35bf-4e71-a3c5-4557f676ee46"
      },
      "source": [
        "import torch\r\n",
        "\r\n",
        "X_train, X_target, Y_train, Y_target\r\n",
        "\r\n",
        "ori_data = torch.from_numpy(X_train)\r\n",
        "test_data = torch.from_numpy(Y_train)\r\n",
        "print(\"ori_Data\")\r\n",
        "print(ori_data)\r\n",
        "print(\"test_Data\")\r\n",
        "print(test_data)"
      ],
      "execution_count": null,
      "outputs": [
        {
          "output_type": "stream",
          "text": [
            "ori_Data\n",
            "tensor([[38., 34., 78., 39.],\n",
            "        [61., 20., 17., 31.],\n",
            "        [93., 21., 97., 72.],\n",
            "        ...,\n",
            "        [78.,  8., 11., 74.],\n",
            "        [12., 65., 98., 73.],\n",
            "        [47., 24., 83., 52.]], dtype=torch.float64)\n",
            "test_Data\n",
            "tensor([[56., 65., 14., 18.],\n",
            "        [29., 35.,  6., 13.],\n",
            "        [26., 89., 67., 76.],\n",
            "        ...,\n",
            "        [96.,  0., 92., 86.],\n",
            "        [29., 54., 87., 96.],\n",
            "        [95., 25., 90., 39.]], dtype=torch.float64)\n"
          ],
          "name": "stdout"
        }
      ]
    },
    {
      "cell_type": "markdown",
      "metadata": {
        "id": "6FtFVpJyZ47P"
      },
      "source": [
        "##### Calculate Distance"
      ]
    },
    {
      "cell_type": "code",
      "metadata": {
        "colab": {
          "base_uri": "https://localhost:8080/"
        },
        "id": "VL4RQ4KiZ2gd",
        "outputId": "40558d86-6d7a-438a-fa97-991f0011bac7"
      },
      "source": [
        "dist = torch.norm(ori_data - test_data[0], dim=1)\r\n",
        "print(dist)"
      ],
      "execution_count": null,
      "outputs": [
        {
          "output_type": "stream",
          "text": [
            "dist\n",
            "tensor([ 76.3020,  47.2017, 114.4989,  ...,  82.9337, 109.6221,  87.6299],\n",
            "       dtype=torch.float64)\n"
          ],
          "name": "stdout"
        }
      ]
    },
    {
      "cell_type": "markdown",
      "metadata": {
        "id": "KNvQvljLaCtn"
      },
      "source": [
        "####Select Nearest"
      ]
    },
    {
      "cell_type": "code",
      "metadata": {
        "colab": {
          "base_uri": "https://localhost:8080/"
        },
        "id": "Mq0yu8dmaCBc",
        "outputId": "c9f0fb29-117c-4f6b-e48b-b59ee030fa12"
      },
      "source": [
        "knn = dist.topk(3, largest=False)\r\n",
        "print('kNN dist: {}, index: {}'.format(knn.values, knn.indices))"
      ],
      "execution_count": null,
      "outputs": [
        {
          "output_type": "stream",
          "text": [
            "kNN dist: tensor([ 7.9373, 10.5357, 11.5758], dtype=torch.float64), index: tensor([1770, 2413, 1867])\n"
          ],
          "name": "stdout"
        }
      ]
    },
    {
      "cell_type": "markdown",
      "metadata": {
        "id": "9ashWWkPaW68"
      },
      "source": [
        "####Find the most label number and Restore label"
      ]
    },
    {
      "cell_type": "code",
      "metadata": {
        "colab": {
          "base_uri": "https://localhost:8080/"
        },
        "id": "5lAuaNONaXcP",
        "outputId": "8cd41b93-2316-453c-8c29-97675a0941b5"
      },
      "source": [
        "result = X_target[knn.indices.topk(1, largest=True).values]\r\n",
        "for i in knn.indices:\r\n",
        "  print(ori_data[i,:])\r\n",
        "  print(reverse_mapping[X_target[i]])\r\n",
        "print(\"Most label num : {}, Y_label num : {}\".format(result, Y_target[0]))\r\n",
        "if X_target[knn.indices.topk(1, largest=True).values] == Y_target[0] : \r\n",
        "  print(\"Correct\")\r\n",
        "else:\r\n",
        "  print(\"Wrong\")\r\n",
        "print(\"Guess : \", reverse_mapping[result], \"answer : \", reverse_mapping[Y_target[0]])"
      ],
      "execution_count": null,
      "outputs": [
        {
          "output_type": "stream",
          "text": [
            "tensor([51., 70., 16., 15.], dtype=torch.float64)\n",
            "F\n",
            "tensor([55., 70., 20., 25.], dtype=torch.float64)\n",
            "F\n",
            "tensor([53., 54., 14., 20.], dtype=torch.float64)\n",
            "F\n",
            "Most label num : 0.0, Y_label num : 0.0\n",
            "Correct\n",
            "Guess :  F answer :  F\n"
          ],
          "name": "stdout"
        }
      ]
    },
    {
      "cell_type": "markdown",
      "metadata": {
        "id": "rbNHk_pnBAzw"
      },
      "source": [
        "###KNN regession"
      ]
    },
    {
      "cell_type": "code",
      "metadata": {
        "colab": {
          "base_uri": "https://localhost:8080/",
          "height": 222
        },
        "id": "j2SkM0HiBHA3",
        "outputId": "1028f8d2-5a83-4c0b-e415-9dff87c933f0"
      },
      "source": [
        "from sklearn.model_selection import train_test_split\r\n",
        "from sklearn.neighbors import KNeighborsRegressor\r\n",
        "import matplotlib.pyplot as plt\r\n",
        "import torch\r\n",
        "\r\n",
        "import io\r\n",
        "import pandas as pd\r\n",
        "import numpy as np\r\n",
        "from google.colab import files\r\n",
        "\r\n",
        "# target 될 라벨명 및 csv에서 활용할 데이터 크기 설정\r\n",
        "Label_name = \"Weight\"\r\n",
        "DATA_SIZE = 200000\r\n",
        "\r\n",
        "data = pd.read_csv('/content/ai_study/testcase/weights_heights.csv')\r\n",
        "data = data.dropna().head(DATA_SIZE)\r\n",
        "ori_Height = torch.from_numpy(data.drop(Label_name, axis = 1).astype(np.float64).values[:DATA_SIZE])\r\n",
        "ori_Weight = torch.from_numpy(data[Label_name].astype(np.float64).values[:DATA_SIZE])\r\n",
        "\r\n",
        "fig, axes = plt.subplots(1,3,figsize = (15,4))\r\n",
        "line = np.linspace(60,80,100).reshape(-1,1)\r\n",
        "\r\n",
        "\r\n",
        "for n_neighbors, ax in zip([31, 61, 91], axes):\r\n",
        "  values = []\r\n",
        "  for l in line :\r\n",
        "    dist = torch.norm(ori_Height - l, dim=1)\r\n",
        "    knn = dist.topk(n_neighbors, largest=False)\r\n",
        "    values.append(ori_Weight[knn.indices].mean().numpy())\r\n",
        "  ax.plot(line, values)\r\n",
        "  ax.set_title(\"{} K\".format(n_neighbors))\r\n",
        "  ax.set_xlabel(\"Height\")\r\n",
        "  ax.set_ylabel(\"Weight\")\r\n",
        "axes[0].legend([\"Model Prediction\", \"Training Data/Target\", \"Test Data/Target\"], loc=\"best\")\r\n",
        "plt.show()"
      ],
      "execution_count": null,
      "outputs": [
        {
          "output_type": "display_data",
          "data": {
            "image/png": "[encoded data removed]",
            "text/plain": [
              "<Figure size 1080x288 with 3 Axes>"
            ]
          },
          "metadata": {
            "tags": [],
            "needs_background": "light"
          }
        }
      ]
    },
    {
      "cell_type": "markdown",
      "metadata": {
        "id": "-vKqrIt7j5o2"
      },
      "source": [
        "위의 과정에서 평균을 구하는 과정에서 거리의 역수를 적용하면 더 좋은 결과를 얻을 수 있음"
      ]
    }
  ]
}