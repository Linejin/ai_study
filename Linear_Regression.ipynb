{
  "nbformat": 4,
  "nbformat_minor": 0,
  "metadata": {
    "colab": {
      "name": "Linear Regression.ipynb",
      "provenance": [],
      "toc_visible": true,
      "authorship_tag": "ABX9TyNfJ929vfGQc1Re8xJCs94X",
      "include_colab_link": true
    },
    "kernelspec": {
      "name": "python3",
      "display_name": "Python 3"
    }
  },
  "cells": [
    {
      "cell_type": "markdown",
      "metadata": {
        "id": "view-in-github",
        "colab_type": "text"
      },
      "source": [
        "<a href=\"https://colab.research.google.com/github/linejin/ai_study/blob/master/Linear_Regression.ipynb\" target=\"_parent\"><img src=\"https://colab.research.google.com/assets/colab-badge.svg\" alt=\"Open In Colab\"/></a>"
      ]
    },
    {
      "cell_type": "code",
      "metadata": {
        "id": "ZrNSSBq1QDWS",
        "colab": {
          "base_uri": "https://localhost:8080/"
        },
        "outputId": "7911a6ac-0684-4fcb-bb08-a5155c790f4d"
      },
      "source": [
        "#@title hidden setting code {display-mode: \"form\"}\r\n",
        "\r\n",
        "#@markdown 이 부분을 실행시켜주세요{display-mode: \"form\"}\r\n",
        "\r\n",
        "# This document is made by Choi Sejin\r\n",
        "\r\n",
        "\r\n",
        "\r\n",
        "# This code will be hidden when the notebook is loaded.\r\n",
        "!pip install --upgrade -q gspread\r\n",
        "\r\n",
        "\r\n",
        "# using for google sheet\r\n",
        "\"\"\"\r\n",
        "from google.colab import auth\r\n",
        "auth.authenticate_user()\r\n",
        "\r\n",
        "import gspread\r\n",
        "from oauth2client.client import GoogleCredentials\r\n",
        "\r\n",
        "gc = gspread.authorize(GoogleCredentials.get_application_default())\r\n",
        "\r\n",
        "# Open our new sheet and read some data.\r\n",
        "worksheet = gc.open('A new spreadsheet').sheet1\r\n",
        "\r\n",
        "# get_all_values gives a list of rows.\r\n",
        "rows = worksheet.get_all_values()\r\n",
        "print(rows)\r\n",
        "\r\n",
        "# Convert to a DataFrame and render.\r\n",
        "import pandas as pd\r\n",
        "pd.DataFrame.from_records(rows)\r\n",
        "\"\"\"\r\n",
        "!git clone https://github.com/linejin/ai_study\r\n",
        "print(\"Cloneing Ready\")\r\n",
        "\r\n"
      ],
      "execution_count": 1,
      "outputs": [
        {
          "output_type": "stream",
          "text": [
            "Cloning into 'ai_study'...\n",
            "remote: Enumerating objects: 47, done.\u001b[K\n",
            "remote: Counting objects: 100% (47/47), done.\u001b[K\n",
            "remote: Compressing objects: 100% (43/43), done.\u001b[K\n",
            "remote: Total 47 (delta 8), reused 20 (delta 2), pack-reused 0\u001b[K\n",
            "Unpacking objects: 100% (47/47), done.\n",
            "Cloneing Ready\n"
          ],
          "name": "stdout"
        }
      ]
    },
    {
      "cell_type": "markdown",
      "metadata": {
        "id": "nZzD1wmCfZC6"
      },
      "source": [
        "참고자료\r\n",
        "\r\n",
        "https://wikidocs.net/53560\r\n",
        "\r\n",
        "https://developers.google.com/machine-learning/crash-course/descending-into-ml/training-and-loss?hl=ko"
      ]
    },
    {
      "cell_type": "markdown",
      "metadata": {
        "id": "IyLiez2hQGO8"
      },
      "source": [
        "# Simple Linear Regression"
      ]
    },
    {
      "cell_type": "markdown",
      "metadata": {
        "id": "KhbFYQo14_MW"
      },
      "source": [
        "선형 회귀란 일종의 1차 방정식(직선의 방정식)을 찾는 과정\r\n",
        "\r\n",
        "예시)\r\n",
        "1. 키, 몸무게\r\n",
        "2. 부모 자식간의 키 유전 관계\r\n"
      ]
    },
    {
      "cell_type": "markdown",
      "metadata": {
        "id": "JGI84bHZQXY7"
      },
      "source": [
        "### 가설 수립\r\n",
        "\r\n",
        "\r\n",
        "---"
      ]
    },
    {
      "cell_type": "markdown",
      "metadata": {
        "id": "jLBLvVqsVNqZ"
      },
      "source": [
        "1차 방정식 정의\r\n",
        "\r\n",
        "$$y=Wx+b$$\r\n",
        "\r\n",
        "$$H(x)=Wx+b$$\r\n",
        "\r\n",
        "$x$ : 변인요인의값\r\n",
        "\r\n",
        "$W$ : 가중치(직선의 기울기)\r\n",
        "\r\n",
        "$b$ : 편향($y$절편)"
      ]
    },
    {
      "cell_type": "markdown",
      "metadata": {
        "id": "hAsCJgIscKdw"
      },
      "source": [
        "###비용 함수\r\n",
        "\r\n",
        "---"
      ]
    },
    {
      "cell_type": "markdown",
      "metadata": {
        "id": "9AB7VO76cPpJ"
      },
      "source": [
        "아래 4가지 용어는 모두 가설로 만든 방정식이 본래 값과 얼마나 차이가 나는지를 구하는 함수이다.\r\n",
        "\r\n",
        "비용 함수(cost function) \r\n",
        "\r\n",
        "손실 함수(loss function)\r\n",
        "\r\n",
        "오차 함수(error function)\r\n",
        "\r\n",
        "목적 함수(objective function)"
      ]
    },
    {
      "cell_type": "markdown",
      "metadata": {
        "id": "9RiaYZ_zVbK5"
      },
      "source": [
        "![image.png](data:image/png;base64,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)"
      ]
    },
    {
      "cell_type": "markdown",
      "metadata": {
        "id": "QHcBSxT1aaAR"
      },
      "source": [
        "위와 같은 그림의 주황색직선의 방정식에서 $W$와 $b$를 조정하여 각 점과의 오차(빨간색 화살표)가 최소로 되는 $W$와 $b$를 찾는다.\r\n",
        "\r\n",
        "주황색직선의 방정식은 $y=13x+1$으로 오차는 아래와 같다.\r\n",
        "\r\n",
        "\r\n",
        "|hours(x)|2|3|4|5|\r\n",
        "|:-------:|:-------:|:-------:|:-------:|:-------:|\r\n",
        "|점의 값|25|50|42|61|\r\n",
        "|직선의 값|27|40|53|66|\r\n",
        "|오차|-2|10|-7|-5|\r\n",
        "\r\n",
        "이 오차들을 비용 함수에 활용하여 오차가 가장 적은 직선을 찾는다."
      ]
    },
    {
      "cell_type": "markdown",
      "metadata": {
        "id": "PBXYoYaXc5CZ"
      },
      "source": [
        "#### Mean Absolute Error(MAE)"
      ]
    },
    {
      "cell_type": "markdown",
      "metadata": {
        "id": "N2bgPSdxc_4Y"
      },
      "source": [
        "단순히 오차를 더하기에는 부호가 +와 -가 섞여 있기에 부호를 제거한 후 더한다.\r\n",
        "\r\n",
        ">$\\sum_{x=1}^N|y_x - H(x)| = |-2| + |10| + |-7| + |-5|$\r\n",
        "\r\n",
        "그러나 위 식은 오차가 적은 데이터가 추가된다고 할 경우 식을 계산한 값은 오히려 커지기에 오히려 적합하지 않아 보일 수 있다.\r\n",
        "\r\n",
        "이를 해결하기 위해 제곱한 값들의 평균(Mean)을 구해 개수와 상관없는 평균 비용을 계산한다.\r\n",
        "\r\n",
        ">$MAE = \\frac{1}{N}\\sum_{x=1}^N|y_x - H(x)|$"
      ]
    },
    {
      "cell_type": "markdown",
      "metadata": {
        "id": "ezxXJJBbfCqp"
      },
      "source": [
        "####Mean Squared Error(MSE)"
      ]
    },
    {
      "cell_type": "markdown",
      "metadata": {
        "id": "VAIk6Y1uf_rQ"
      },
      "source": [
        "오차의 크기가 클수록 좋지 않은 가정이다.\r\n",
        "\r\n",
        "오차의 크기를 좀 더 극적으로 키우기 위해 사용하는 방법이 오차(error)값을 제곱하여 사용한다.\r\n",
        "\r\n",
        ">$\\sum_{x=1}^N[y_x - H(x)]^2 = (-2)^2 + (10)^2 + (-7)^2 + (-5)^2 = 178$\r\n",
        "\r\n",
        "MAE와 같은 이유로 이 값도 평균(Mean)을 취하여 사용한다.\r\n",
        "\r\n",
        ">$MSE = \\frac{1}{N}\\sum_{x=1}^N[y_x - H(x)]^2$\r\n",
        "\r\n",
        "일반적으로 사용하는 비용함수 $Cost(W,b)$는 $MSE$를 의미한다."
      ]
    },
    {
      "cell_type": "markdown",
      "metadata": {
        "id": "aHkBfP-VlLWO"
      },
      "source": [
        "####Huber loss"
      ]
    },
    {
      "cell_type": "markdown",
      "metadata": {
        "id": "v1V2aReilObI"
      },
      "source": [
        "MAE와 MSE의 절충안으로 사용한다.\r\n",
        "\r\n",
        "$$Muber = 1 - (\\frac{MSE}{VAR(H(x))})$$"
      ]
    },
    {
      "cell_type": "markdown",
      "metadata": {
        "id": "Ld2hWPWfjJg2"
      },
      "source": [
        "###경사 하강법\r\n",
        "\r\n",
        "---"
      ]
    },
    {
      "cell_type": "markdown",
      "metadata": {
        "id": "M2wkmkSxqmLw"
      },
      "source": [
        "일반적인 Cost(loss)는 아래의 그래프와 같은 형태로 나타난다."
      ]
    },
    {
      "cell_type": "markdown",
      "metadata": {
        "id": "PcDYbL3DrvGN"
      },
      "source": [
        "![image.png](data:image/png;base64,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)"
      ]
    },
    {
      "cell_type": "markdown",
      "metadata": {
        "id": "M175iDgNrwDb"
      },
      "source": [
        "1차 방정식에 해당하는 $y = Wx + b$에서 $W$와 $b$는 Cost가 가장 작은 값을 택해야 한다.\r\n",
        "위 그래프에서는 포물선의 가장 아랫부분에 해당하는 곳이 되며 그 부분의 기울기는 0이 된다.\r\n",
        "\r\n",
        "이를 찾기위해 임의적인 $W_0$를 고른다.\r\n",
        "\r\n",
        "해당 위치로부터 cost가 작아지는 방향으로 조금씩 이동해가며 최종적으로 그 기울기가 0인 지점까지 테스트를 해본다."
      ]
    },
    {
      "cell_type": "markdown",
      "metadata": {
        "id": "MZn5yn8CvmDW"
      },
      "source": [
        "기울기가 0인 지점으로 수렴하기 위해서는 아래의 식을 이용한다.\r\n",
        "\r\n",
        ">$W_{i+1} := W_i - Gradient$\r\n",
        "\r\n",
        "여기서 기울기가 0이 된다면 $W_{i+1} = W_i$가 된다.  \r\n",
        "또한, $Gradient$에 따라 $W$의 이동방향이 바뀐다.\r\n",
        "\r\n",
        "> $Gradient \\le 0 \\Longrightarrow W_{i+1} \\ge W_{i}$  \r\n",
        "> $Gradient \\ge 0 \\Longrightarrow W_{i+1} \\le W_{i}$\r\n",
        "\r\n",
        "$Gradient$가 음수인 경우 $W$는 증가해야 하며, $Gradient$가 양수인 경우 $W$가 감소한다.  \r\n",
        "따라서 $Gradient$에 $-$를 붙여 부호의 반대로 진행되도록 한다."
      ]
    },
    {
      "cell_type": "markdown",
      "metadata": {
        "id": "Bo02HZLlxtUV"
      },
      "source": [
        "$Gradient$에 따라 $W$값이 변하지만, 그 변동량이 너무 작아 시간이 너무 오래 걸릴 수 있거나 그 변동량이 너무 커 오히려 수렴하지 않고 발산할 수 있다."
      ]
    },
    {
      "cell_type": "markdown",
      "metadata": {
        "id": "LXozsZs2xrIY"
      },
      "source": [
        "![image.png](data:image/png;base64,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)"
      ]
    },
    {
      "cell_type": "markdown",
      "metadata": {
        "id": "yv1iS-iIlP6l"
      },
      "source": [
        "위 그림은 $Gradient$에 따라 $W$가 알맞는 방향으로 움직이지만, 그 변동량이 너무 커 발산하는 경우를 보여준다.  이를 보정해주기 위하여 $\\alpha$(Learning Rate)를 $Gradient$를 곱해 사용한다.\r\n",
        "\r\n",
        "$MSE$를 $W$에 대하여 편미분하면 $b$에 대한 $Gradient$도 구할 수 있으므로 $b$도 $W$와 같은 방식으로 갱신한다."
      ]
    },
    {
      "cell_type": "markdown",
      "metadata": {
        "id": "VuWiGefClMvN"
      },
      "source": [
        "> $W_{i+1} := W_{i} - \\alpha\\frac{\\partial}{\\partial W}MSE$  \r\n",
        "> $b_{i+1} := b_i - \\alpha\\frac{\\partial}{\\partial W}MSE$"
      ]
    },
    {
      "cell_type": "markdown",
      "metadata": {
        "id": "ekm6h1EkqIWt"
      },
      "source": [
        "#Linear Regression Practice"
      ]
    },
    {
      "cell_type": "markdown",
      "metadata": {
        "id": "3u73AGHXpOO3"
      },
      "source": [
        "### 공통 코드"
      ]
    },
    {
      "cell_type": "markdown",
      "metadata": {
        "id": "JpwRJmg64nzw"
      },
      "source": [
        "####CSV 호출"
      ]
    },
    {
      "cell_type": "code",
      "metadata": {
        "colab": {
          "base_uri": "https://localhost:8080/"
        },
        "id": "4ybORnED4nQ3",
        "outputId": "b76146d8-01f0-479b-93da-35c0440040eb"
      },
      "source": [
        "import pandas as pd\r\n",
        "from google.colab import files\r\n",
        "\r\n",
        "DATA_SIZE = 200000\r\n",
        "\r\n",
        "data = pd.read_csv('/content/ai_study/testcase/weights_heights.csv')\r\n",
        "data = data.dropna().head(DATA_SIZE)\r\n",
        "print(data)"
      ],
      "execution_count": null,
      "outputs": [
        {
          "output_type": "stream",
          "text": [
            "         Height    Weight\n",
            "0      65.78331  112.9925\n",
            "1      71.51521  136.4873\n",
            "2      69.39874  153.0269\n",
            "3      68.21660  142.3354\n",
            "4      67.78781  144.2971\n",
            "...         ...       ...\n",
            "24995  69.50215  118.0312\n",
            "24996  64.54826  120.1932\n",
            "24997  64.69855  118.2655\n",
            "24998  67.52918  132.2682\n",
            "24999  68.87761  124.8740\n",
            "\n",
            "[25000 rows x 2 columns]\n"
          ],
          "name": "stdout"
        }
      ]
    },
    {
      "cell_type": "markdown",
      "metadata": {
        "id": "QgygztGm5NQ_"
      },
      "source": [
        "####Train과 Test DATA 분리"
      ]
    },
    {
      "cell_type": "code",
      "metadata": {
        "colab": {
          "base_uri": "https://localhost:8080/"
        },
        "id": "Y_TuQwfb5RqX",
        "outputId": "2f2d62b2-d6ca-4e71-84b3-e479b5f2260d"
      },
      "source": [
        "from sklearn.model_selection import train_test_split\r\n",
        "\r\n",
        "Label_name = \"Weight\"\r\n",
        "\r\n",
        "X_train, X_test, Y_train, Y_test = train_test_split(data.drop(Label_name, axis = 1),data[Label_name], test_size = 0.2, shuffle = True)\r\n",
        "\r\n",
        "print(\"--------X_train------\", X_train, sep = \"\\n\")\r\n",
        "print(\"--------Y_train------\", Y_train, sep = \"\\n\")\r\n",
        "print(\"--------X_test-------\", X_test, sep = \"\\n\")\r\n",
        "print(\"--------Y_test-------\", Y_test, sep = \"\\n\")"
      ],
      "execution_count": null,
      "outputs": [
        {
          "output_type": "stream",
          "text": [
            "--------X_train------\n",
            "         Height\n",
            "15923  68.13785\n",
            "11001  66.51317\n",
            "13663  66.73451\n",
            "13013  65.21454\n",
            "3308   68.85085\n",
            "...         ...\n",
            "19873  68.55679\n",
            "20531  69.12451\n",
            "14415  69.26369\n",
            "11860  67.91694\n",
            "4796   69.07320\n",
            "\n",
            "[20000 rows x 1 columns]\n",
            "--------Y_train------\n",
            "15923    139.2758\n",
            "11001    126.2002\n",
            "13663    114.5210\n",
            "13013    131.9907\n",
            "3308     125.6815\n",
            "           ...   \n",
            "19873    102.8629\n",
            "20531    133.6843\n",
            "14415    129.9973\n",
            "11860    119.8030\n",
            "4796     129.8830\n",
            "Name: Weight, Length: 20000, dtype: float64\n",
            "--------X_test-------\n",
            "         Height\n",
            "2475   66.94316\n",
            "7188   65.80058\n",
            "21349  71.83647\n",
            "15852  65.23296\n",
            "885    71.40114\n",
            "...         ...\n",
            "18445  63.62623\n",
            "22648  69.72195\n",
            "9166   67.59916\n",
            "9358   66.65476\n",
            "13539  68.00003\n",
            "\n",
            "[5000 rows x 1 columns]\n",
            "--------Y_test-------\n",
            "2475     106.9521\n",
            "7188     110.1396\n",
            "21349    140.7706\n",
            "15852    134.0644\n",
            "885      153.9993\n",
            "           ...   \n",
            "18445    110.8507\n",
            "22648    118.0798\n",
            "9166     128.1213\n",
            "9358     125.3253\n",
            "13539    137.3120\n",
            "Name: Weight, Length: 5000, dtype: float64\n"
          ],
          "name": "stdout"
        }
      ]
    },
    {
      "cell_type": "markdown",
      "metadata": {
        "id": "BUFL4kp4phjh"
      },
      "source": [
        "#### DATA 확인"
      ]
    },
    {
      "cell_type": "code",
      "metadata": {
        "colab": {
          "base_uri": "https://localhost:8080/",
          "height": 513
        },
        "id": "yDwekYpW50rZ",
        "outputId": "84b423f2-7948-42dd-8c9e-c9f38c49731b"
      },
      "source": [
        "import matplotlib.pyplot as plt\r\n",
        "\r\n",
        "# train DATA 확인\r\n",
        "plt.scatter(X_train, Y_train)\r\n",
        "plt.show()\r\n",
        "\r\n",
        "# test DATA 확인\r\n",
        "plt.scatter(X_test, Y_test)\r\n",
        "plt.show()"
      ],
      "execution_count": null,
      "outputs": [
        {
          "output_type": "display_data",
          "data": {
            "image/png": "[encoded data removed]",
            "text/plain": [
              "<Figure size 432x288 with 1 Axes>"
            ]
          },
          "metadata": {
            "tags": [],
            "needs_background": "light"
          }
        },
        {
          "output_type": "display_data",
          "data": {
            "image/png": "[encoded data removed]",
            "text/plain": [
              "<Figure size 432x288 with 1 Axes>"
            ]
          },
          "metadata": {
            "tags": [],
            "needs_background": "light"
          }
        }
      ]
    },
    {
      "cell_type": "markdown",
      "metadata": {
        "id": "rBAO0c9oCTnZ"
      },
      "source": [
        "###Scikit Learning"
      ]
    },
    {
      "cell_type": "code",
      "metadata": {
        "id": "6Uo7DTKWpwHp"
      },
      "source": [
        "#@title hidden setting code {display-mode: \"form\"}\r\n",
        "\r\n",
        "#@markdown 공통 코드 부분{display-mode: \"form\"}\r\n",
        "\r\n",
        "import pandas as pd\r\n",
        "from google.colab import files\r\n",
        "\r\n",
        "DATA_SIZE = 200000\r\n",
        "\r\n",
        "data = pd.read_csv('/content/ai_study/testcase/weights_heights.csv')\r\n",
        "data = data.dropna().head(DATA_SIZE)\r\n",
        "\r\n",
        "from sklearn.model_selection import train_test_split\r\n",
        "\r\n",
        "Label_name = \"Weight\"\r\n",
        "\r\n",
        "X_train, X_test, Y_train, Y_test = train_test_split(data.drop(Label_name, axis = 1),data[Label_name], test_size = 0.2, shuffle = True)"
      ],
      "execution_count": null,
      "outputs": []
    },
    {
      "cell_type": "markdown",
      "metadata": {
        "id": "HKvGIe_06ToT"
      },
      "source": [
        "####LinearRegression Model 생성"
      ]
    },
    {
      "cell_type": "code",
      "metadata": {
        "id": "VDpuKeEo6asR"
      },
      "source": [
        "from sklearn.linear_model import LinearRegression\r\n",
        "\r\n",
        "# Model 생성\r\n",
        "lr = LinearRegression()"
      ],
      "execution_count": null,
      "outputs": []
    },
    {
      "cell_type": "markdown",
      "metadata": {
        "id": "nTHRSg-o6Sfm"
      },
      "source": [
        "#### Model 훈련"
      ]
    },
    {
      "cell_type": "code",
      "metadata": {
        "colab": {
          "base_uri": "https://localhost:8080/"
        },
        "id": "VbhQMtDO7QeO",
        "outputId": "e34f4a17-5081-4239-95c2-b21fe7f15c4e"
      },
      "source": [
        "lr.fit(X_train, Y_train)"
      ],
      "execution_count": null,
      "outputs": [
        {
          "output_type": "execute_result",
          "data": {
            "text/plain": [
              "LinearRegression(copy_X=True, fit_intercept=True, n_jobs=None, normalize=False)"
            ]
          },
          "metadata": {
            "tags": []
          },
          "execution_count": 19
        }
      ]
    },
    {
      "cell_type": "markdown",
      "metadata": {
        "id": "qzxQ1Kpl7ZfP"
      },
      "source": [
        "#### 정확도 확인"
      ]
    },
    {
      "cell_type": "code",
      "metadata": {
        "colab": {
          "base_uri": "https://localhost:8080/"
        },
        "id": "RC5IjcuH7b7V",
        "outputId": "71dca185-844c-48fd-b106-5be6049d02e6"
      },
      "source": [
        "lr.score(X_test, Y_test)"
      ],
      "execution_count": null,
      "outputs": [
        {
          "output_type": "execute_result",
          "data": {
            "text/plain": [
              "0.24925685274045328"
            ]
          },
          "metadata": {
            "tags": []
          },
          "execution_count": 21
        }
      ]
    },
    {
      "cell_type": "markdown",
      "metadata": {
        "id": "jvW3Ao1A7nbj"
      },
      "source": [
        "#### $W$와 $d$값 확인"
      ]
    },
    {
      "cell_type": "code",
      "metadata": {
        "colab": {
          "base_uri": "https://localhost:8080/"
        },
        "id": "YQF-4N607rsP",
        "outputId": "ae86ce06-09a0-41b2-a17e-8dd66b1a1620"
      },
      "source": [
        "# coef_ : W, intercept_ : d\r\n",
        "print(lr.coef_, lr.intercept_)"
      ],
      "execution_count": null,
      "outputs": [
        {
          "output_type": "stream",
          "text": [
            "[3.09588139] -83.42853119108895\n"
          ],
          "name": "stdout"
        }
      ]
    },
    {
      "cell_type": "markdown",
      "metadata": {
        "id": "h9PJSGyE9s_L"
      },
      "source": [
        "#### test DATA로 학습확인"
      ]
    },
    {
      "cell_type": "markdown",
      "metadata": {
        "id": "acDGNz5R-kLr"
      },
      "source": [
        "##### X_test의 predict로 그래프화"
      ]
    },
    {
      "cell_type": "code",
      "metadata": {
        "colab": {
          "base_uri": "https://localhost:8080/",
          "height": 315
        },
        "id": "58rDrVrT8PGL",
        "outputId": "390b563e-d8e7-4a14-87cd-3dadb04861d6"
      },
      "source": [
        "# X_test의 결과 예측\r\n",
        "predictions = lr.predict(X_test)\r\n",
        "print(predictions)\r\n",
        "\r\n",
        "# 결과값 그래프화\r\n",
        "plt.scatter(X_test, Y_test)\r\n",
        "plt.plot(X_test, predictions, 'r')\r\n",
        "plt.xlabel('x')\r\n",
        "plt.ylabel('y')\r\n",
        "plt.show()"
      ],
      "execution_count": null,
      "outputs": [
        {
          "output_type": "stream",
          "text": [
            "[123.8195523  120.28226013 138.96865968 ... 125.85045049 122.9267001\n",
            " 127.09149647]\n"
          ],
          "name": "stdout"
        },
        {
          "output_type": "display_data",
          "data": {
            "image/png": "[encoded data removed]",
            "text/plain": [
              "<Figure size 432x288 with 1 Axes>"
            ]
          },
          "metadata": {
            "tags": [],
            "needs_background": "light"
          }
        }
      ]
    },
    {
      "cell_type": "markdown",
      "metadata": {
        "id": "df_t2zSD-oug"
      },
      "source": [
        "##### 1차 방정식을 그래프화"
      ]
    },
    {
      "cell_type": "code",
      "metadata": {
        "colab": {
          "base_uri": "https://localhost:8080/",
          "height": 279
        },
        "id": "jOeb0V2D-dCF",
        "outputId": "5531248f-b5da-4b58-d5f7-7c260fabc249"
      },
      "source": [
        "plt.scatter(X_test, Y_test)\r\n",
        "# X * W + d 의 그래프화\r\n",
        "plt.plot(X_test, X_test * lr.coef_ + lr.intercept_, 'r')\r\n",
        "plt.xlabel('x')\r\n",
        "plt.ylabel('y')\r\n",
        "plt.show()"
      ],
      "execution_count": null,
      "outputs": [
        {
          "output_type": "display_data",
          "data": {
            "image/png": "[encoded data removed]",
            "text/plain": [
              "<Figure size 432x288 with 1 Axes>"
            ]
          },
          "metadata": {
            "tags": [],
            "needs_background": "light"
          }
        }
      ]
    },
    {
      "cell_type": "markdown",
      "metadata": {
        "id": "a6b8S8I09yyN"
      },
      "source": [
        "### Pytorch"
      ]
    },
    {
      "cell_type": "code",
      "metadata": {
        "id": "wCk5eKgRp71L"
      },
      "source": [
        "#@title hidden setting code {display-mode: \"form\"}\r\n",
        "\r\n",
        "#@markdown 공통 코드 부분{display-mode: \"form\"}\r\n",
        "\r\n",
        "\r\n",
        "import pandas as pd\r\n",
        "from google.colab import files\r\n",
        "\r\n",
        "DATA_SIZE = 2000\r\n",
        "\r\n",
        "data = pd.read_csv('/content/ai_study/testcase/weights_heights.csv')\r\n",
        "data = data.dropna().head(DATA_SIZE)\r\n",
        "\r\n",
        "from sklearn.model_selection import train_test_split\r\n",
        "\r\n",
        "Label_name = \"Weight\"\r\n",
        "\r\n",
        "X_train, X_test, Y_train, Y_test = train_test_split(data.drop(Label_name, axis = 1),data[Label_name], test_size = 0.2, shuffle = True)"
      ],
      "execution_count": null,
      "outputs": []
    },
    {
      "cell_type": "markdown",
      "metadata": {
        "id": "gn57vUOfrgsO"
      },
      "source": [
        "#### Numpy Data를 Tensor화"
      ]
    },
    {
      "cell_type": "code",
      "metadata": {
        "id": "3UvQ_gxKqv03"
      },
      "source": [
        "import torch\r\n",
        "import numpy as np\r\n",
        "\r\n",
        "#numpy의 모든 값을 float64형태로 통일시켜 변환함\r\n",
        "X_train = torch.from_numpy(X_train.astype(np.float64).values[:DATA_SIZE])\r\n",
        "X_test = torch.from_numpy(X_test.astype(np.float64).values[:DATA_SIZE])\r\n",
        "Y_train = torch.from_numpy(Y_train.astype(np.float64).values[:DATA_SIZE])\r\n",
        "Y_test = torch.from_numpy(Y_test.astype(np.float64).values[:DATA_SIZE])"
      ],
      "execution_count": null,
      "outputs": []
    },
    {
      "cell_type": "markdown",
      "metadata": {
        "id": "rSCKvYtDFQcF"
      },
      "source": [
        "#### MSE 확인"
      ]
    },
    {
      "cell_type": "code",
      "metadata": {
        "colab": {
          "base_uri": "https://localhost:8080/",
          "height": 265
        },
        "id": "eVKErktDhBhQ",
        "outputId": "4741c357-3778-4289-af6e-b8eb8bc3fdd2"
      },
      "source": [
        "import matplotlib.pyplot as plt\r\n",
        "\r\n",
        "# W_data : 0 ~ 10사이의 임의적인 W값\r\n",
        "# MSE : Cost 값\r\n",
        "W_data = []\r\n",
        "MSE = []\r\n",
        "MSE_Second = []\r\n",
        "for i in range(1000):\r\n",
        "  # W값 생성 및 W_data에 기록\r\n",
        "  W = torch.ones(1) * i /250\r\n",
        "  W_data.append(W)\r\n",
        "  \r\n",
        "  # 가설에 W를 대입하여 계산\r\n",
        "  hypothesis = X_train * W\r\n",
        "  # Error 계산(MSE) 및 MSE에 기록\r\n",
        "  MSE.append(torch.mean((Y_train - hypothesis)**2))\r\n",
        "\r\n",
        "# W에 따른 MSE 출력\r\n",
        "plt.plot(W_data, MSE, color = 'red')\r\n",
        "plt.show()"
      ],
      "execution_count": null,
      "outputs": [
        {
          "output_type": "display_data",
          "data": {
            "image/png": "[encoded data removed]",
            "text/plain": [
              "<Figure size 432x288 with 1 Axes>"
            ]
          },
          "metadata": {
            "tags": [],
            "needs_background": "light"
          }
        }
      ]
    },
    {
      "cell_type": "code",
      "metadata": {
        "colab": {
          "base_uri": "https://localhost:8080/",
          "height": 268
        },
        "id": "2FieQJ--EToD",
        "outputId": "61db6135-9163-4fa3-d599-f4c78b5b380e"
      },
      "source": [
        "import matplotlib.pyplot as plt\r\n",
        "\r\n",
        "# MSE : Cost 값\r\n",
        "W_data = []\r\n",
        "MSE = []\r\n",
        "MSE_Second = []\r\n",
        "for i in range(1000):\r\n",
        "  # W값 생성 및 W_data에 기록\r\n",
        "  W = torch.ones(1)*i*0.007 - 2\r\n",
        "  W_data.append(W)\r\n",
        "  \r\n",
        "  # 가설에 W를 대입하여 계산\r\n",
        "  hypothesis = X_train * 1.853 + W\r\n",
        "  # Error 계산(MSE) 및 MSE에 기록\r\n",
        "  MSE.append(torch.mean((Y_train - hypothesis)**2))\r\n",
        "\r\n",
        "# W에 따른 MSE 출력\r\n",
        "plt.plot(W_data, MSE, color = 'red')\r\n",
        "plt.show()"
      ],
      "execution_count": null,
      "outputs": [
        {
          "output_type": "display_data",
          "data": {
            "image/png": "[encoded data removed]",
            "text/plain": [
              "<Figure size 432x288 with 1 Axes>"
            ]
          },
          "metadata": {
            "tags": [],
            "needs_background": "light"
          }
        }
      ]
    },
    {
      "cell_type": "markdown",
      "metadata": {
        "id": "10TEGIr-FUFG"
      },
      "source": [
        "#### $W$와 $d$ 초기화"
      ]
    },
    {
      "cell_type": "code",
      "metadata": {
        "colab": {
          "base_uri": "https://localhost:8080/"
        },
        "id": "Jz_CmDgDFcsx",
        "outputId": "700a9750-e7c1-4b12-90e7-d42608c03286"
      },
      "source": [
        "# requires_grad : 학습을 통해 계속 값이 변경되는 값임을 명시\r\n",
        "# torch.zeros : 0으로 초기화된 행렬 값 생성\r\n",
        "W = torch.ones(1, requires_grad=True) \r\n",
        "b = torch.ones(1, requires_grad=True)\r\n",
        "\r\n",
        "print(W)\r\n",
        "print(b)"
      ],
      "execution_count": null,
      "outputs": [
        {
          "output_type": "stream",
          "text": [
            "tensor([1.], requires_grad=True)\n",
            "tensor([1.], requires_grad=True)\n"
          ],
          "name": "stdout"
        }
      ]
    },
    {
      "cell_type": "markdown",
      "metadata": {
        "id": "7FeorneyOZ3E"
      },
      "source": [
        "#### 가설 세우기"
      ]
    },
    {
      "cell_type": "markdown",
      "metadata": {
        "id": "hLKtJGFNObl3"
      },
      "source": [
        "1차 방정식을 만든다  \r\n",
        "$H(x) = Wx + b$\r\n",
        "\r\n",
        "    hypothesis = W * X_train + b"
      ]
    },
    {
      "cell_type": "markdown",
      "metadata": {
        "id": "ggF42SC1F6xF"
      },
      "source": [
        "#### 비용 함수 선언"
      ]
    },
    {
      "cell_type": "markdown",
      "metadata": {
        "id": "6yhT7PPBF9Lb"
      },
      "source": [
        "$$MSE = \\frac{1}{N}\\sum_{x=1}^N[y_x - H(x)]^2$$\r\n",
        "\r\n",
        "    cost = torch.mean((hypothesis - Y_train) ** 2)"
      ]
    },
    {
      "cell_type": "markdown",
      "metadata": {
        "id": "MZt9syc1PqI4"
      },
      "source": [
        "#### 경사 하강법 구현"
      ]
    },
    {
      "cell_type": "code",
      "metadata": {
        "colab": {
          "base_uri": "https://localhost:8080/"
        },
        "id": "J2J1laKkQ4xo",
        "outputId": "a3b491c3-1089-40d0-9731-0aff0f1567c4"
      },
      "source": [
        "import torch.optim as optim\r\n",
        "\r\n",
        "\r\n",
        "# 경사하강법을 SGD 방식으로 진행 optim.SGD(변화시킬 값, lr = learning rate)\r\n",
        "optimizer = optim.SGD([W, b], lr=0.0001)\r\n",
        "\r\n",
        "nb_epochs = 10000 # 원하는만큼 경사 하강법을 반복\r\n",
        "for epoch in range(nb_epochs + 1):\r\n",
        "\r\n",
        "    # H(x) 계산 H(x) = W * X + b <- 1차 방정식 구현\r\n",
        "    hypothesis = X_train * W + b\r\n",
        "\r\n",
        "    # cost 계산 <- MSE 계산\r\n",
        "    cost = torch.mean((Y_train - hypothesis) ** 2)\r\n",
        "\r\n",
        "    # 전단계에 미분했던 값을 지워 초기화\r\n",
        "    optimizer.zero_grad()\r\n",
        "    # cost값을 미분\r\n",
        "    cost.backward()\r\n",
        "    # 미분한 값을 활용해 optimizer의 변수(W, b) 갱신\r\n",
        "    optimizer.step()\r\n",
        "\r\n",
        "    # 100번마다 로그 출력\r\n",
        "    if epoch % 100 == 0:\r\n",
        "        print('Epoch {:4d}/{} W: {:.3f}, b: {:.3f} Cost: {:.6f}'.format(\r\n",
        "            epoch, nb_epochs, W.item(), b.item(), cost.item()\r\n",
        "        ))"
      ],
      "execution_count": null,
      "outputs": [
        {
          "output_type": "stream",
          "text": [
            "Epoch    0/10000 W: 1.793, b: 1.012 Cost: 3538.198784\n",
            "Epoch  100/10000 W: 1.855, b: 1.015 Cost: 145.861916\n",
            "Epoch  200/10000 W: 1.855, b: 1.017 Cost: 145.861509\n",
            "Epoch  300/10000 W: 1.855, b: 1.019 Cost: 145.861103\n",
            "Epoch  400/10000 W: 1.855, b: 1.021 Cost: 145.860697\n",
            "Epoch  500/10000 W: 1.855, b: 1.023 Cost: 145.860291\n",
            "Epoch  600/10000 W: 1.855, b: 1.025 Cost: 145.859884\n",
            "Epoch  700/10000 W: 1.855, b: 1.027 Cost: 145.859478\n",
            "Epoch  800/10000 W: 1.855, b: 1.029 Cost: 145.859072\n",
            "Epoch  900/10000 W: 1.855, b: 1.031 Cost: 145.858666\n",
            "Epoch 1000/10000 W: 1.855, b: 1.033 Cost: 145.858260\n",
            "Epoch 1100/10000 W: 1.855, b: 1.035 Cost: 145.857854\n",
            "Epoch 1200/10000 W: 1.855, b: 1.037 Cost: 145.857447\n",
            "Epoch 1300/10000 W: 1.855, b: 1.039 Cost: 145.857041\n",
            "Epoch 1400/10000 W: 1.855, b: 1.041 Cost: 145.856635\n",
            "Epoch 1500/10000 W: 1.855, b: 1.043 Cost: 145.856229\n",
            "Epoch 1600/10000 W: 1.855, b: 1.045 Cost: 145.855823\n",
            "Epoch 1700/10000 W: 1.855, b: 1.047 Cost: 145.855417\n",
            "Epoch 1800/10000 W: 1.855, b: 1.049 Cost: 145.855010\n",
            "Epoch 1900/10000 W: 1.855, b: 1.051 Cost: 145.854604\n",
            "Epoch 2000/10000 W: 1.855, b: 1.053 Cost: 145.854198\n",
            "Epoch 2100/10000 W: 1.855, b: 1.055 Cost: 145.853792\n",
            "Epoch 2200/10000 W: 1.855, b: 1.057 Cost: 145.853386\n",
            "Epoch 2300/10000 W: 1.855, b: 1.059 Cost: 145.852980\n",
            "Epoch 2400/10000 W: 1.855, b: 1.061 Cost: 145.852574\n",
            "Epoch 2500/10000 W: 1.855, b: 1.063 Cost: 145.852168\n",
            "Epoch 2600/10000 W: 1.855, b: 1.065 Cost: 145.851762\n",
            "Epoch 2700/10000 W: 1.855, b: 1.067 Cost: 145.851356\n",
            "Epoch 2800/10000 W: 1.855, b: 1.069 Cost: 145.850950\n",
            "Epoch 2900/10000 W: 1.855, b: 1.071 Cost: 145.850543\n",
            "Epoch 3000/10000 W: 1.855, b: 1.073 Cost: 145.850137\n",
            "Epoch 3100/10000 W: 1.855, b: 1.075 Cost: 145.849731\n",
            "Epoch 3200/10000 W: 1.855, b: 1.077 Cost: 145.849325\n",
            "Epoch 3300/10000 W: 1.854, b: 1.079 Cost: 145.848919\n",
            "Epoch 3400/10000 W: 1.854, b: 1.081 Cost: 145.848513\n",
            "Epoch 3500/10000 W: 1.854, b: 1.083 Cost: 145.848107\n",
            "Epoch 3600/10000 W: 1.854, b: 1.085 Cost: 145.847701\n",
            "Epoch 3700/10000 W: 1.854, b: 1.087 Cost: 145.847295\n",
            "Epoch 3800/10000 W: 1.854, b: 1.089 Cost: 145.846889\n",
            "Epoch 3900/10000 W: 1.854, b: 1.091 Cost: 145.846483\n",
            "Epoch 4000/10000 W: 1.854, b: 1.093 Cost: 145.846077\n",
            "Epoch 4100/10000 W: 1.854, b: 1.095 Cost: 145.845671\n",
            "Epoch 4200/10000 W: 1.854, b: 1.097 Cost: 145.845265\n",
            "Epoch 4300/10000 W: 1.854, b: 1.099 Cost: 145.844859\n",
            "Epoch 4400/10000 W: 1.854, b: 1.101 Cost: 145.844453\n",
            "Epoch 4500/10000 W: 1.854, b: 1.103 Cost: 145.844047\n",
            "Epoch 4600/10000 W: 1.854, b: 1.105 Cost: 145.843642\n",
            "Epoch 4700/10000 W: 1.854, b: 1.107 Cost: 145.843236\n",
            "Epoch 4800/10000 W: 1.854, b: 1.109 Cost: 145.842830\n",
            "Epoch 4900/10000 W: 1.854, b: 1.111 Cost: 145.842424\n",
            "Epoch 5000/10000 W: 1.854, b: 1.113 Cost: 145.842018\n",
            "Epoch 5100/10000 W: 1.854, b: 1.115 Cost: 145.841612\n",
            "Epoch 5200/10000 W: 1.854, b: 1.117 Cost: 145.841206\n",
            "Epoch 5300/10000 W: 1.854, b: 1.119 Cost: 145.840800\n",
            "Epoch 5400/10000 W: 1.854, b: 1.121 Cost: 145.840394\n",
            "Epoch 5500/10000 W: 1.854, b: 1.123 Cost: 145.839988\n",
            "Epoch 5600/10000 W: 1.854, b: 1.125 Cost: 145.839582\n",
            "Epoch 5700/10000 W: 1.854, b: 1.127 Cost: 145.839177\n",
            "Epoch 5800/10000 W: 1.854, b: 1.129 Cost: 145.838771\n",
            "Epoch 5900/10000 W: 1.854, b: 1.131 Cost: 145.838365\n",
            "Epoch 6000/10000 W: 1.854, b: 1.133 Cost: 145.837959\n",
            "Epoch 6100/10000 W: 1.854, b: 1.135 Cost: 145.837553\n",
            "Epoch 6200/10000 W: 1.854, b: 1.137 Cost: 145.837147\n",
            "Epoch 6300/10000 W: 1.854, b: 1.140 Cost: 145.836741\n",
            "Epoch 6400/10000 W: 1.854, b: 1.142 Cost: 145.836336\n",
            "Epoch 6500/10000 W: 1.854, b: 1.144 Cost: 145.835930\n",
            "Epoch 6600/10000 W: 1.854, b: 1.146 Cost: 145.835524\n",
            "Epoch 6700/10000 W: 1.853, b: 1.148 Cost: 145.835118\n",
            "Epoch 6800/10000 W: 1.853, b: 1.150 Cost: 145.834712\n",
            "Epoch 6900/10000 W: 1.853, b: 1.152 Cost: 145.834307\n",
            "Epoch 7000/10000 W: 1.853, b: 1.154 Cost: 145.833901\n",
            "Epoch 7100/10000 W: 1.853, b: 1.156 Cost: 145.833495\n",
            "Epoch 7200/10000 W: 1.853, b: 1.158 Cost: 145.833089\n",
            "Epoch 7300/10000 W: 1.853, b: 1.160 Cost: 145.832683\n",
            "Epoch 7400/10000 W: 1.853, b: 1.162 Cost: 145.832278\n",
            "Epoch 7500/10000 W: 1.853, b: 1.164 Cost: 145.831872\n",
            "Epoch 7600/10000 W: 1.853, b: 1.166 Cost: 145.831466\n",
            "Epoch 7700/10000 W: 1.853, b: 1.168 Cost: 145.831060\n",
            "Epoch 7800/10000 W: 1.853, b: 1.170 Cost: 145.830655\n",
            "Epoch 7900/10000 W: 1.853, b: 1.172 Cost: 145.830249\n",
            "Epoch 8000/10000 W: 1.853, b: 1.174 Cost: 145.829843\n",
            "Epoch 8100/10000 W: 1.853, b: 1.176 Cost: 145.829437\n",
            "Epoch 8200/10000 W: 1.853, b: 1.178 Cost: 145.829032\n",
            "Epoch 8300/10000 W: 1.853, b: 1.180 Cost: 145.828626\n",
            "Epoch 8400/10000 W: 1.853, b: 1.182 Cost: 145.828220\n",
            "Epoch 8500/10000 W: 1.853, b: 1.184 Cost: 145.827815\n",
            "Epoch 8600/10000 W: 1.853, b: 1.186 Cost: 145.827409\n",
            "Epoch 8700/10000 W: 1.853, b: 1.188 Cost: 145.827003\n",
            "Epoch 8800/10000 W: 1.853, b: 1.190 Cost: 145.826598\n",
            "Epoch 8900/10000 W: 1.853, b: 1.192 Cost: 145.826192\n",
            "Epoch 9000/10000 W: 1.853, b: 1.194 Cost: 145.825786\n",
            "Epoch 9100/10000 W: 1.853, b: 1.196 Cost: 145.825381\n",
            "Epoch 9200/10000 W: 1.853, b: 1.198 Cost: 145.824975\n",
            "Epoch 9300/10000 W: 1.853, b: 1.200 Cost: 145.824569\n",
            "Epoch 9400/10000 W: 1.853, b: 1.202 Cost: 145.824164\n",
            "Epoch 9500/10000 W: 1.853, b: 1.204 Cost: 145.823758\n",
            "Epoch 9600/10000 W: 1.853, b: 1.206 Cost: 145.823352\n",
            "Epoch 9700/10000 W: 1.853, b: 1.208 Cost: 145.822947\n",
            "Epoch 9800/10000 W: 1.853, b: 1.210 Cost: 145.822541\n",
            "Epoch 9900/10000 W: 1.853, b: 1.212 Cost: 145.822136\n",
            "Epoch 10000/10000 W: 1.853, b: 1.214 Cost: 145.821730\n"
          ],
          "name": "stdout"
        }
      ]
    },
    {
      "cell_type": "markdown",
      "metadata": {
        "id": "DVHruVOvE-RN"
      },
      "source": [
        "####Pytorch 전체 코드"
      ]
    },
    {
      "cell_type": "code",
      "metadata": {
        "id": "Q_roMmhRb42D",
        "colab": {
          "base_uri": "https://localhost:8080/",
          "height": 1000
        },
        "outputId": "8828d470-d7c2-4b30-f5b1-f926c99eb14b"
      },
      "source": [
        "import pandas as pd\r\n",
        "from google.colab import files\r\n",
        "\r\n",
        "DATA_SIZE = 1000\r\n",
        "\r\n",
        "data = pd.read_csv('/content/ai_study/testcase/Pearson.csv')\r\n",
        "data = data.dropna().head(DATA_SIZE)\r\n",
        "\r\n",
        "from sklearn.model_selection import train_test_split\r\n",
        "\r\n",
        "Label_name = \"Son\"\r\n",
        "\r\n",
        "X_train, X_test, Y_train, Y_test = train_test_split(data.drop(Label_name, axis = 1),data[Label_name], test_size = 0.2, shuffle = True)\r\n",
        "\r\n",
        "import torch\r\n",
        "import numpy as np\r\n",
        "\r\n",
        "X_train = torch.from_numpy(X_train.astype(np.float64).values[:DATA_SIZE])\r\n",
        "X_test = torch.from_numpy(X_test.astype(np.float64).values[:DATA_SIZE])\r\n",
        "Y_train = torch.from_numpy(Y_train.astype(np.float64).values[:DATA_SIZE])\r\n",
        "Y_test = torch.from_numpy(Y_test.astype(np.float64).values[:DATA_SIZE])\r\n",
        "\r\n",
        "import matplotlib.pyplot as plt\r\n",
        "# W_data : 0 ~ 10사이의 임의적인 W값\r\n",
        "# MSE : Cost 값\r\n",
        "W_data = []\r\n",
        "MSE = []\r\n",
        "for i in range(1000):\r\n",
        "  # W값 생성 및 W_data에 기록\r\n",
        "  W = torch.ones(1) * i /250\r\n",
        "  W_data.append(W)\r\n",
        "  \r\n",
        "  # 가설에 W를 대입하여 계산\r\n",
        "  hypothesis = X_train * W\r\n",
        "  # Error 계산(MSE) 및 MSE에 기록\r\n",
        "  MSE.append(torch.mean((Y_train - hypothesis)**2))\r\n",
        "# W에 따른 MSE 출력\r\n",
        "plt.plot(W_data, MSE, color = 'red')\r\n",
        "plt.show()\r\n",
        "\r\n",
        "# MSE : Cost 값\r\n",
        "W_data = []\r\n",
        "MSE = []\r\n",
        "for i in range(1000):\r\n",
        "  # W값 생성 및 W_data에 기록\r\n",
        "  W = torch.ones(1)*i*0.001 - 0.2\r\n",
        "  W_data.append(W)\r\n",
        "  \r\n",
        "  # 가설에 W를 대입하여 계산\r\n",
        "  hypothesis = X_train * 1.012 + W\r\n",
        "  # Error 계산(MSE) 및 MSE에 기록\r\n",
        "  MSE.append(torch.mean((Y_train - hypothesis)**2))\r\n",
        "# W에 따른 MSE 출력\r\n",
        "plt.plot(W_data, MSE, color = 'red')\r\n",
        "plt.show()\r\n",
        "\r\n",
        "# requires_grad : 학습을 통해 계속 값이 변경되는 값임을 명시\r\n",
        "# torch.zeros : 0으로 초기화된 행렬 값 생성\r\n",
        "W = torch.zeros(1, requires_grad=True) \r\n",
        "b = torch.zeros(1, requires_grad=True)\r\n",
        "\r\n",
        "print(W)\r\n",
        "print(b)\r\n",
        "\r\n",
        "import torch.optim as optim\r\n",
        "\r\n",
        "\r\n",
        "# 경사하강법을 SGD 방식으로 진행 optim.SGD(변화시킬 값, lr = learning rate)\r\n",
        "optimizer = optim.SGD([W, b], lr=0.0000005)\r\n",
        "\r\n",
        "epoch_list = []\r\n",
        "W_list = []\r\n",
        "b_list = []\r\n",
        "cost_list = []\r\n",
        "\r\n",
        "nb_epochs = 1000 # 원하는만큼 경사 하강법을 반복\r\n",
        "for epoch in range(nb_epochs + 1):\r\n",
        "\r\n",
        "    # H(x) 계산 H(x) = W * X + b <- 1차 방정식 구현\r\n",
        "    hypothesis = X_train * W + b\r\n",
        "\r\n",
        "    # cost 계산 <- MSE 계산\r\n",
        "    cost = torch.mean((Y_train - hypothesis) ** 2)\r\n",
        "\r\n",
        "    # 전단계에 미분했던 값을 지워 초기화\r\n",
        "    optimizer.zero_grad()\r\n",
        "    # cost값을 미분\r\n",
        "    cost.backward()\r\n",
        "    # 미분한 값을 활용해 optimizer의 변수(W, b) 갱신\r\n",
        "    optimizer.step()\r\n",
        "\r\n",
        "    # 100번마다 로그 출력\r\n",
        "    if epoch % 100 == 0:\r\n",
        "        print('Epoch {:4d}/{} W: {:.5f}, b: {:.5f} Cost: {:.6f}'.format(\r\n",
        "            epoch, nb_epochs, W.item(), b.item(), cost.item()\r\n",
        "        ))\r\n",
        "    epoch_list.append(epoch)\r\n",
        "    W_list.append(W.item())\r\n",
        "    b_list.append(b.item())\r\n",
        "    cost_list.append(cost.item())\r\n",
        "\r\n",
        "\r\n",
        "plt.plot(epoch_list, W_list, color = 'red')\r\n",
        "plt.show()\r\n",
        "plt.plot(epoch_list, b_list, color = 'red')\r\n",
        "plt.show()\r\n",
        "plt.plot(epoch_list, cost_list, color = 'red')\r\n",
        "plt.show()\r\n",
        "\r\n",
        "plt.scatter(X_test, Y_test)\r\n",
        "# X * W + d 의 그래프화\r\n",
        "plt.plot(X_test, X_test * W.item() + b.item(), 'r')\r\n",
        "plt.xlabel('Father')\r\n",
        "plt.ylabel('Son')\r\n",
        "plt.show()"
      ],
      "execution_count": 23,
      "outputs": [
        {
          "output_type": "display_data",
          "data": {
            "image/png": "[encoded data removed]",
            "text/plain": [
              "<Figure size 432x288 with 1 Axes>"
            ]
          },
          "metadata": {
            "tags": [],
            "needs_background": "light"
          }
        },
        {
          "output_type": "display_data",
          "data": {
            "image/png": "[encoded data removed]",
            "text/plain": [
              "<Figure size 432x288 with 1 Axes>"
            ]
          },
          "metadata": {
            "tags": [],
            "needs_background": "light"
          }
        },
        {
          "output_type": "stream",
          "text": [
            "tensor([0.], requires_grad=True)\n",
            "tensor([0.], requires_grad=True)\n",
            "Epoch    0/1000 W: 0.02979, b: 0.00017 Cost: 30249.982887\n",
            "Epoch  100/1000 W: 0.96265, b: 0.00564 Cost: 172.317694\n",
            "Epoch  200/1000 W: 1.00968, b: 0.00594 Cost: 95.855946\n",
            "Epoch  300/1000 W: 1.01205, b: 0.00598 Cost: 95.661575\n",
            "Epoch  400/1000 W: 1.01217, b: 0.00601 Cost: 95.661066\n",
            "Epoch  500/1000 W: 1.01218, b: 0.00604 Cost: 95.661049\n",
            "Epoch  600/1000 W: 1.01218, b: 0.00606 Cost: 95.661033\n",
            "Epoch  700/1000 W: 1.01218, b: 0.00609 Cost: 95.661018\n",
            "Epoch  800/1000 W: 1.01218, b: 0.00612 Cost: 95.661002\n",
            "Epoch  900/1000 W: 1.01218, b: 0.00615 Cost: 95.660986\n",
            "Epoch 1000/1000 W: 1.01218, b: 0.00618 Cost: 95.660970\n"
          ],
          "name": "stdout"
        },
        {
          "output_type": "display_data",
          "data": {
            "image/png": "[encoded data removed]",
            "text/plain": [
              "<Figure size 432x288 with 1 Axes>"
            ]
          },
          "metadata": {
            "tags": [],
            "needs_background": "light"
          }
        },
        {
          "output_type": "display_data",
          "data": {
            "image/png": "[encoded data removed]",
            "text/plain": [
              "<Figure size 432x288 with 1 Axes>"
            ]
          },
          "metadata": {
            "tags": [],
            "needs_background": "light"
          }
        },
        {
          "output_type": "display_data",
          "data": {
            "image/png": "[encoded data removed]",
            "text/plain": [
              "<Figure size 432x288 with 1 Axes>"
            ]
          },
          "metadata": {
            "tags": [],
            "needs_background": "light"
          }
        },
        {
          "output_type": "display_data",
          "data": {
            "image/png": "[encoded data removed]",
            "text/plain": [
              "<Figure size 432x288 with 1 Axes>"
            ]
          },
          "metadata": {
            "tags": [],
            "needs_background": "light"
          }
        }
      ]
    }
  ]
}